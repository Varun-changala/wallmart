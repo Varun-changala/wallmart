{
 "cells": [
  {
   "cell_type": "markdown",
   "metadata": {},
   "source": [
    "# <font color='blue'>Walmart Trip Type Classification Problem</font>"
   ]
  },
  {
   "cell_type": "markdown",
   "metadata": {},
   "source": [
    "## Problem Definition"
   ]
  },
  {
   "cell_type": "markdown",
   "metadata": {},
   "source": [
    "##### Walmart is willing to improve customers' shopping experiences by segmenting their store visits into different trip types. The purpose is to find the customer's intent to given them a more personalized experience"
   ]
  },
  {
   "cell_type": "code",
   "execution_count": 1,
   "metadata": {},
   "outputs": [
    {
     "data": {
      "text/plain": [
       "'/Users/yashodaagrawal/Desktop/Bikram/Sertis'"
      ]
     },
     "execution_count": 1,
     "metadata": {},
     "output_type": "execute_result"
    }
   ],
   "source": [
    "# Setting the working directory\n",
    "import os\n",
    "os.chdir(\"/Users/yashodaagrawal/Desktop/Bikram/Sertis/\")\n",
    "os.getcwd()"
   ]
  },
  {
   "cell_type": "code",
   "execution_count": 2,
   "metadata": {},
   "outputs": [],
   "source": [
    "# Import necessary libraries\n",
    "import matplotlib.pyplot as plt\n",
    "import pandas as pd\n",
    "import numpy as np\n",
    "import seaborn as sns\n",
    "%matplotlib inline"
   ]
  },
  {
   "cell_type": "code",
   "execution_count": 3,
   "metadata": {},
   "outputs": [],
   "source": [
    "# In the Kaggle site, Walmart has mentioned that it is a transactional dataset of the items customers have purchased \n",
    "Trip_data = pd.read_csv(\"train.csv\")"
   ]
  },
  {
   "cell_type": "markdown",
   "metadata": {},
   "source": [
    "# Exploratory Analysis"
   ]
  },
  {
   "cell_type": "code",
   "execution_count": 4,
   "metadata": {},
   "outputs": [
    {
     "data": {
      "text/html": [
       "<div>\n",
       "<style scoped>\n",
       "    .dataframe tbody tr th:only-of-type {\n",
       "        vertical-align: middle;\n",
       "    }\n",
       "\n",
       "    .dataframe tbody tr th {\n",
       "        vertical-align: top;\n",
       "    }\n",
       "\n",
       "    .dataframe thead th {\n",
       "        text-align: right;\n",
       "    }\n",
       "</style>\n",
       "<table border=\"1\" class=\"dataframe\">\n",
       "  <thead>\n",
       "    <tr style=\"text-align: right;\">\n",
       "      <th></th>\n",
       "      <th>TripType</th>\n",
       "      <th>VisitNumber</th>\n",
       "      <th>Weekday</th>\n",
       "      <th>Upc</th>\n",
       "      <th>ScanCount</th>\n",
       "      <th>DepartmentDescription</th>\n",
       "      <th>FinelineNumber</th>\n",
       "    </tr>\n",
       "  </thead>\n",
       "  <tbody>\n",
       "    <tr>\n",
       "      <th>0</th>\n",
       "      <td>999</td>\n",
       "      <td>5</td>\n",
       "      <td>Friday</td>\n",
       "      <td>6.811315e+10</td>\n",
       "      <td>-1</td>\n",
       "      <td>FINANCIAL SERVICES</td>\n",
       "      <td>1000.0</td>\n",
       "    </tr>\n",
       "    <tr>\n",
       "      <th>1</th>\n",
       "      <td>30</td>\n",
       "      <td>7</td>\n",
       "      <td>Friday</td>\n",
       "      <td>6.053882e+10</td>\n",
       "      <td>1</td>\n",
       "      <td>SHOES</td>\n",
       "      <td>8931.0</td>\n",
       "    </tr>\n",
       "    <tr>\n",
       "      <th>2</th>\n",
       "      <td>30</td>\n",
       "      <td>7</td>\n",
       "      <td>Friday</td>\n",
       "      <td>7.410811e+09</td>\n",
       "      <td>1</td>\n",
       "      <td>PERSONAL CARE</td>\n",
       "      <td>4504.0</td>\n",
       "    </tr>\n",
       "    <tr>\n",
       "      <th>3</th>\n",
       "      <td>26</td>\n",
       "      <td>8</td>\n",
       "      <td>Friday</td>\n",
       "      <td>2.238404e+09</td>\n",
       "      <td>2</td>\n",
       "      <td>PAINT AND ACCESSORIES</td>\n",
       "      <td>3565.0</td>\n",
       "    </tr>\n",
       "    <tr>\n",
       "      <th>4</th>\n",
       "      <td>26</td>\n",
       "      <td>8</td>\n",
       "      <td>Friday</td>\n",
       "      <td>2.006614e+09</td>\n",
       "      <td>2</td>\n",
       "      <td>PAINT AND ACCESSORIES</td>\n",
       "      <td>1017.0</td>\n",
       "    </tr>\n",
       "    <tr>\n",
       "      <th>5</th>\n",
       "      <td>26</td>\n",
       "      <td>8</td>\n",
       "      <td>Friday</td>\n",
       "      <td>2.006619e+09</td>\n",
       "      <td>2</td>\n",
       "      <td>PAINT AND ACCESSORIES</td>\n",
       "      <td>1017.0</td>\n",
       "    </tr>\n",
       "    <tr>\n",
       "      <th>6</th>\n",
       "      <td>26</td>\n",
       "      <td>8</td>\n",
       "      <td>Friday</td>\n",
       "      <td>2.006614e+09</td>\n",
       "      <td>1</td>\n",
       "      <td>PAINT AND ACCESSORIES</td>\n",
       "      <td>1017.0</td>\n",
       "    </tr>\n",
       "    <tr>\n",
       "      <th>7</th>\n",
       "      <td>26</td>\n",
       "      <td>8</td>\n",
       "      <td>Friday</td>\n",
       "      <td>7.004803e+09</td>\n",
       "      <td>1</td>\n",
       "      <td>PAINT AND ACCESSORIES</td>\n",
       "      <td>2802.0</td>\n",
       "    </tr>\n",
       "    <tr>\n",
       "      <th>8</th>\n",
       "      <td>26</td>\n",
       "      <td>8</td>\n",
       "      <td>Friday</td>\n",
       "      <td>2.238495e+09</td>\n",
       "      <td>1</td>\n",
       "      <td>PAINT AND ACCESSORIES</td>\n",
       "      <td>4501.0</td>\n",
       "    </tr>\n",
       "    <tr>\n",
       "      <th>9</th>\n",
       "      <td>26</td>\n",
       "      <td>8</td>\n",
       "      <td>Friday</td>\n",
       "      <td>2.238400e+09</td>\n",
       "      <td>-1</td>\n",
       "      <td>PAINT AND ACCESSORIES</td>\n",
       "      <td>3565.0</td>\n",
       "    </tr>\n",
       "    <tr>\n",
       "      <th>10</th>\n",
       "      <td>26</td>\n",
       "      <td>8</td>\n",
       "      <td>Friday</td>\n",
       "      <td>5.200010e+09</td>\n",
       "      <td>1</td>\n",
       "      <td>DSD GROCERY</td>\n",
       "      <td>4606.0</td>\n",
       "    </tr>\n",
       "    <tr>\n",
       "      <th>11</th>\n",
       "      <td>26</td>\n",
       "      <td>8</td>\n",
       "      <td>Friday</td>\n",
       "      <td>8.867930e+10</td>\n",
       "      <td>2</td>\n",
       "      <td>PAINT AND ACCESSORIES</td>\n",
       "      <td>3504.0</td>\n",
       "    </tr>\n",
       "    <tr>\n",
       "      <th>12</th>\n",
       "      <td>26</td>\n",
       "      <td>8</td>\n",
       "      <td>Friday</td>\n",
       "      <td>2.200600e+10</td>\n",
       "      <td>1</td>\n",
       "      <td>MEAT - FRESH &amp; FROZEN</td>\n",
       "      <td>6009.0</td>\n",
       "    </tr>\n",
       "    <tr>\n",
       "      <th>13</th>\n",
       "      <td>26</td>\n",
       "      <td>8</td>\n",
       "      <td>Friday</td>\n",
       "      <td>2.236760e+09</td>\n",
       "      <td>1</td>\n",
       "      <td>PAINT AND ACCESSORIES</td>\n",
       "      <td>7.0</td>\n",
       "    </tr>\n",
       "    <tr>\n",
       "      <th>14</th>\n",
       "      <td>26</td>\n",
       "      <td>8</td>\n",
       "      <td>Friday</td>\n",
       "      <td>8.867930e+10</td>\n",
       "      <td>-1</td>\n",
       "      <td>PAINT AND ACCESSORIES</td>\n",
       "      <td>3504.0</td>\n",
       "    </tr>\n",
       "    <tr>\n",
       "      <th>15</th>\n",
       "      <td>26</td>\n",
       "      <td>8</td>\n",
       "      <td>Friday</td>\n",
       "      <td>2.238400e+09</td>\n",
       "      <td>2</td>\n",
       "      <td>PAINT AND ACCESSORIES</td>\n",
       "      <td>3565.0</td>\n",
       "    </tr>\n",
       "    <tr>\n",
       "      <th>16</th>\n",
       "      <td>26</td>\n",
       "      <td>8</td>\n",
       "      <td>Friday</td>\n",
       "      <td>3.019294e+09</td>\n",
       "      <td>1</td>\n",
       "      <td>PAINT AND ACCESSORIES</td>\n",
       "      <td>2801.0</td>\n",
       "    </tr>\n",
       "    <tr>\n",
       "      <th>17</th>\n",
       "      <td>26</td>\n",
       "      <td>8</td>\n",
       "      <td>Friday</td>\n",
       "      <td>7.245041e+10</td>\n",
       "      <td>1</td>\n",
       "      <td>PAINT AND ACCESSORIES</td>\n",
       "      <td>1028.0</td>\n",
       "    </tr>\n",
       "    <tr>\n",
       "      <th>18</th>\n",
       "      <td>26</td>\n",
       "      <td>8</td>\n",
       "      <td>Friday</td>\n",
       "      <td>2.554150e+10</td>\n",
       "      <td>2</td>\n",
       "      <td>DAIRY</td>\n",
       "      <td>1305.0</td>\n",
       "    </tr>\n",
       "    <tr>\n",
       "      <th>19</th>\n",
       "      <td>26</td>\n",
       "      <td>8</td>\n",
       "      <td>Friday</td>\n",
       "      <td>2.310011e+09</td>\n",
       "      <td>1</td>\n",
       "      <td>PETS AND SUPPLIES</td>\n",
       "      <td>3300.0</td>\n",
       "    </tr>\n",
       "  </tbody>\n",
       "</table>\n",
       "</div>"
      ],
      "text/plain": [
       "    TripType  VisitNumber Weekday           Upc  ScanCount  \\\n",
       "0        999            5  Friday  6.811315e+10         -1   \n",
       "1         30            7  Friday  6.053882e+10          1   \n",
       "2         30            7  Friday  7.410811e+09          1   \n",
       "3         26            8  Friday  2.238404e+09          2   \n",
       "4         26            8  Friday  2.006614e+09          2   \n",
       "5         26            8  Friday  2.006619e+09          2   \n",
       "6         26            8  Friday  2.006614e+09          1   \n",
       "7         26            8  Friday  7.004803e+09          1   \n",
       "8         26            8  Friday  2.238495e+09          1   \n",
       "9         26            8  Friday  2.238400e+09         -1   \n",
       "10        26            8  Friday  5.200010e+09          1   \n",
       "11        26            8  Friday  8.867930e+10          2   \n",
       "12        26            8  Friday  2.200600e+10          1   \n",
       "13        26            8  Friday  2.236760e+09          1   \n",
       "14        26            8  Friday  8.867930e+10         -1   \n",
       "15        26            8  Friday  2.238400e+09          2   \n",
       "16        26            8  Friday  3.019294e+09          1   \n",
       "17        26            8  Friday  7.245041e+10          1   \n",
       "18        26            8  Friday  2.554150e+10          2   \n",
       "19        26            8  Friday  2.310011e+09          1   \n",
       "\n",
       "    DepartmentDescription  FinelineNumber  \n",
       "0      FINANCIAL SERVICES          1000.0  \n",
       "1                   SHOES          8931.0  \n",
       "2           PERSONAL CARE          4504.0  \n",
       "3   PAINT AND ACCESSORIES          3565.0  \n",
       "4   PAINT AND ACCESSORIES          1017.0  \n",
       "5   PAINT AND ACCESSORIES          1017.0  \n",
       "6   PAINT AND ACCESSORIES          1017.0  \n",
       "7   PAINT AND ACCESSORIES          2802.0  \n",
       "8   PAINT AND ACCESSORIES          4501.0  \n",
       "9   PAINT AND ACCESSORIES          3565.0  \n",
       "10            DSD GROCERY          4606.0  \n",
       "11  PAINT AND ACCESSORIES          3504.0  \n",
       "12  MEAT - FRESH & FROZEN          6009.0  \n",
       "13  PAINT AND ACCESSORIES             7.0  \n",
       "14  PAINT AND ACCESSORIES          3504.0  \n",
       "15  PAINT AND ACCESSORIES          3565.0  \n",
       "16  PAINT AND ACCESSORIES          2801.0  \n",
       "17  PAINT AND ACCESSORIES          1028.0  \n",
       "18                  DAIRY          1305.0  \n",
       "19      PETS AND SUPPLIES          3300.0  "
      ]
     },
     "execution_count": 4,
     "metadata": {},
     "output_type": "execute_result"
    }
   ],
   "source": [
    "# See the first 20 records to get a hang of the dataset\n",
    "Trip_data.head(20)"
   ]
  },
  {
   "cell_type": "markdown",
   "metadata": {},
   "source": [
    "##### After some internet research, following are the feature descriptions\n",
    "- TripType : a categorical id representing the type of shopping trip the customer made. This is the ground truth to predict\n",
    "- VisitNumber : an id corresponding to a single trip by a single customer\n",
    "- Weekday : the weekday of the trip\n",
    "- Upc : the UPC number of the product purchased\n",
    "- ScanCount : the number of the given item that was purchased. A negative value indicates a product return\n",
    "- DepartmentDescription : a high-level description of the item's department\n",
    "- FinelineNumber : a more refined category for each of the products, created by Walmart"
   ]
  },
  {
   "cell_type": "code",
   "execution_count": 5,
   "metadata": {},
   "outputs": [
    {
     "name": "stdout",
     "output_type": "stream",
     "text": [
      "Total number of records  :647054\n",
      "Total number of Columns  :7\n"
     ]
    }
   ],
   "source": [
    "# Total number of rows and columns in the datasset\n",
    " \n",
    "print(f'Total number of records  :{Trip_data.shape[0]}')\n",
    "print(f'Total number of Columns  :{Trip_data.shape[1]}')"
   ]
  },
  {
   "cell_type": "code",
   "execution_count": 6,
   "metadata": {},
   "outputs": [
    {
     "data": {
      "text/plain": [
       "TripType                   int64\n",
       "VisitNumber                int64\n",
       "Weekday                   object\n",
       "Upc                      float64\n",
       "ScanCount                  int64\n",
       "DepartmentDescription     object\n",
       "FinelineNumber           float64\n",
       "dtype: object"
      ]
     },
     "execution_count": 6,
     "metadata": {},
     "output_type": "execute_result"
    }
   ],
   "source": [
    "Trip_data.dtypes"
   ]
  },
  {
   "cell_type": "code",
   "execution_count": 7,
   "metadata": {},
   "outputs": [
    {
     "name": "stdout",
     "output_type": "stream",
     "text": [
      "Upc 4129\n",
      "DepartmentDescription 1361\n",
      "FinelineNumber 4129\n"
     ]
    }
   ],
   "source": [
    "#report number of missing values for each feature\n",
    "for col in Trip_data.columns:\n",
    "    missing_series = Trip_data[col][Trip_data[col].isna() == True]\n",
    "    if missing_series.size > 0:\n",
    "        print(col, missing_series.size)"
   ]
  },
  {
   "cell_type": "code",
   "execution_count": 8,
   "metadata": {},
   "outputs": [
    {
     "data": {
      "text/html": [
       "<div>\n",
       "<style scoped>\n",
       "    .dataframe tbody tr th:only-of-type {\n",
       "        vertical-align: middle;\n",
       "    }\n",
       "\n",
       "    .dataframe tbody tr th {\n",
       "        vertical-align: top;\n",
       "    }\n",
       "\n",
       "    .dataframe thead th {\n",
       "        text-align: right;\n",
       "    }\n",
       "</style>\n",
       "<table border=\"1\" class=\"dataframe\">\n",
       "  <thead>\n",
       "    <tr style=\"text-align: right;\">\n",
       "      <th></th>\n",
       "      <th>TripType</th>\n",
       "      <th>VisitNumber</th>\n",
       "      <th>Weekday</th>\n",
       "      <th>Upc</th>\n",
       "      <th>ScanCount</th>\n",
       "      <th>DepartmentDescription</th>\n",
       "      <th>FinelineNumber</th>\n",
       "    </tr>\n",
       "  </thead>\n",
       "  <tbody>\n",
       "    <tr>\n",
       "      <th>55</th>\n",
       "      <td>42</td>\n",
       "      <td>19</td>\n",
       "      <td>Friday</td>\n",
       "      <td>7.675336e+09</td>\n",
       "      <td>1</td>\n",
       "      <td>IMPULSE MERCHANDISE</td>\n",
       "      <td>8904.0</td>\n",
       "    </tr>\n",
       "    <tr>\n",
       "      <th>59</th>\n",
       "      <td>42</td>\n",
       "      <td>19</td>\n",
       "      <td>Friday</td>\n",
       "      <td>7.675336e+09</td>\n",
       "      <td>1</td>\n",
       "      <td>IMPULSE MERCHANDISE</td>\n",
       "      <td>8904.0</td>\n",
       "    </tr>\n",
       "    <tr>\n",
       "      <th>134</th>\n",
       "      <td>26</td>\n",
       "      <td>61</td>\n",
       "      <td>Friday</td>\n",
       "      <td>7.535309e+09</td>\n",
       "      <td>1</td>\n",
       "      <td>HARDWARE</td>\n",
       "      <td>5525.0</td>\n",
       "    </tr>\n",
       "    <tr>\n",
       "      <th>135</th>\n",
       "      <td>26</td>\n",
       "      <td>61</td>\n",
       "      <td>Friday</td>\n",
       "      <td>7.535309e+09</td>\n",
       "      <td>1</td>\n",
       "      <td>HARDWARE</td>\n",
       "      <td>5525.0</td>\n",
       "    </tr>\n",
       "    <tr>\n",
       "      <th>460</th>\n",
       "      <td>8</td>\n",
       "      <td>225</td>\n",
       "      <td>Friday</td>\n",
       "      <td>4.093000e+03</td>\n",
       "      <td>1</td>\n",
       "      <td>PRODUCE</td>\n",
       "      <td>4008.0</td>\n",
       "    </tr>\n",
       "    <tr>\n",
       "      <th>461</th>\n",
       "      <td>8</td>\n",
       "      <td>225</td>\n",
       "      <td>Friday</td>\n",
       "      <td>4.093000e+03</td>\n",
       "      <td>1</td>\n",
       "      <td>PRODUCE</td>\n",
       "      <td>4008.0</td>\n",
       "    </tr>\n",
       "    <tr>\n",
       "      <th>568</th>\n",
       "      <td>40</td>\n",
       "      <td>274</td>\n",
       "      <td>Friday</td>\n",
       "      <td>4.127197e+09</td>\n",
       "      <td>1</td>\n",
       "      <td>FROZEN FOODS</td>\n",
       "      <td>9100.0</td>\n",
       "    </tr>\n",
       "    <tr>\n",
       "      <th>576</th>\n",
       "      <td>40</td>\n",
       "      <td>274</td>\n",
       "      <td>Friday</td>\n",
       "      <td>4.127197e+09</td>\n",
       "      <td>1</td>\n",
       "      <td>FROZEN FOODS</td>\n",
       "      <td>9100.0</td>\n",
       "    </tr>\n",
       "    <tr>\n",
       "      <th>604</th>\n",
       "      <td>40</td>\n",
       "      <td>283</td>\n",
       "      <td>Friday</td>\n",
       "      <td>7.940076e+09</td>\n",
       "      <td>1</td>\n",
       "      <td>PERSONAL CARE</td>\n",
       "      <td>1.0</td>\n",
       "    </tr>\n",
       "    <tr>\n",
       "      <th>610</th>\n",
       "      <td>40</td>\n",
       "      <td>283</td>\n",
       "      <td>Friday</td>\n",
       "      <td>7.940076e+09</td>\n",
       "      <td>1</td>\n",
       "      <td>PERSONAL CARE</td>\n",
       "      <td>1.0</td>\n",
       "    </tr>\n",
       "  </tbody>\n",
       "</table>\n",
       "</div>"
      ],
      "text/plain": [
       "     TripType  VisitNumber Weekday           Upc  ScanCount  \\\n",
       "55         42           19  Friday  7.675336e+09          1   \n",
       "59         42           19  Friday  7.675336e+09          1   \n",
       "134        26           61  Friday  7.535309e+09          1   \n",
       "135        26           61  Friday  7.535309e+09          1   \n",
       "460         8          225  Friday  4.093000e+03          1   \n",
       "461         8          225  Friday  4.093000e+03          1   \n",
       "568        40          274  Friday  4.127197e+09          1   \n",
       "576        40          274  Friday  4.127197e+09          1   \n",
       "604        40          283  Friday  7.940076e+09          1   \n",
       "610        40          283  Friday  7.940076e+09          1   \n",
       "\n",
       "    DepartmentDescription  FinelineNumber  \n",
       "55    IMPULSE MERCHANDISE          8904.0  \n",
       "59    IMPULSE MERCHANDISE          8904.0  \n",
       "134              HARDWARE          5525.0  \n",
       "135              HARDWARE          5525.0  \n",
       "460               PRODUCE          4008.0  \n",
       "461               PRODUCE          4008.0  \n",
       "568          FROZEN FOODS          9100.0  \n",
       "576          FROZEN FOODS          9100.0  \n",
       "604         PERSONAL CARE             1.0  \n",
       "610         PERSONAL CARE             1.0  "
      ]
     },
     "execution_count": 8,
     "metadata": {},
     "output_type": "execute_result"
    }
   ],
   "source": [
    "# See if there are duplicated records in the dataframe\n",
    "Trip_data[Trip_data.duplicated(keep=False)][:10]"
   ]
  },
  {
   "cell_type": "code",
   "execution_count": 9,
   "metadata": {},
   "outputs": [
    {
     "name": "stdout",
     "output_type": "stream",
     "text": [
      "Total number of records  :641350\n",
      "Total number of Columns  :7\n"
     ]
    }
   ],
   "source": [
    "# Since there are duplicate records we can see in above output, we should drop them\n",
    "# If need be, we could introduce them back in case of Oversampling requirement, later\n",
    "Trip_data = Trip_data.drop_duplicates()\n",
    "\n",
    "# Total number of rows and columns in the datasset after removing duplicates\n",
    "print(f'Total number of records  :{Trip_data.shape[0]}')\n",
    "print(f'Total number of Columns  :{Trip_data.shape[1]}')"
   ]
  },
  {
   "cell_type": "code",
   "execution_count": 10,
   "metadata": {},
   "outputs": [
    {
     "name": "stdout",
     "output_type": "stream",
     "text": [
      "Upc 2878\n",
      "DepartmentDescription 1266\n",
      "FinelineNumber 2878\n"
     ]
    }
   ],
   "source": [
    "# Report number of missing values for each feature\n",
    "for col in Trip_data.columns:\n",
    "    missing_series = Trip_data[col][Trip_data[col].isna() == True]\n",
    "    if missing_series.size > 0:\n",
    "        print(col, missing_series.size)"
   ]
  },
  {
   "cell_type": "code",
   "execution_count": 11,
   "metadata": {},
   "outputs": [],
   "source": [
    "# Lookin at this missing value result, and comparing to the missing value result obtained before\n",
    "# it is obvious that there were a lot of NA or NaN values common in many columns"
   ]
  },
  {
   "cell_type": "code",
   "execution_count": 12,
   "metadata": {},
   "outputs": [
    {
     "data": {
      "text/html": [
       "<div>\n",
       "<style scoped>\n",
       "    .dataframe tbody tr th:only-of-type {\n",
       "        vertical-align: middle;\n",
       "    }\n",
       "\n",
       "    .dataframe tbody tr th {\n",
       "        vertical-align: top;\n",
       "    }\n",
       "\n",
       "    .dataframe thead th {\n",
       "        text-align: right;\n",
       "    }\n",
       "</style>\n",
       "<table border=\"1\" class=\"dataframe\">\n",
       "  <thead>\n",
       "    <tr style=\"text-align: right;\">\n",
       "      <th></th>\n",
       "      <th>TripType</th>\n",
       "      <th>VisitNumber</th>\n",
       "      <th>Weekday</th>\n",
       "      <th>Upc</th>\n",
       "      <th>ScanCount</th>\n",
       "      <th>DepartmentDescription</th>\n",
       "      <th>FinelineNumber</th>\n",
       "    </tr>\n",
       "  </thead>\n",
       "  <tbody>\n",
       "    <tr>\n",
       "      <th>25</th>\n",
       "      <td>26</td>\n",
       "      <td>8</td>\n",
       "      <td>Friday</td>\n",
       "      <td>NaN</td>\n",
       "      <td>1</td>\n",
       "      <td>NaN</td>\n",
       "      <td>NaN</td>\n",
       "    </tr>\n",
       "    <tr>\n",
       "      <th>548</th>\n",
       "      <td>27</td>\n",
       "      <td>259</td>\n",
       "      <td>Friday</td>\n",
       "      <td>NaN</td>\n",
       "      <td>3</td>\n",
       "      <td>NaN</td>\n",
       "      <td>NaN</td>\n",
       "    </tr>\n",
       "    <tr>\n",
       "      <th>549</th>\n",
       "      <td>27</td>\n",
       "      <td>259</td>\n",
       "      <td>Friday</td>\n",
       "      <td>NaN</td>\n",
       "      <td>1</td>\n",
       "      <td>NaN</td>\n",
       "      <td>NaN</td>\n",
       "    </tr>\n",
       "    <tr>\n",
       "      <th>959</th>\n",
       "      <td>999</td>\n",
       "      <td>409</td>\n",
       "      <td>Friday</td>\n",
       "      <td>NaN</td>\n",
       "      <td>-1</td>\n",
       "      <td>NaN</td>\n",
       "      <td>NaN</td>\n",
       "    </tr>\n",
       "    <tr>\n",
       "      <th>1116</th>\n",
       "      <td>39</td>\n",
       "      <td>479</td>\n",
       "      <td>Friday</td>\n",
       "      <td>NaN</td>\n",
       "      <td>1</td>\n",
       "      <td>NaN</td>\n",
       "      <td>NaN</td>\n",
       "    </tr>\n",
       "    <tr>\n",
       "      <th>1134</th>\n",
       "      <td>999</td>\n",
       "      <td>484</td>\n",
       "      <td>Friday</td>\n",
       "      <td>NaN</td>\n",
       "      <td>-2</td>\n",
       "      <td>NaN</td>\n",
       "      <td>NaN</td>\n",
       "    </tr>\n",
       "    <tr>\n",
       "      <th>1155</th>\n",
       "      <td>44</td>\n",
       "      <td>496</td>\n",
       "      <td>Friday</td>\n",
       "      <td>NaN</td>\n",
       "      <td>1</td>\n",
       "      <td>PHARMACY RX</td>\n",
       "      <td>NaN</td>\n",
       "    </tr>\n",
       "    <tr>\n",
       "      <th>1216</th>\n",
       "      <td>5</td>\n",
       "      <td>521</td>\n",
       "      <td>Friday</td>\n",
       "      <td>NaN</td>\n",
       "      <td>1</td>\n",
       "      <td>PHARMACY RX</td>\n",
       "      <td>NaN</td>\n",
       "    </tr>\n",
       "    <tr>\n",
       "      <th>1373</th>\n",
       "      <td>5</td>\n",
       "      <td>585</td>\n",
       "      <td>Friday</td>\n",
       "      <td>NaN</td>\n",
       "      <td>1</td>\n",
       "      <td>PHARMACY RX</td>\n",
       "      <td>NaN</td>\n",
       "    </tr>\n",
       "    <tr>\n",
       "      <th>1455</th>\n",
       "      <td>5</td>\n",
       "      <td>619</td>\n",
       "      <td>Friday</td>\n",
       "      <td>NaN</td>\n",
       "      <td>1</td>\n",
       "      <td>PHARMACY RX</td>\n",
       "      <td>NaN</td>\n",
       "    </tr>\n",
       "    <tr>\n",
       "      <th>1819</th>\n",
       "      <td>5</td>\n",
       "      <td>787</td>\n",
       "      <td>Friday</td>\n",
       "      <td>NaN</td>\n",
       "      <td>1</td>\n",
       "      <td>PHARMACY RX</td>\n",
       "      <td>NaN</td>\n",
       "    </tr>\n",
       "    <tr>\n",
       "      <th>1926</th>\n",
       "      <td>32</td>\n",
       "      <td>845</td>\n",
       "      <td>Friday</td>\n",
       "      <td>NaN</td>\n",
       "      <td>1</td>\n",
       "      <td>NaN</td>\n",
       "      <td>NaN</td>\n",
       "    </tr>\n",
       "    <tr>\n",
       "      <th>2031</th>\n",
       "      <td>5</td>\n",
       "      <td>897</td>\n",
       "      <td>Friday</td>\n",
       "      <td>NaN</td>\n",
       "      <td>1</td>\n",
       "      <td>PHARMACY RX</td>\n",
       "      <td>NaN</td>\n",
       "    </tr>\n",
       "    <tr>\n",
       "      <th>2294</th>\n",
       "      <td>40</td>\n",
       "      <td>1004</td>\n",
       "      <td>Friday</td>\n",
       "      <td>NaN</td>\n",
       "      <td>1</td>\n",
       "      <td>NaN</td>\n",
       "      <td>NaN</td>\n",
       "    </tr>\n",
       "    <tr>\n",
       "      <th>2399</th>\n",
       "      <td>5</td>\n",
       "      <td>1036</td>\n",
       "      <td>Friday</td>\n",
       "      <td>NaN</td>\n",
       "      <td>1</td>\n",
       "      <td>PHARMACY RX</td>\n",
       "      <td>NaN</td>\n",
       "    </tr>\n",
       "    <tr>\n",
       "      <th>2478</th>\n",
       "      <td>5</td>\n",
       "      <td>1064</td>\n",
       "      <td>Friday</td>\n",
       "      <td>NaN</td>\n",
       "      <td>1</td>\n",
       "      <td>PHARMACY RX</td>\n",
       "      <td>NaN</td>\n",
       "    </tr>\n",
       "    <tr>\n",
       "      <th>2566</th>\n",
       "      <td>5</td>\n",
       "      <td>1073</td>\n",
       "      <td>Friday</td>\n",
       "      <td>NaN</td>\n",
       "      <td>1</td>\n",
       "      <td>PHARMACY RX</td>\n",
       "      <td>NaN</td>\n",
       "    </tr>\n",
       "    <tr>\n",
       "      <th>2826</th>\n",
       "      <td>5</td>\n",
       "      <td>1170</td>\n",
       "      <td>Friday</td>\n",
       "      <td>NaN</td>\n",
       "      <td>1</td>\n",
       "      <td>PHARMACY RX</td>\n",
       "      <td>NaN</td>\n",
       "    </tr>\n",
       "    <tr>\n",
       "      <th>2850</th>\n",
       "      <td>40</td>\n",
       "      <td>1179</td>\n",
       "      <td>Friday</td>\n",
       "      <td>NaN</td>\n",
       "      <td>1</td>\n",
       "      <td>NaN</td>\n",
       "      <td>NaN</td>\n",
       "    </tr>\n",
       "    <tr>\n",
       "      <th>3096</th>\n",
       "      <td>44</td>\n",
       "      <td>1236</td>\n",
       "      <td>Friday</td>\n",
       "      <td>NaN</td>\n",
       "      <td>1</td>\n",
       "      <td>NaN</td>\n",
       "      <td>NaN</td>\n",
       "    </tr>\n",
       "  </tbody>\n",
       "</table>\n",
       "</div>"
      ],
      "text/plain": [
       "      TripType  VisitNumber Weekday  Upc  ScanCount DepartmentDescription  \\\n",
       "25          26            8  Friday  NaN          1                   NaN   \n",
       "548         27          259  Friday  NaN          3                   NaN   \n",
       "549         27          259  Friday  NaN          1                   NaN   \n",
       "959        999          409  Friday  NaN         -1                   NaN   \n",
       "1116        39          479  Friday  NaN          1                   NaN   \n",
       "1134       999          484  Friday  NaN         -2                   NaN   \n",
       "1155        44          496  Friday  NaN          1           PHARMACY RX   \n",
       "1216         5          521  Friday  NaN          1           PHARMACY RX   \n",
       "1373         5          585  Friday  NaN          1           PHARMACY RX   \n",
       "1455         5          619  Friday  NaN          1           PHARMACY RX   \n",
       "1819         5          787  Friday  NaN          1           PHARMACY RX   \n",
       "1926        32          845  Friday  NaN          1                   NaN   \n",
       "2031         5          897  Friday  NaN          1           PHARMACY RX   \n",
       "2294        40         1004  Friday  NaN          1                   NaN   \n",
       "2399         5         1036  Friday  NaN          1           PHARMACY RX   \n",
       "2478         5         1064  Friday  NaN          1           PHARMACY RX   \n",
       "2566         5         1073  Friday  NaN          1           PHARMACY RX   \n",
       "2826         5         1170  Friday  NaN          1           PHARMACY RX   \n",
       "2850        40         1179  Friday  NaN          1                   NaN   \n",
       "3096        44         1236  Friday  NaN          1                   NaN   \n",
       "\n",
       "      FinelineNumber  \n",
       "25               NaN  \n",
       "548              NaN  \n",
       "549              NaN  \n",
       "959              NaN  \n",
       "1116             NaN  \n",
       "1134             NaN  \n",
       "1155             NaN  \n",
       "1216             NaN  \n",
       "1373             NaN  \n",
       "1455             NaN  \n",
       "1819             NaN  \n",
       "1926             NaN  \n",
       "2031             NaN  \n",
       "2294             NaN  \n",
       "2399             NaN  \n",
       "2478             NaN  \n",
       "2566             NaN  \n",
       "2826             NaN  \n",
       "2850             NaN  \n",
       "3096             NaN  "
      ]
     },
     "execution_count": 12,
     "metadata": {},
     "output_type": "execute_result"
    }
   ],
   "source": [
    "# Let us take a look in what all columns the missing values are common\n",
    "# If more columns have missing values for same records, dropping the records will be easy\n",
    "Trip_data[Trip_data[\"Upc\"].isna() == True][:20]"
   ]
  },
  {
   "cell_type": "code",
   "execution_count": 13,
   "metadata": {},
   "outputs": [],
   "source": [
    "# We can see that there are a lot of columns with common NaN values"
   ]
  },
  {
   "cell_type": "code",
   "execution_count": 14,
   "metadata": {},
   "outputs": [
    {
     "data": {
      "text/plain": [
       "2878"
      ]
     },
     "execution_count": 14,
     "metadata": {},
     "output_type": "execute_result"
    }
   ],
   "source": [
    "# Count the total number of records where any of the column values is not available\n",
    "Trip_data.isnull().any(axis=1).sum()"
   ]
  },
  {
   "cell_type": "code",
   "execution_count": 15,
   "metadata": {},
   "outputs": [
    {
     "data": {
      "text/plain": [
       "2878"
      ]
     },
     "execution_count": 15,
     "metadata": {},
     "output_type": "execute_result"
    }
   ],
   "source": [
    "# Compared to a total of 641350 records (after we removed duplicates), there are just 2878 records\n",
    "# That have missing values, which is less than 0.5%. Also, we observed that the missing values are\n",
    "# common across columns, that to 'Upc' and 'FinelineNumber' has the same number of missing values\n",
    "# So, let us check if they are 100% common missing values in both these columns\n",
    "len(Trip_data[[\"Upc\", \"FinelineNumber\"]][Trip_data.Upc.isnull() & Trip_data.FinelineNumber.isnull()])"
   ]
  },
  {
   "cell_type": "code",
   "execution_count": 16,
   "metadata": {},
   "outputs": [],
   "source": [
    "# Dropping the records with missing values without imputing them (may not be preferred in actual analysis)\n",
    "# Any sort of information loss is undesirable, but I dropped missing records for quick analysis\n",
    "Trip_data.dropna(inplace=True)"
   ]
  },
  {
   "cell_type": "code",
   "execution_count": 17,
   "metadata": {},
   "outputs": [
    {
     "name": "stdout",
     "output_type": "stream",
     "text": [
      "Total number of records  :638472\n"
     ]
    }
   ],
   "source": [
    "# Total number of records after dropping the records with missing values\n",
    "print(f'Total number of records  :{Trip_data.shape[0]}')"
   ]
  },
  {
   "cell_type": "code",
   "execution_count": 18,
   "metadata": {},
   "outputs": [
    {
     "data": {
      "text/plain": [
       "TripType                 0\n",
       "VisitNumber              0\n",
       "Weekday                  0\n",
       "Upc                      0\n",
       "ScanCount                0\n",
       "DepartmentDescription    0\n",
       "FinelineNumber           0\n",
       "dtype: int64"
      ]
     },
     "execution_count": 18,
     "metadata": {},
     "output_type": "execute_result"
    }
   ],
   "source": [
    "# Sanity check of the dataframe- there should be no missing values now:\n",
    "Trip_data.isnull().sum()"
   ]
  },
  {
   "cell_type": "markdown",
   "metadata": {},
   "source": [
    "## Univariate Analysis"
   ]
  },
  {
   "cell_type": "markdown",
   "metadata": {},
   "source": [
    "### Analysis of response variable: \"Trip Type\""
   ]
  },
  {
   "cell_type": "code",
   "execution_count": 19,
   "metadata": {},
   "outputs": [
    {
     "data": {
      "text/plain": [
       "array([999,  30,  26,   8,  35,  41,  21,   6,  42,   7,   9,  39,  25,\n",
       "        38,  15,  36,  20,  37,  32,  40,   5,   3,   4,  24,  33,  43,\n",
       "        31,  27,  34,  18,  29,  44,  19,  23,  22,  28,  14,  12])"
      ]
     },
     "execution_count": 19,
     "metadata": {},
     "output_type": "execute_result"
    }
   ],
   "source": [
    "# Unique values in Response Variable \"Trip Type\" column\n",
    "Trip_data[\"TripType\"].unique()"
   ]
  },
  {
   "cell_type": "code",
   "execution_count": 20,
   "metadata": {},
   "outputs": [
    {
     "data": {
      "text/plain": [
       "38"
      ]
     },
     "execution_count": 20,
     "metadata": {},
     "output_type": "execute_result"
    }
   ],
   "source": [
    "# Total Count of unique values in Response Variable, i.e. \"Trip Type\" column\n",
    "len(Trip_data[\"TripType\"].unique())"
   ]
  },
  {
   "cell_type": "code",
   "execution_count": 21,
   "metadata": {},
   "outputs": [],
   "source": [
    "# There seems to be 38 classes that we have to classify the data into, \n",
    "# Out of which 37 seems to be the actual classes and \n",
    "# the class label '999' seems to represent the remaining all classes bucketed into one"
   ]
  },
  {
   "cell_type": "code",
   "execution_count": 22,
   "metadata": {},
   "outputs": [
    {
     "name": "stdout",
     "output_type": "stream",
     "text": [
      "3\n",
      "999\n",
      "0    40\n",
      "dtype: int64\n"
     ]
    }
   ],
   "source": [
    "# Let us see the min, max and mode of the Trip Type column\n",
    "print(Trip_data[\"TripType\"].min())\n",
    "print(Trip_data[\"TripType\"].max())\n",
    "print(Trip_data[\"TripType\"].mode())"
   ]
  },
  {
   "cell_type": "code",
   "execution_count": 23,
   "metadata": {},
   "outputs": [
    {
     "data": {
      "text/plain": [
       "40     172849\n",
       "39      94895\n",
       "37      38657\n",
       "38      29356\n",
       "25      27287\n",
       "7       23049\n",
       "8       22635\n",
       "36      21865\n",
       "44      20196\n",
       "42      19256\n",
       "24      17700\n",
       "999     16922\n",
       "9       16606\n",
       "32      13744\n",
       "35      12340\n",
       "5       11191\n",
       "33       9852\n",
       "15       7067\n",
       "3        6814\n",
       "43       6300\n",
       "41       5442\n",
       "30       4821\n",
       "34       4686\n",
       "27       4537\n",
       "21       3979\n",
       "22       3561\n",
       "6        3369\n",
       "20       3091\n",
       "18       2940\n",
       "28       2622\n",
       "26       2479\n",
       "12       2093\n",
       "29       2090\n",
       "31       1752\n",
       "19       1183\n",
       "4         889\n",
       "23        323\n",
       "14         34\n",
       "Name: TripType, dtype: int64"
      ]
     },
     "execution_count": 23,
     "metadata": {},
     "output_type": "execute_result"
    }
   ],
   "source": [
    "# Labels in \"Trip Type\" column and their repeat frequencies \n",
    "Trip_data[\"TripType\"].value_counts()"
   ]
  },
  {
   "cell_type": "code",
   "execution_count": 24,
   "metadata": {},
   "outputs": [
    {
     "data": {
      "image/png": "[encoded data removed]",
      "text/plain": [
       "<Figure size 864x576 with 1 Axes>"
      ]
     },
     "metadata": {
      "needs_background": "light"
     },
     "output_type": "display_data"
    }
   ],
   "source": [
    "# Viewing the value counts graphically for \"Trip Type\" column\n",
    "plt.figure(figsize=(12,8))\n",
    "sns.countplot(y=\"TripType\", data=Trip_data)\n",
    "plt.show()"
   ]
  },
  {
   "cell_type": "code",
   "execution_count": 25,
   "metadata": {},
   "outputs": [
    {
     "data": {
      "text/plain": [
       "40    0.270723\n",
       "Name: TripType, dtype: float64"
      ]
     },
     "execution_count": 25,
     "metadata": {},
     "output_type": "execute_result"
    }
   ],
   "source": [
    "# The percentage occurence of the highest repeated label\n",
    "Trip_data[\"TripType\"].value_counts().head(1) / len(Trip_data)"
   ]
  },
  {
   "cell_type": "code",
   "execution_count": 26,
   "metadata": {},
   "outputs": [],
   "source": [
    "# Notice that the Trip Type '40' is almost 27% of all records\n",
    "# This also implies that the 'Null Accuracy' would be at least 27%\n",
    "# Overall, classes are quite imbalanced"
   ]
  },
  {
   "cell_type": "markdown",
   "metadata": {},
   "source": [
    "### Analysis of the variable: \"Week Day\""
   ]
  },
  {
   "cell_type": "code",
   "execution_count": 27,
   "metadata": {},
   "outputs": [
    {
     "data": {
      "text/plain": [
       "array([['Friday'],\n",
       "       ['Saturday'],\n",
       "       ['Sunday'],\n",
       "       ['Monday'],\n",
       "       ['Tuesday'],\n",
       "       ['Wednesday'],\n",
       "       ['Thursday']], dtype=object)"
      ]
     },
     "execution_count": 27,
     "metadata": {},
     "output_type": "execute_result"
    }
   ],
   "source": [
    "# Unique values in Weekday column\n",
    "Trip_data[\"Weekday\"].unique()[:, None]"
   ]
  },
  {
   "cell_type": "code",
   "execution_count": 28,
   "metadata": {},
   "outputs": [],
   "source": [
    "# Total number of Weekdays is 7 as expected"
   ]
  },
  {
   "cell_type": "code",
   "execution_count": 29,
   "metadata": {},
   "outputs": [
    {
     "data": {
      "image/png": "[encoded data removed]",
      "text/plain": [
       "<Figure size 576x216 with 1 Axes>"
      ]
     },
     "metadata": {
      "needs_background": "light"
     },
     "output_type": "display_data"
    }
   ],
   "source": [
    "# Total records count with respect to each day of the week\n",
    "plt.figure(figsize=(8,3))\n",
    "sns.countplot(y=\"Weekday\", data=Trip_data)\n",
    "plt.show()"
   ]
  },
  {
   "cell_type": "code",
   "execution_count": 30,
   "metadata": {},
   "outputs": [],
   "source": [
    "# As expected, Sunday has the highest number of store visits, then comes Saturday and then Friday\n",
    "# Another observation to note is that, Monday has more visitors then Tuesday, wednesday and Thursday"
   ]
  },
  {
   "cell_type": "markdown",
   "metadata": {},
   "source": [
    "### Analysis of the variable: \"Department Description\""
   ]
  },
  {
   "cell_type": "code",
   "execution_count": 31,
   "metadata": {},
   "outputs": [
    {
     "data": {
      "text/plain": [
       "array([['FINANCIAL SERVICES'],\n",
       "       ['SHOES'],\n",
       "       ['PERSONAL CARE'],\n",
       "       ['PAINT AND ACCESSORIES'],\n",
       "       ['DSD GROCERY'],\n",
       "       ['MEAT - FRESH & FROZEN'],\n",
       "       ['DAIRY'],\n",
       "       ['PETS AND SUPPLIES'],\n",
       "       ['HOUSEHOLD CHEMICALS/SUPP'],\n",
       "       ['IMPULSE MERCHANDISE'],\n",
       "       ['PRODUCE'],\n",
       "       ['CANDY, TOBACCO, COOKIES'],\n",
       "       ['GROCERY DRY GOODS'],\n",
       "       ['BOYS WEAR'],\n",
       "       ['FABRICS AND CRAFTS'],\n",
       "       ['JEWELRY AND SUNGLASSES'],\n",
       "       ['MENS WEAR'],\n",
       "       ['ACCESSORIES'],\n",
       "       ['HOME MANAGEMENT'],\n",
       "       ['FROZEN FOODS'],\n",
       "       ['SERVICE DELI'],\n",
       "       ['INFANT CONSUMABLE HARDLINES'],\n",
       "       ['PRE PACKED DELI'],\n",
       "       ['COOK AND DINE'],\n",
       "       ['PHARMACY OTC'],\n",
       "       ['LADIESWEAR'],\n",
       "       ['COMM BREAD'],\n",
       "       ['BAKERY'],\n",
       "       ['HOUSEHOLD PAPER GOODS'],\n",
       "       ['CELEBRATION'],\n",
       "       ['HARDWARE'],\n",
       "       ['BEAUTY'],\n",
       "       ['AUTOMOTIVE'],\n",
       "       ['BOOKS AND MAGAZINES'],\n",
       "       ['SEAFOOD'],\n",
       "       ['OFFICE SUPPLIES'],\n",
       "       ['LAWN AND GARDEN'],\n",
       "       ['SHEER HOSIERY'],\n",
       "       ['WIRELESS'],\n",
       "       ['BEDDING'],\n",
       "       ['BATH AND SHOWER'],\n",
       "       ['HORTICULTURE AND ACCESS'],\n",
       "       ['HOME DECOR'],\n",
       "       ['TOYS'],\n",
       "       ['INFANT APPAREL'],\n",
       "       ['LADIES SOCKS'],\n",
       "       ['PLUS AND MATERNITY'],\n",
       "       ['ELECTRONICS'],\n",
       "       ['GIRLS WEAR, 4-6X  AND 7-14'],\n",
       "       ['BRAS & SHAPEWEAR'],\n",
       "       ['LIQUOR,WINE,BEER'],\n",
       "       ['SLEEPWEAR/FOUNDATIONS'],\n",
       "       ['CAMERAS AND SUPPLIES'],\n",
       "       ['SPORTING GOODS'],\n",
       "       ['PLAYERS AND ELECTRONICS'],\n",
       "       ['PHARMACY RX'],\n",
       "       ['MENSWEAR'],\n",
       "       ['OPTICAL - FRAMES'],\n",
       "       ['SWIMWEAR/OUTERWEAR'],\n",
       "       ['OTHER DEPARTMENTS'],\n",
       "       ['MEDIA AND GAMING'],\n",
       "       ['FURNITURE'],\n",
       "       ['OPTICAL - LENSES'],\n",
       "       ['SEASONAL'],\n",
       "       ['LARGE HOUSEHOLD GOODS'],\n",
       "       ['1-HR PHOTO'],\n",
       "       ['CONCEPT STORES'],\n",
       "       ['HEALTH AND BEAUTY AIDS']], dtype=object)"
      ]
     },
     "execution_count": 31,
     "metadata": {},
     "output_type": "execute_result"
    }
   ],
   "source": [
    "# Unique values in DepartmentDescription column\n",
    "Trip_data[\"DepartmentDescription\"].unique()[:, None]"
   ]
  },
  {
   "cell_type": "code",
   "execution_count": 32,
   "metadata": {},
   "outputs": [
    {
     "data": {
      "text/plain": [
       "68"
      ]
     },
     "execution_count": 32,
     "metadata": {},
     "output_type": "execute_result"
    }
   ],
   "source": [
    "# Total number of Department Descriptions is 68\n",
    "len(Trip_data[\"DepartmentDescription\"].unique())"
   ]
  },
  {
   "cell_type": "code",
   "execution_count": 33,
   "metadata": {},
   "outputs": [
    {
     "data": {
      "image/png": "[encoded data removed]",
      "text/plain": [
       "<Figure size 1440x1800 with 1 Axes>"
      ]
     },
     "metadata": {
      "needs_background": "light"
     },
     "output_type": "display_data"
    }
   ],
   "source": [
    "# Graphically viewing the frequency counts of various departments\n",
    "plt.figure(figsize=(20, 25))\n",
    "sns.countplot(y=\"DepartmentDescription\", data=Trip_data)\n",
    "plt.show()"
   ]
  },
  {
   "cell_type": "code",
   "execution_count": 34,
   "metadata": {},
   "outputs": [],
   "source": [
    "# We can see that there are some of the departments that have marginal visits, they are:\n",
    "# Other Departments\n",
    "# Optical Lenses\n",
    "# Seasonal\n",
    "# Large Household Goods\n",
    "# Concept Stores\n",
    "# Health and Beauty Aids"
   ]
  },
  {
   "cell_type": "markdown",
   "metadata": {},
   "source": [
    "### Analysis of the variable: \"Scan Count\""
   ]
  },
  {
   "cell_type": "code",
   "execution_count": 35,
   "metadata": {},
   "outputs": [
    {
     "data": {
      "text/plain": [
       "array([ -1,   1,   2,   3,   5,   6,   4,  14,  -2,   9,   7,  10,   8,\n",
       "        -3,  -5,  11,  16,  -4,  13,  15,  30,  12,  20,  -6, -12,  19,\n",
       "        46,  23,  -7,  22,  25,  24,  31,  -9,  51,  17,  18,  71, -10])"
      ]
     },
     "execution_count": 35,
     "metadata": {},
     "output_type": "execute_result"
    }
   ],
   "source": [
    "Trip_data[\"ScanCount\"].unique()"
   ]
  },
  {
   "cell_type": "code",
   "execution_count": 36,
   "metadata": {},
   "outputs": [
    {
     "data": {
      "text/plain": [
       "39"
      ]
     },
     "execution_count": 36,
     "metadata": {},
     "output_type": "execute_result"
    }
   ],
   "source": [
    "# Total number of Scan Count is 39\n",
    "len(Trip_data[\"ScanCount\"].unique())"
   ]
  },
  {
   "cell_type": "code",
   "execution_count": 37,
   "metadata": {},
   "outputs": [
    {
     "data": {
      "image/png": "[encoded data removed]",
      "text/plain": [
       "<Figure size 720x504 with 1 Axes>"
      ]
     },
     "metadata": {
      "needs_background": "light"
     },
     "output_type": "display_data"
    }
   ],
   "source": [
    "# Graphically viewing the frequency of occurences if various scan count labels\n",
    "plt.figure(figsize=(10, 7))\n",
    "sns.countplot(y=\"ScanCount\", data=Trip_data)\n",
    "plt.show()"
   ]
  },
  {
   "cell_type": "code",
   "execution_count": 38,
   "metadata": {},
   "outputs": [
    {
     "data": {
      "text/plain": [
       "1    0.867228\n",
       "Name: ScanCount, dtype: float64"
      ]
     },
     "execution_count": 38,
     "metadata": {},
     "output_type": "execute_result"
    }
   ],
   "source": [
    "# The percentage occurence of the highest repeated label in scan count\n",
    "Trip_data[\"ScanCount\"].value_counts().head(1) / len(Trip_data)"
   ]
  },
  {
   "cell_type": "code",
   "execution_count": 39,
   "metadata": {},
   "outputs": [],
   "source": [
    "# We can see that the label '1' has the highest frequency and is close to 87% of all transactions\n",
    "# Other labels such as -1, 2, 3 and 4 have little repeatations\n",
    "# The remaining all labels are very marginal, could be ignored or bucketed into one category, that we will see later"
   ]
  },
  {
   "cell_type": "markdown",
   "metadata": {},
   "source": [
    "### Analysis of the variable: \"Fineline Number\""
   ]
  },
  {
   "cell_type": "code",
   "execution_count": 40,
   "metadata": {},
   "outputs": [
    {
     "data": {
      "text/plain": [
       "5195"
      ]
     },
     "execution_count": 40,
     "metadata": {},
     "output_type": "execute_result"
    }
   ],
   "source": [
    "len(Trip_data[\"FinelineNumber\"].unique())"
   ]
  },
  {
   "cell_type": "code",
   "execution_count": 41,
   "metadata": {},
   "outputs": [
    {
     "data": {
      "text/plain": [
       "5501.0    8228\n",
       "1508.0    5031\n",
       "135.0     4509\n",
       "808.0     4377\n",
       "0.0       3827\n",
       "Name: FinelineNumber, dtype: int64"
      ]
     },
     "execution_count": 41,
     "metadata": {},
     "output_type": "execute_result"
    }
   ],
   "source": [
    "# Top 5 labels in \"Fineline Number\" column and their repeat frequencies \n",
    "Trip_data[\"FinelineNumber\"].value_counts().head(5)"
   ]
  },
  {
   "cell_type": "code",
   "execution_count": 42,
   "metadata": {},
   "outputs": [],
   "source": [
    "# Notice that these is a Fineline Number '0' repeated 3837 times"
   ]
  },
  {
   "cell_type": "code",
   "execution_count": 43,
   "metadata": {},
   "outputs": [
    {
     "name": "stdout",
     "output_type": "stream",
     "text": [
      "0.0\n",
      "9998.0\n",
      "0    5501.0\n",
      "dtype: float64\n"
     ]
    }
   ],
   "source": [
    "# Print the min, max and mode of the \"fineline number\" column\n",
    "print(Trip_data[\"FinelineNumber\"].min())\n",
    "print(Trip_data[\"FinelineNumber\"].max())\n",
    "print(Trip_data[\"FinelineNumber\"].mode())"
   ]
  },
  {
   "cell_type": "markdown",
   "metadata": {},
   "source": [
    "### Analysis of the variable: \"Upc\""
   ]
  },
  {
   "cell_type": "code",
   "execution_count": 44,
   "metadata": {},
   "outputs": [
    {
     "data": {
      "text/plain": [
       "97714"
      ]
     },
     "execution_count": 44,
     "metadata": {},
     "output_type": "execute_result"
    }
   ],
   "source": [
    "len(Trip_data[\"Upc\"].unique())"
   ]
  },
  {
   "cell_type": "code",
   "execution_count": 45,
   "metadata": {},
   "outputs": [
    {
     "name": "stdout",
     "output_type": "stream",
     "text": [
      "834.0\n",
      "978970666419.0\n",
      "0    4011.0\n",
      "dtype: float64\n"
     ]
    }
   ],
   "source": [
    "# Print the min, max and mode of the \"Upc\" column\n",
    "print(Trip_data[\"Upc\"].min())\n",
    "print(Trip_data[\"Upc\"].max())\n",
    "print(Trip_data[\"Upc\"].mode())"
   ]
  },
  {
   "cell_type": "code",
   "execution_count": 46,
   "metadata": {},
   "outputs": [
    {
     "data": {
      "text/plain": [
       "4.011000e+03    7644\n",
       "6.053886e+10    2494\n",
       "7.874235e+09    2034\n",
       "7.874235e+09    1847\n",
       "4.046000e+03    1642\n",
       "6.811311e+10    1494\n",
       "6.053887e+10    1485\n",
       "3.338320e+09    1383\n",
       "4.087000e+03    1370\n",
       "6.053887e+10    1332\n",
       "4.900000e+09    1011\n",
       "4.062000e+03     967\n",
       "4.065000e+03     939\n",
       "4.900003e+09     872\n",
       "3.338365e+09     848\n",
       "7.874235e+09     821\n",
       "4.900005e+09     793\n",
       "6.053890e+10     778\n",
       "6.811316e+10     778\n",
       "4.078000e+03     737\n",
       "6.992216e+10     709\n",
       "7.874211e+09     703\n",
       "4.093000e+03     696\n",
       "4.900001e+09     690\n",
       "2.096650e+10     686\n",
       "6.053882e+10     644\n",
       "7.874235e+09     622\n",
       "7.225004e+09     616\n",
       "4.051000e+03     613\n",
       "3.151000e+03     561\n",
       "                ... \n",
       "3.099760e+10       1\n",
       "8.869443e+10       1\n",
       "7.265475e+10       1\n",
       "7.869368e+10       1\n",
       "7.124916e+09       1\n",
       "3.742338e+09       1\n",
       "4.719849e+11       1\n",
       "7.871552e+09       1\n",
       "8.492070e+10       1\n",
       "3.160403e+09       1\n",
       "8.885107e+10       1\n",
       "4.138800e+09       1\n",
       "8.292682e+10       1\n",
       "8.834492e+10       1\n",
       "2.149600e+09       1\n",
       "8.452260e+10       1\n",
       "7.600137e+09       1\n",
       "8.874117e+10       1\n",
       "4.321360e+09       1\n",
       "8.521408e+09       1\n",
       "7.124926e+09       1\n",
       "7.595452e+10       1\n",
       "7.594278e+10       1\n",
       "7.594548e+10       1\n",
       "7.910010e+09       1\n",
       "7.245040e+10       1\n",
       "8.869441e+10       1\n",
       "8.885106e+10       1\n",
       "8.454230e+10       1\n",
       "8.669413e+09       1\n",
       "Name: Upc, Length: 97714, dtype: int64"
      ]
     },
     "execution_count": 46,
     "metadata": {},
     "output_type": "execute_result"
    }
   ],
   "source": [
    "# labels in \"Upc\" column and their repeat frequencies \n",
    "Trip_data[\"Upc\"].value_counts()"
   ]
  },
  {
   "cell_type": "code",
   "execution_count": 47,
   "metadata": {},
   "outputs": [],
   "source": [
    "# Notice that there are a lot of Upc labels that have just one records each.\n",
    "# We could also bucket them into one Upc label, that we will see later"
   ]
  },
  {
   "cell_type": "code",
   "execution_count": 48,
   "metadata": {},
   "outputs": [
    {
     "data": {
      "text/plain": [
       "4.011000e+03    7644\n",
       "6.053886e+10    2494\n",
       "7.874235e+09    2034\n",
       "7.874235e+09    1847\n",
       "4.046000e+03    1642\n",
       "Name: Upc, dtype: int64"
      ]
     },
     "execution_count": 48,
     "metadata": {},
     "output_type": "execute_result"
    }
   ],
   "source": [
    "# Top 5 labels in \"Upc\" column and their repeat frequencies \n",
    "Trip_data[\"Upc\"].value_counts().head(5)"
   ]
  },
  {
   "cell_type": "code",
   "execution_count": 49,
   "metadata": {},
   "outputs": [
    {
     "data": {
      "text/plain": [
       "dtype('float64')"
      ]
     },
     "execution_count": 49,
     "metadata": {},
     "output_type": "execute_result"
    }
   ],
   "source": [
    "# Checking the data type of this column, possibly get rid of the 'e' in numbers\n",
    "# Floating point values with 'e' at times create comparision issues, \n",
    "# meaning, same values might report they are not same when we compare them\n",
    "Trip_data[\"Upc\"].dtype"
   ]
  },
  {
   "cell_type": "code",
   "execution_count": 50,
   "metadata": {},
   "outputs": [
    {
     "data": {
      "text/plain": [
       "0"
      ]
     },
     "execution_count": 50,
     "metadata": {},
     "output_type": "execute_result"
    }
   ],
   "source": [
    "# Check if there are any negative or zero values in Upc column\n",
    "Trip_data[\"Upc\"][Trip_data[\"Upc\"]<1].count()"
   ]
  },
  {
   "cell_type": "code",
   "execution_count": 51,
   "metadata": {},
   "outputs": [
    {
     "name": "stdout",
     "output_type": "stream",
     "text": [
      "978970666419.0\n",
      "834.0\n"
     ]
    }
   ],
   "source": [
    "# There are no negative numbers in this column, let us cross check one more time\n",
    "print(Trip_data[\"Upc\"].max())\n",
    "print(Trip_data[\"Upc\"].min())"
   ]
  },
  {
   "cell_type": "code",
   "execution_count": 52,
   "metadata": {},
   "outputs": [
    {
     "name": "stdout",
     "output_type": "stream",
     "text": [
      "978970666419\n",
      "834\n"
     ]
    }
   ],
   "source": [
    "# Let us get rid of the 'e' sign and convert all of them to big integers (int64)\n",
    "Trip_data[\"Upc\"] = Trip_data[\"Upc\"].astype('int64')\n",
    "print(Trip_data[\"Upc\"].max())\n",
    "print(Trip_data[\"Upc\"].min())"
   ]
  },
  {
   "cell_type": "code",
   "execution_count": 53,
   "metadata": {},
   "outputs": [],
   "source": [
    "# After converting Upc float values into integers, we did a sanity check and found all in place"
   ]
  },
  {
   "cell_type": "code",
   "execution_count": 54,
   "metadata": {},
   "outputs": [
    {
     "data": {
      "text/plain": [
       "4011           7644\n",
       "60538862097    2494\n",
       "7874235186     2034\n",
       "7874235187     1847\n",
       "4046           1642\n",
       "68113107862    1494\n",
       "60538871457    1485\n",
       "Name: Upc, dtype: int64"
      ]
     },
     "execution_count": 54,
     "metadata": {},
     "output_type": "execute_result"
    }
   ],
   "source": [
    "# Again Top 7 labels in \"Upc\" column and their repeat frequencies \n",
    "Trip_data[\"Upc\"].value_counts().head(7)"
   ]
  },
  {
   "cell_type": "code",
   "execution_count": 55,
   "metadata": {},
   "outputs": [
    {
     "data": {
      "text/plain": [
       "471369833362    1\n",
       "82161402745     1\n",
       "2899520364      1\n",
       "341776165700    1\n",
       "88741174098     1\n",
       "88811316013     1\n",
       "4393545734      1\n",
       "Name: Upc, dtype: int64"
      ]
     },
     "execution_count": 55,
     "metadata": {},
     "output_type": "execute_result"
    }
   ],
   "source": [
    "# Again bottom 7 labels in \"Upc\" column and their repeat frequencies \n",
    "Trip_data[\"Upc\"].value_counts().tail(7)"
   ]
  },
  {
   "cell_type": "code",
   "execution_count": 56,
   "metadata": {},
   "outputs": [],
   "source": [
    "# Notice there are a lot of Upc that have just one record each"
   ]
  },
  {
   "cell_type": "markdown",
   "metadata": {},
   "source": [
    "### Analysis of the variable: \"Visit Number\""
   ]
  },
  {
   "cell_type": "code",
   "execution_count": 57,
   "metadata": {},
   "outputs": [
    {
     "data": {
      "text/plain": [
       "94247"
      ]
     },
     "execution_count": 57,
     "metadata": {},
     "output_type": "execute_result"
    }
   ],
   "source": [
    "len(Trip_data[\"VisitNumber\"].unique())"
   ]
  },
  {
   "cell_type": "code",
   "execution_count": 58,
   "metadata": {},
   "outputs": [
    {
     "data": {
      "text/plain": [
       "72439     205\n",
       "88011     151\n",
       "9181      113\n",
       "60971     112\n",
       "65792     109\n",
       "80318     104\n",
       "178154     97\n",
       "Name: VisitNumber, dtype: int64"
      ]
     },
     "execution_count": 58,
     "metadata": {},
     "output_type": "execute_result"
    }
   ],
   "source": [
    "# Top 7 labels in \"Visit Number\" column and their repeat frequencies \n",
    "Trip_data[\"VisitNumber\"].value_counts().head(7)"
   ]
  },
  {
   "cell_type": "code",
   "execution_count": 59,
   "metadata": {},
   "outputs": [
    {
     "data": {
      "text/plain": [
       "112897    1\n",
       "151420    1\n",
       "161659    1\n",
       "171570    1\n",
       "145267    1\n",
       "143216    1\n",
       "2047      1\n",
       "Name: VisitNumber, dtype: int64"
      ]
     },
     "execution_count": 59,
     "metadata": {},
     "output_type": "execute_result"
    }
   ],
   "source": [
    "# Again Bottom 7 labels in \"Visit Number\" column and their repeat frequencies \n",
    "Trip_data[\"VisitNumber\"].value_counts().tail(7)"
   ]
  },
  {
   "cell_type": "code",
   "execution_count": 60,
   "metadata": {},
   "outputs": [],
   "source": [
    "# Notice there are a lot of VisitNumbers that have just one record each"
   ]
  },
  {
   "cell_type": "markdown",
   "metadata": {},
   "source": [
    "## Multivariate Analysis"
   ]
  },
  {
   "cell_type": "markdown",
   "metadata": {},
   "source": [
    "### Upc with other columns"
   ]
  },
  {
   "cell_type": "code",
   "execution_count": 61,
   "metadata": {},
   "outputs": [
    {
     "data": {
      "text/html": [
       "<div>\n",
       "<style scoped>\n",
       "    .dataframe tbody tr th:only-of-type {\n",
       "        vertical-align: middle;\n",
       "    }\n",
       "\n",
       "    .dataframe tbody tr th {\n",
       "        vertical-align: top;\n",
       "    }\n",
       "\n",
       "    .dataframe thead th {\n",
       "        text-align: right;\n",
       "    }\n",
       "</style>\n",
       "<table border=\"1\" class=\"dataframe\">\n",
       "  <thead>\n",
       "    <tr style=\"text-align: right;\">\n",
       "      <th></th>\n",
       "      <th>TripType</th>\n",
       "      <th>VisitNumber</th>\n",
       "      <th>Weekday</th>\n",
       "      <th>Upc</th>\n",
       "      <th>ScanCount</th>\n",
       "      <th>DepartmentDescription</th>\n",
       "      <th>FinelineNumber</th>\n",
       "    </tr>\n",
       "  </thead>\n",
       "  <tbody>\n",
       "    <tr>\n",
       "      <th>28</th>\n",
       "      <td>8</td>\n",
       "      <td>9</td>\n",
       "      <td>Friday</td>\n",
       "      <td>4011</td>\n",
       "      <td>1</td>\n",
       "      <td>PRODUCE</td>\n",
       "      <td>5501.0</td>\n",
       "    </tr>\n",
       "    <tr>\n",
       "      <th>66</th>\n",
       "      <td>9</td>\n",
       "      <td>23</td>\n",
       "      <td>Friday</td>\n",
       "      <td>4011</td>\n",
       "      <td>1</td>\n",
       "      <td>PRODUCE</td>\n",
       "      <td>5501.0</td>\n",
       "    </tr>\n",
       "    <tr>\n",
       "      <th>77</th>\n",
       "      <td>39</td>\n",
       "      <td>26</td>\n",
       "      <td>Friday</td>\n",
       "      <td>4011</td>\n",
       "      <td>1</td>\n",
       "      <td>PRODUCE</td>\n",
       "      <td>5501.0</td>\n",
       "    </tr>\n",
       "    <tr>\n",
       "      <th>111</th>\n",
       "      <td>15</td>\n",
       "      <td>49</td>\n",
       "      <td>Friday</td>\n",
       "      <td>4011</td>\n",
       "      <td>1</td>\n",
       "      <td>PRODUCE</td>\n",
       "      <td>5501.0</td>\n",
       "    </tr>\n",
       "    <tr>\n",
       "      <th>198</th>\n",
       "      <td>37</td>\n",
       "      <td>86</td>\n",
       "      <td>Friday</td>\n",
       "      <td>4011</td>\n",
       "      <td>1</td>\n",
       "      <td>PRODUCE</td>\n",
       "      <td>5501.0</td>\n",
       "    </tr>\n",
       "  </tbody>\n",
       "</table>\n",
       "</div>"
      ],
      "text/plain": [
       "     TripType  VisitNumber Weekday   Upc  ScanCount DepartmentDescription  \\\n",
       "28          8            9  Friday  4011          1               PRODUCE   \n",
       "66          9           23  Friday  4011          1               PRODUCE   \n",
       "77         39           26  Friday  4011          1               PRODUCE   \n",
       "111        15           49  Friday  4011          1               PRODUCE   \n",
       "198        37           86  Friday  4011          1               PRODUCE   \n",
       "\n",
       "     FinelineNumber  \n",
       "28           5501.0  \n",
       "66           5501.0  \n",
       "77           5501.0  \n",
       "111          5501.0  \n",
       "198          5501.0  "
      ]
     },
     "execution_count": 61,
     "metadata": {},
     "output_type": "execute_result"
    }
   ],
   "source": [
    "Trip_data[Trip_data[\"Upc\"]==4011].head()"
   ]
  },
  {
   "cell_type": "code",
   "execution_count": 62,
   "metadata": {},
   "outputs": [
    {
     "data": {
      "text/html": [
       "<div>\n",
       "<style scoped>\n",
       "    .dataframe tbody tr th:only-of-type {\n",
       "        vertical-align: middle;\n",
       "    }\n",
       "\n",
       "    .dataframe tbody tr th {\n",
       "        vertical-align: top;\n",
       "    }\n",
       "\n",
       "    .dataframe thead th {\n",
       "        text-align: right;\n",
       "    }\n",
       "</style>\n",
       "<table border=\"1\" class=\"dataframe\">\n",
       "  <thead>\n",
       "    <tr style=\"text-align: right;\">\n",
       "      <th></th>\n",
       "      <th>TripType</th>\n",
       "      <th>VisitNumber</th>\n",
       "      <th>Weekday</th>\n",
       "      <th>Upc</th>\n",
       "      <th>ScanCount</th>\n",
       "      <th>DepartmentDescription</th>\n",
       "      <th>FinelineNumber</th>\n",
       "    </tr>\n",
       "  </thead>\n",
       "  <tbody>\n",
       "    <tr>\n",
       "      <th>73379</th>\n",
       "      <td>25</td>\n",
       "      <td>20725</td>\n",
       "      <td>Monday</td>\n",
       "      <td>60538862097</td>\n",
       "      <td>1</td>\n",
       "      <td>FINANCIAL SERVICES</td>\n",
       "      <td>0.0</td>\n",
       "    </tr>\n",
       "    <tr>\n",
       "      <th>73546</th>\n",
       "      <td>999</td>\n",
       "      <td>20786</td>\n",
       "      <td>Monday</td>\n",
       "      <td>60538862097</td>\n",
       "      <td>-1</td>\n",
       "      <td>FINANCIAL SERVICES</td>\n",
       "      <td>0.0</td>\n",
       "    </tr>\n",
       "    <tr>\n",
       "      <th>73547</th>\n",
       "      <td>999</td>\n",
       "      <td>20786</td>\n",
       "      <td>Monday</td>\n",
       "      <td>60538862097</td>\n",
       "      <td>1</td>\n",
       "      <td>FINANCIAL SERVICES</td>\n",
       "      <td>0.0</td>\n",
       "    </tr>\n",
       "    <tr>\n",
       "      <th>73651</th>\n",
       "      <td>5</td>\n",
       "      <td>20842</td>\n",
       "      <td>Monday</td>\n",
       "      <td>60538862097</td>\n",
       "      <td>1</td>\n",
       "      <td>FINANCIAL SERVICES</td>\n",
       "      <td>0.0</td>\n",
       "    </tr>\n",
       "    <tr>\n",
       "      <th>74365</th>\n",
       "      <td>3</td>\n",
       "      <td>21113</td>\n",
       "      <td>Monday</td>\n",
       "      <td>60538862097</td>\n",
       "      <td>1</td>\n",
       "      <td>FINANCIAL SERVICES</td>\n",
       "      <td>0.0</td>\n",
       "    </tr>\n",
       "  </tbody>\n",
       "</table>\n",
       "</div>"
      ],
      "text/plain": [
       "       TripType  VisitNumber Weekday          Upc  ScanCount  \\\n",
       "73379        25        20725  Monday  60538862097          1   \n",
       "73546       999        20786  Monday  60538862097         -1   \n",
       "73547       999        20786  Monday  60538862097          1   \n",
       "73651         5        20842  Monday  60538862097          1   \n",
       "74365         3        21113  Monday  60538862097          1   \n",
       "\n",
       "      DepartmentDescription  FinelineNumber  \n",
       "73379    FINANCIAL SERVICES             0.0  \n",
       "73546    FINANCIAL SERVICES             0.0  \n",
       "73547    FINANCIAL SERVICES             0.0  \n",
       "73651    FINANCIAL SERVICES             0.0  \n",
       "74365    FINANCIAL SERVICES             0.0  "
      ]
     },
     "execution_count": 62,
     "metadata": {},
     "output_type": "execute_result"
    }
   ],
   "source": [
    "Trip_data[Trip_data[\"Upc\"]==60538862097].head()"
   ]
  },
  {
   "cell_type": "code",
   "execution_count": 63,
   "metadata": {},
   "outputs": [
    {
     "data": {
      "text/html": [
       "<div>\n",
       "<style scoped>\n",
       "    .dataframe tbody tr th:only-of-type {\n",
       "        vertical-align: middle;\n",
       "    }\n",
       "\n",
       "    .dataframe tbody tr th {\n",
       "        vertical-align: top;\n",
       "    }\n",
       "\n",
       "    .dataframe thead th {\n",
       "        text-align: right;\n",
       "    }\n",
       "</style>\n",
       "<table border=\"1\" class=\"dataframe\">\n",
       "  <thead>\n",
       "    <tr style=\"text-align: right;\">\n",
       "      <th></th>\n",
       "      <th>TripType</th>\n",
       "      <th>VisitNumber</th>\n",
       "      <th>Weekday</th>\n",
       "      <th>Upc</th>\n",
       "      <th>ScanCount</th>\n",
       "      <th>DepartmentDescription</th>\n",
       "      <th>FinelineNumber</th>\n",
       "    </tr>\n",
       "  </thead>\n",
       "  <tbody>\n",
       "    <tr>\n",
       "      <th>100</th>\n",
       "      <td>38</td>\n",
       "      <td>43</td>\n",
       "      <td>Friday</td>\n",
       "      <td>7874235186</td>\n",
       "      <td>1</td>\n",
       "      <td>DAIRY</td>\n",
       "      <td>1508.0</td>\n",
       "    </tr>\n",
       "    <tr>\n",
       "      <th>2565</th>\n",
       "      <td>33</td>\n",
       "      <td>1072</td>\n",
       "      <td>Friday</td>\n",
       "      <td>7874235186</td>\n",
       "      <td>1</td>\n",
       "      <td>DAIRY</td>\n",
       "      <td>1508.0</td>\n",
       "    </tr>\n",
       "    <tr>\n",
       "      <th>2926</th>\n",
       "      <td>40</td>\n",
       "      <td>1200</td>\n",
       "      <td>Friday</td>\n",
       "      <td>7874235186</td>\n",
       "      <td>1</td>\n",
       "      <td>DAIRY</td>\n",
       "      <td>1508.0</td>\n",
       "    </tr>\n",
       "    <tr>\n",
       "      <th>3275</th>\n",
       "      <td>38</td>\n",
       "      <td>1306</td>\n",
       "      <td>Friday</td>\n",
       "      <td>7874235186</td>\n",
       "      <td>1</td>\n",
       "      <td>DAIRY</td>\n",
       "      <td>1508.0</td>\n",
       "    </tr>\n",
       "    <tr>\n",
       "      <th>4700</th>\n",
       "      <td>39</td>\n",
       "      <td>1775</td>\n",
       "      <td>Friday</td>\n",
       "      <td>7874235186</td>\n",
       "      <td>1</td>\n",
       "      <td>DAIRY</td>\n",
       "      <td>1508.0</td>\n",
       "    </tr>\n",
       "  </tbody>\n",
       "</table>\n",
       "</div>"
      ],
      "text/plain": [
       "      TripType  VisitNumber Weekday         Upc  ScanCount  \\\n",
       "100         38           43  Friday  7874235186          1   \n",
       "2565        33         1072  Friday  7874235186          1   \n",
       "2926        40         1200  Friday  7874235186          1   \n",
       "3275        38         1306  Friday  7874235186          1   \n",
       "4700        39         1775  Friday  7874235186          1   \n",
       "\n",
       "     DepartmentDescription  FinelineNumber  \n",
       "100                  DAIRY          1508.0  \n",
       "2565                 DAIRY          1508.0  \n",
       "2926                 DAIRY          1508.0  \n",
       "3275                 DAIRY          1508.0  \n",
       "4700                 DAIRY          1508.0  "
      ]
     },
     "execution_count": 63,
     "metadata": {},
     "output_type": "execute_result"
    }
   ],
   "source": [
    "Trip_data[Trip_data[\"Upc\"]==7874235186].head()"
   ]
  },
  {
   "cell_type": "markdown",
   "metadata": {},
   "source": [
    "##### Observation from above Analysis\n",
    "- For specific Upc values, the 'department description' and 'fineline number' seem to have some relation between them"
   ]
  },
  {
   "cell_type": "markdown",
   "metadata": {},
   "source": [
    "### Visit Number with other columns"
   ]
  },
  {
   "cell_type": "code",
   "execution_count": 64,
   "metadata": {},
   "outputs": [
    {
     "data": {
      "text/html": [
       "<div>\n",
       "<style scoped>\n",
       "    .dataframe tbody tr th:only-of-type {\n",
       "        vertical-align: middle;\n",
       "    }\n",
       "\n",
       "    .dataframe tbody tr th {\n",
       "        vertical-align: top;\n",
       "    }\n",
       "\n",
       "    .dataframe thead th {\n",
       "        text-align: right;\n",
       "    }\n",
       "</style>\n",
       "<table border=\"1\" class=\"dataframe\">\n",
       "  <thead>\n",
       "    <tr style=\"text-align: right;\">\n",
       "      <th></th>\n",
       "      <th>TripType</th>\n",
       "      <th>VisitNumber</th>\n",
       "      <th>Weekday</th>\n",
       "      <th>Upc</th>\n",
       "      <th>ScanCount</th>\n",
       "      <th>DepartmentDescription</th>\n",
       "      <th>FinelineNumber</th>\n",
       "    </tr>\n",
       "  </thead>\n",
       "  <tbody>\n",
       "    <tr>\n",
       "      <th>244440</th>\n",
       "      <td>24</td>\n",
       "      <td>72439</td>\n",
       "      <td>Tuesday</td>\n",
       "      <td>88616687879</td>\n",
       "      <td>1</td>\n",
       "      <td>BOYS WEAR</td>\n",
       "      <td>1025.0</td>\n",
       "    </tr>\n",
       "    <tr>\n",
       "      <th>244441</th>\n",
       "      <td>24</td>\n",
       "      <td>72439</td>\n",
       "      <td>Tuesday</td>\n",
       "      <td>7602630673</td>\n",
       "      <td>2</td>\n",
       "      <td>COOK AND DINE</td>\n",
       "      <td>2067.0</td>\n",
       "    </tr>\n",
       "    <tr>\n",
       "      <th>244442</th>\n",
       "      <td>24</td>\n",
       "      <td>72439</td>\n",
       "      <td>Tuesday</td>\n",
       "      <td>7214063386</td>\n",
       "      <td>1</td>\n",
       "      <td>PERSONAL CARE</td>\n",
       "      <td>3090.0</td>\n",
       "    </tr>\n",
       "    <tr>\n",
       "      <th>244443</th>\n",
       "      <td>24</td>\n",
       "      <td>72439</td>\n",
       "      <td>Tuesday</td>\n",
       "      <td>4393558928</td>\n",
       "      <td>2</td>\n",
       "      <td>MENS WEAR</td>\n",
       "      <td>5542.0</td>\n",
       "    </tr>\n",
       "    <tr>\n",
       "      <th>244444</th>\n",
       "      <td>24</td>\n",
       "      <td>72439</td>\n",
       "      <td>Tuesday</td>\n",
       "      <td>4747558605</td>\n",
       "      <td>1</td>\n",
       "      <td>CELEBRATION</td>\n",
       "      <td>5507.0</td>\n",
       "    </tr>\n",
       "    <tr>\n",
       "      <th>244445</th>\n",
       "      <td>24</td>\n",
       "      <td>72439</td>\n",
       "      <td>Tuesday</td>\n",
       "      <td>1714586340</td>\n",
       "      <td>1</td>\n",
       "      <td>IMPULSE MERCHANDISE</td>\n",
       "      <td>8904.0</td>\n",
       "    </tr>\n",
       "    <tr>\n",
       "      <th>244447</th>\n",
       "      <td>24</td>\n",
       "      <td>72439</td>\n",
       "      <td>Tuesday</td>\n",
       "      <td>82506302901</td>\n",
       "      <td>1</td>\n",
       "      <td>BATH AND SHOWER</td>\n",
       "      <td>1500.0</td>\n",
       "    </tr>\n",
       "    <tr>\n",
       "      <th>244448</th>\n",
       "      <td>24</td>\n",
       "      <td>72439</td>\n",
       "      <td>Tuesday</td>\n",
       "      <td>7001062236</td>\n",
       "      <td>1</td>\n",
       "      <td>MENS WEAR</td>\n",
       "      <td>8064.0</td>\n",
       "    </tr>\n",
       "    <tr>\n",
       "      <th>244449</th>\n",
       "      <td>24</td>\n",
       "      <td>72439</td>\n",
       "      <td>Tuesday</td>\n",
       "      <td>89811500266</td>\n",
       "      <td>4</td>\n",
       "      <td>INFANT CONSUMABLE HARDLINES</td>\n",
       "      <td>2123.0</td>\n",
       "    </tr>\n",
       "    <tr>\n",
       "      <th>244450</th>\n",
       "      <td>24</td>\n",
       "      <td>72439</td>\n",
       "      <td>Tuesday</td>\n",
       "      <td>36373636304</td>\n",
       "      <td>1</td>\n",
       "      <td>INFANT CONSUMABLE HARDLINES</td>\n",
       "      <td>2114.0</td>\n",
       "    </tr>\n",
       "  </tbody>\n",
       "</table>\n",
       "</div>"
      ],
      "text/plain": [
       "        TripType  VisitNumber  Weekday          Upc  ScanCount  \\\n",
       "244440        24        72439  Tuesday  88616687879          1   \n",
       "244441        24        72439  Tuesday   7602630673          2   \n",
       "244442        24        72439  Tuesday   7214063386          1   \n",
       "244443        24        72439  Tuesday   4393558928          2   \n",
       "244444        24        72439  Tuesday   4747558605          1   \n",
       "244445        24        72439  Tuesday   1714586340          1   \n",
       "244447        24        72439  Tuesday  82506302901          1   \n",
       "244448        24        72439  Tuesday   7001062236          1   \n",
       "244449        24        72439  Tuesday  89811500266          4   \n",
       "244450        24        72439  Tuesday  36373636304          1   \n",
       "\n",
       "              DepartmentDescription  FinelineNumber  \n",
       "244440                    BOYS WEAR          1025.0  \n",
       "244441                COOK AND DINE          2067.0  \n",
       "244442                PERSONAL CARE          3090.0  \n",
       "244443                    MENS WEAR          5542.0  \n",
       "244444                  CELEBRATION          5507.0  \n",
       "244445          IMPULSE MERCHANDISE          8904.0  \n",
       "244447              BATH AND SHOWER          1500.0  \n",
       "244448                    MENS WEAR          8064.0  \n",
       "244449  INFANT CONSUMABLE HARDLINES          2123.0  \n",
       "244450  INFANT CONSUMABLE HARDLINES          2114.0  "
      ]
     },
     "execution_count": 64,
     "metadata": {},
     "output_type": "execute_result"
    }
   ],
   "source": [
    "Trip_data[Trip_data[\"VisitNumber\"]==72439][:10]"
   ]
  },
  {
   "cell_type": "code",
   "execution_count": 65,
   "metadata": {},
   "outputs": [
    {
     "data": {
      "text/html": [
       "<div>\n",
       "<style scoped>\n",
       "    .dataframe tbody tr th:only-of-type {\n",
       "        vertical-align: middle;\n",
       "    }\n",
       "\n",
       "    .dataframe tbody tr th {\n",
       "        vertical-align: top;\n",
       "    }\n",
       "\n",
       "    .dataframe thead th {\n",
       "        text-align: right;\n",
       "    }\n",
       "</style>\n",
       "<table border=\"1\" class=\"dataframe\">\n",
       "  <thead>\n",
       "    <tr style=\"text-align: right;\">\n",
       "      <th></th>\n",
       "      <th>TripType</th>\n",
       "      <th>VisitNumber</th>\n",
       "      <th>Weekday</th>\n",
       "      <th>Upc</th>\n",
       "      <th>ScanCount</th>\n",
       "      <th>DepartmentDescription</th>\n",
       "      <th>FinelineNumber</th>\n",
       "    </tr>\n",
       "  </thead>\n",
       "  <tbody>\n",
       "    <tr>\n",
       "      <th>244440</th>\n",
       "      <td>24</td>\n",
       "      <td>72439</td>\n",
       "      <td>Tuesday</td>\n",
       "      <td>88616687879</td>\n",
       "      <td>1</td>\n",
       "      <td>BOYS WEAR</td>\n",
       "      <td>1025.0</td>\n",
       "    </tr>\n",
       "    <tr>\n",
       "      <th>244441</th>\n",
       "      <td>24</td>\n",
       "      <td>72439</td>\n",
       "      <td>Tuesday</td>\n",
       "      <td>7602630673</td>\n",
       "      <td>2</td>\n",
       "      <td>COOK AND DINE</td>\n",
       "      <td>2067.0</td>\n",
       "    </tr>\n",
       "    <tr>\n",
       "      <th>244442</th>\n",
       "      <td>24</td>\n",
       "      <td>72439</td>\n",
       "      <td>Tuesday</td>\n",
       "      <td>7214063386</td>\n",
       "      <td>1</td>\n",
       "      <td>PERSONAL CARE</td>\n",
       "      <td>3090.0</td>\n",
       "    </tr>\n",
       "    <tr>\n",
       "      <th>244443</th>\n",
       "      <td>24</td>\n",
       "      <td>72439</td>\n",
       "      <td>Tuesday</td>\n",
       "      <td>4393558928</td>\n",
       "      <td>2</td>\n",
       "      <td>MENS WEAR</td>\n",
       "      <td>5542.0</td>\n",
       "    </tr>\n",
       "    <tr>\n",
       "      <th>244444</th>\n",
       "      <td>24</td>\n",
       "      <td>72439</td>\n",
       "      <td>Tuesday</td>\n",
       "      <td>4747558605</td>\n",
       "      <td>1</td>\n",
       "      <td>CELEBRATION</td>\n",
       "      <td>5507.0</td>\n",
       "    </tr>\n",
       "    <tr>\n",
       "      <th>244445</th>\n",
       "      <td>24</td>\n",
       "      <td>72439</td>\n",
       "      <td>Tuesday</td>\n",
       "      <td>1714586340</td>\n",
       "      <td>1</td>\n",
       "      <td>IMPULSE MERCHANDISE</td>\n",
       "      <td>8904.0</td>\n",
       "    </tr>\n",
       "    <tr>\n",
       "      <th>244447</th>\n",
       "      <td>24</td>\n",
       "      <td>72439</td>\n",
       "      <td>Tuesday</td>\n",
       "      <td>82506302901</td>\n",
       "      <td>1</td>\n",
       "      <td>BATH AND SHOWER</td>\n",
       "      <td>1500.0</td>\n",
       "    </tr>\n",
       "    <tr>\n",
       "      <th>244448</th>\n",
       "      <td>24</td>\n",
       "      <td>72439</td>\n",
       "      <td>Tuesday</td>\n",
       "      <td>7001062236</td>\n",
       "      <td>1</td>\n",
       "      <td>MENS WEAR</td>\n",
       "      <td>8064.0</td>\n",
       "    </tr>\n",
       "    <tr>\n",
       "      <th>244449</th>\n",
       "      <td>24</td>\n",
       "      <td>72439</td>\n",
       "      <td>Tuesday</td>\n",
       "      <td>89811500266</td>\n",
       "      <td>4</td>\n",
       "      <td>INFANT CONSUMABLE HARDLINES</td>\n",
       "      <td>2123.0</td>\n",
       "    </tr>\n",
       "    <tr>\n",
       "      <th>244450</th>\n",
       "      <td>24</td>\n",
       "      <td>72439</td>\n",
       "      <td>Tuesday</td>\n",
       "      <td>36373636304</td>\n",
       "      <td>1</td>\n",
       "      <td>INFANT CONSUMABLE HARDLINES</td>\n",
       "      <td>2114.0</td>\n",
       "    </tr>\n",
       "    <tr>\n",
       "      <th>244451</th>\n",
       "      <td>24</td>\n",
       "      <td>72439</td>\n",
       "      <td>Tuesday</td>\n",
       "      <td>1089259204</td>\n",
       "      <td>1</td>\n",
       "      <td>BATH AND SHOWER</td>\n",
       "      <td>2025.0</td>\n",
       "    </tr>\n",
       "    <tr>\n",
       "      <th>244452</th>\n",
       "      <td>24</td>\n",
       "      <td>72439</td>\n",
       "      <td>Tuesday</td>\n",
       "      <td>7535392332</td>\n",
       "      <td>1</td>\n",
       "      <td>BATH AND SHOWER</td>\n",
       "      <td>9912.0</td>\n",
       "    </tr>\n",
       "    <tr>\n",
       "      <th>244453</th>\n",
       "      <td>24</td>\n",
       "      <td>72439</td>\n",
       "      <td>Tuesday</td>\n",
       "      <td>1089261938</td>\n",
       "      <td>1</td>\n",
       "      <td>BATH AND SHOWER</td>\n",
       "      <td>2025.0</td>\n",
       "    </tr>\n",
       "    <tr>\n",
       "      <th>244454</th>\n",
       "      <td>24</td>\n",
       "      <td>72439</td>\n",
       "      <td>Tuesday</td>\n",
       "      <td>88616687881</td>\n",
       "      <td>1</td>\n",
       "      <td>BOYS WEAR</td>\n",
       "      <td>1025.0</td>\n",
       "    </tr>\n",
       "    <tr>\n",
       "      <th>244455</th>\n",
       "      <td>24</td>\n",
       "      <td>72439</td>\n",
       "      <td>Tuesday</td>\n",
       "      <td>84471884457</td>\n",
       "      <td>1</td>\n",
       "      <td>IMPULSE MERCHANDISE</td>\n",
       "      <td>302.0</td>\n",
       "    </tr>\n",
       "    <tr>\n",
       "      <th>244456</th>\n",
       "      <td>24</td>\n",
       "      <td>72439</td>\n",
       "      <td>Tuesday</td>\n",
       "      <td>7704340145</td>\n",
       "      <td>2</td>\n",
       "      <td>PERSONAL CARE</td>\n",
       "      <td>3151.0</td>\n",
       "    </tr>\n",
       "    <tr>\n",
       "      <th>244457</th>\n",
       "      <td>24</td>\n",
       "      <td>72439</td>\n",
       "      <td>Tuesday</td>\n",
       "      <td>89775200221</td>\n",
       "      <td>4</td>\n",
       "      <td>INFANT CONSUMABLE HARDLINES</td>\n",
       "      <td>2119.0</td>\n",
       "    </tr>\n",
       "    <tr>\n",
       "      <th>244458</th>\n",
       "      <td>24</td>\n",
       "      <td>72439</td>\n",
       "      <td>Tuesday</td>\n",
       "      <td>68113110422</td>\n",
       "      <td>4</td>\n",
       "      <td>INFANT CONSUMABLE HARDLINES</td>\n",
       "      <td>2113.0</td>\n",
       "    </tr>\n",
       "    <tr>\n",
       "      <th>244459</th>\n",
       "      <td>24</td>\n",
       "      <td>72439</td>\n",
       "      <td>Tuesday</td>\n",
       "      <td>1325930550</td>\n",
       "      <td>1</td>\n",
       "      <td>INFANT APPAREL</td>\n",
       "      <td>6670.0</td>\n",
       "    </tr>\n",
       "    <tr>\n",
       "      <th>244460</th>\n",
       "      <td>24</td>\n",
       "      <td>72439</td>\n",
       "      <td>Tuesday</td>\n",
       "      <td>75694001650</td>\n",
       "      <td>1</td>\n",
       "      <td>COOK AND DINE</td>\n",
       "      <td>3912.0</td>\n",
       "    </tr>\n",
       "    <tr>\n",
       "      <th>244461</th>\n",
       "      <td>24</td>\n",
       "      <td>72439</td>\n",
       "      <td>Tuesday</td>\n",
       "      <td>7602630674</td>\n",
       "      <td>1</td>\n",
       "      <td>COOK AND DINE</td>\n",
       "      <td>2067.0</td>\n",
       "    </tr>\n",
       "    <tr>\n",
       "      <th>244462</th>\n",
       "      <td>24</td>\n",
       "      <td>72439</td>\n",
       "      <td>Tuesday</td>\n",
       "      <td>84943400198</td>\n",
       "      <td>1</td>\n",
       "      <td>COOK AND DINE</td>\n",
       "      <td>2074.0</td>\n",
       "    </tr>\n",
       "    <tr>\n",
       "      <th>244464</th>\n",
       "      <td>24</td>\n",
       "      <td>72439</td>\n",
       "      <td>Tuesday</td>\n",
       "      <td>84943400198</td>\n",
       "      <td>2</td>\n",
       "      <td>COOK AND DINE</td>\n",
       "      <td>2074.0</td>\n",
       "    </tr>\n",
       "    <tr>\n",
       "      <th>244465</th>\n",
       "      <td>24</td>\n",
       "      <td>72439</td>\n",
       "      <td>Tuesday</td>\n",
       "      <td>84943400197</td>\n",
       "      <td>1</td>\n",
       "      <td>COOK AND DINE</td>\n",
       "      <td>2074.0</td>\n",
       "    </tr>\n",
       "    <tr>\n",
       "      <th>244466</th>\n",
       "      <td>24</td>\n",
       "      <td>72439</td>\n",
       "      <td>Tuesday</td>\n",
       "      <td>84943400197</td>\n",
       "      <td>3</td>\n",
       "      <td>COOK AND DINE</td>\n",
       "      <td>2074.0</td>\n",
       "    </tr>\n",
       "    <tr>\n",
       "      <th>244467</th>\n",
       "      <td>24</td>\n",
       "      <td>72439</td>\n",
       "      <td>Tuesday</td>\n",
       "      <td>4207541033</td>\n",
       "      <td>1</td>\n",
       "      <td>BEDDING</td>\n",
       "      <td>327.0</td>\n",
       "    </tr>\n",
       "    <tr>\n",
       "      <th>244468</th>\n",
       "      <td>24</td>\n",
       "      <td>72439</td>\n",
       "      <td>Tuesday</td>\n",
       "      <td>3426445703</td>\n",
       "      <td>1</td>\n",
       "      <td>COOK AND DINE</td>\n",
       "      <td>578.0</td>\n",
       "    </tr>\n",
       "    <tr>\n",
       "      <th>244469</th>\n",
       "      <td>24</td>\n",
       "      <td>72439</td>\n",
       "      <td>Tuesday</td>\n",
       "      <td>63189921855</td>\n",
       "      <td>1</td>\n",
       "      <td>COOK AND DINE</td>\n",
       "      <td>2401.0</td>\n",
       "    </tr>\n",
       "    <tr>\n",
       "      <th>244470</th>\n",
       "      <td>24</td>\n",
       "      <td>72439</td>\n",
       "      <td>Tuesday</td>\n",
       "      <td>7001061340</td>\n",
       "      <td>1</td>\n",
       "      <td>MENS WEAR</td>\n",
       "      <td>8064.0</td>\n",
       "    </tr>\n",
       "    <tr>\n",
       "      <th>244471</th>\n",
       "      <td>24</td>\n",
       "      <td>72439</td>\n",
       "      <td>Tuesday</td>\n",
       "      <td>30573177091</td>\n",
       "      <td>2</td>\n",
       "      <td>INFANT CONSUMABLE HARDLINES</td>\n",
       "      <td>2123.0</td>\n",
       "    </tr>\n",
       "  </tbody>\n",
       "</table>\n",
       "</div>"
      ],
      "text/plain": [
       "        TripType  VisitNumber  Weekday          Upc  ScanCount  \\\n",
       "244440        24        72439  Tuesday  88616687879          1   \n",
       "244441        24        72439  Tuesday   7602630673          2   \n",
       "244442        24        72439  Tuesday   7214063386          1   \n",
       "244443        24        72439  Tuesday   4393558928          2   \n",
       "244444        24        72439  Tuesday   4747558605          1   \n",
       "244445        24        72439  Tuesday   1714586340          1   \n",
       "244447        24        72439  Tuesday  82506302901          1   \n",
       "244448        24        72439  Tuesday   7001062236          1   \n",
       "244449        24        72439  Tuesday  89811500266          4   \n",
       "244450        24        72439  Tuesday  36373636304          1   \n",
       "244451        24        72439  Tuesday   1089259204          1   \n",
       "244452        24        72439  Tuesday   7535392332          1   \n",
       "244453        24        72439  Tuesday   1089261938          1   \n",
       "244454        24        72439  Tuesday  88616687881          1   \n",
       "244455        24        72439  Tuesday  84471884457          1   \n",
       "244456        24        72439  Tuesday   7704340145          2   \n",
       "244457        24        72439  Tuesday  89775200221          4   \n",
       "244458        24        72439  Tuesday  68113110422          4   \n",
       "244459        24        72439  Tuesday   1325930550          1   \n",
       "244460        24        72439  Tuesday  75694001650          1   \n",
       "244461        24        72439  Tuesday   7602630674          1   \n",
       "244462        24        72439  Tuesday  84943400198          1   \n",
       "244464        24        72439  Tuesday  84943400198          2   \n",
       "244465        24        72439  Tuesday  84943400197          1   \n",
       "244466        24        72439  Tuesday  84943400197          3   \n",
       "244467        24        72439  Tuesday   4207541033          1   \n",
       "244468        24        72439  Tuesday   3426445703          1   \n",
       "244469        24        72439  Tuesday  63189921855          1   \n",
       "244470        24        72439  Tuesday   7001061340          1   \n",
       "244471        24        72439  Tuesday  30573177091          2   \n",
       "\n",
       "              DepartmentDescription  FinelineNumber  \n",
       "244440                    BOYS WEAR          1025.0  \n",
       "244441                COOK AND DINE          2067.0  \n",
       "244442                PERSONAL CARE          3090.0  \n",
       "244443                    MENS WEAR          5542.0  \n",
       "244444                  CELEBRATION          5507.0  \n",
       "244445          IMPULSE MERCHANDISE          8904.0  \n",
       "244447              BATH AND SHOWER          1500.0  \n",
       "244448                    MENS WEAR          8064.0  \n",
       "244449  INFANT CONSUMABLE HARDLINES          2123.0  \n",
       "244450  INFANT CONSUMABLE HARDLINES          2114.0  \n",
       "244451              BATH AND SHOWER          2025.0  \n",
       "244452              BATH AND SHOWER          9912.0  \n",
       "244453              BATH AND SHOWER          2025.0  \n",
       "244454                    BOYS WEAR          1025.0  \n",
       "244455          IMPULSE MERCHANDISE           302.0  \n",
       "244456                PERSONAL CARE          3151.0  \n",
       "244457  INFANT CONSUMABLE HARDLINES          2119.0  \n",
       "244458  INFANT CONSUMABLE HARDLINES          2113.0  \n",
       "244459               INFANT APPAREL          6670.0  \n",
       "244460                COOK AND DINE          3912.0  \n",
       "244461                COOK AND DINE          2067.0  \n",
       "244462                COOK AND DINE          2074.0  \n",
       "244464                COOK AND DINE          2074.0  \n",
       "244465                COOK AND DINE          2074.0  \n",
       "244466                COOK AND DINE          2074.0  \n",
       "244467                      BEDDING           327.0  \n",
       "244468                COOK AND DINE           578.0  \n",
       "244469                COOK AND DINE          2401.0  \n",
       "244470                    MENS WEAR          8064.0  \n",
       "244471  INFANT CONSUMABLE HARDLINES          2123.0  "
      ]
     },
     "execution_count": 65,
     "metadata": {},
     "output_type": "execute_result"
    }
   ],
   "source": [
    "# Let us see some more records\n",
    "Trip_data[Trip_data[\"VisitNumber\"]==72439][:30]"
   ]
  },
  {
   "cell_type": "code",
   "execution_count": 66,
   "metadata": {},
   "outputs": [
    {
     "data": {
      "text/html": [
       "<div>\n",
       "<style scoped>\n",
       "    .dataframe tbody tr th:only-of-type {\n",
       "        vertical-align: middle;\n",
       "    }\n",
       "\n",
       "    .dataframe tbody tr th {\n",
       "        vertical-align: top;\n",
       "    }\n",
       "\n",
       "    .dataframe thead th {\n",
       "        text-align: right;\n",
       "    }\n",
       "</style>\n",
       "<table border=\"1\" class=\"dataframe\">\n",
       "  <thead>\n",
       "    <tr style=\"text-align: right;\">\n",
       "      <th></th>\n",
       "      <th>TripType</th>\n",
       "      <th>VisitNumber</th>\n",
       "      <th>Weekday</th>\n",
       "      <th>Upc</th>\n",
       "      <th>ScanCount</th>\n",
       "      <th>DepartmentDescription</th>\n",
       "      <th>FinelineNumber</th>\n",
       "    </tr>\n",
       "  </thead>\n",
       "  <tbody>\n",
       "    <tr>\n",
       "      <th>292488</th>\n",
       "      <td>40</td>\n",
       "      <td>88011</td>\n",
       "      <td>Friday</td>\n",
       "      <td>3500055372</td>\n",
       "      <td>1</td>\n",
       "      <td>PERSONAL CARE</td>\n",
       "      <td>9108.0</td>\n",
       "    </tr>\n",
       "    <tr>\n",
       "      <th>292489</th>\n",
       "      <td>40</td>\n",
       "      <td>88011</td>\n",
       "      <td>Friday</td>\n",
       "      <td>5100001210</td>\n",
       "      <td>2</td>\n",
       "      <td>GROCERY DRY GOODS</td>\n",
       "      <td>2401.0</td>\n",
       "    </tr>\n",
       "    <tr>\n",
       "      <th>292490</th>\n",
       "      <td>40</td>\n",
       "      <td>88011</td>\n",
       "      <td>Friday</td>\n",
       "      <td>4288741184</td>\n",
       "      <td>1</td>\n",
       "      <td>IMPULSE MERCHANDISE</td>\n",
       "      <td>8296.0</td>\n",
       "    </tr>\n",
       "    <tr>\n",
       "      <th>292491</th>\n",
       "      <td>40</td>\n",
       "      <td>88011</td>\n",
       "      <td>Friday</td>\n",
       "      <td>1740010667</td>\n",
       "      <td>1</td>\n",
       "      <td>GROCERY DRY GOODS</td>\n",
       "      <td>3813.0</td>\n",
       "    </tr>\n",
       "    <tr>\n",
       "      <th>292492</th>\n",
       "      <td>40</td>\n",
       "      <td>88011</td>\n",
       "      <td>Friday</td>\n",
       "      <td>1300000640</td>\n",
       "      <td>1</td>\n",
       "      <td>GROCERY DRY GOODS</td>\n",
       "      <td>2301.0</td>\n",
       "    </tr>\n",
       "    <tr>\n",
       "      <th>292493</th>\n",
       "      <td>40</td>\n",
       "      <td>88011</td>\n",
       "      <td>Friday</td>\n",
       "      <td>2840006406</td>\n",
       "      <td>1</td>\n",
       "      <td>DSD GROCERY</td>\n",
       "      <td>7002.0</td>\n",
       "    </tr>\n",
       "    <tr>\n",
       "      <th>292494</th>\n",
       "      <td>40</td>\n",
       "      <td>88011</td>\n",
       "      <td>Friday</td>\n",
       "      <td>3800077127</td>\n",
       "      <td>1</td>\n",
       "      <td>GROCERY DRY GOODS</td>\n",
       "      <td>3600.0</td>\n",
       "    </tr>\n",
       "    <tr>\n",
       "      <th>292495</th>\n",
       "      <td>40</td>\n",
       "      <td>88011</td>\n",
       "      <td>Friday</td>\n",
       "      <td>30997366400</td>\n",
       "      <td>1</td>\n",
       "      <td>PERSONAL CARE</td>\n",
       "      <td>5414.0</td>\n",
       "    </tr>\n",
       "    <tr>\n",
       "      <th>292496</th>\n",
       "      <td>40</td>\n",
       "      <td>88011</td>\n",
       "      <td>Friday</td>\n",
       "      <td>4878916215</td>\n",
       "      <td>1</td>\n",
       "      <td>HOUSEHOLD PAPER GOODS</td>\n",
       "      <td>7040.0</td>\n",
       "    </tr>\n",
       "    <tr>\n",
       "      <th>292497</th>\n",
       "      <td>40</td>\n",
       "      <td>88011</td>\n",
       "      <td>Friday</td>\n",
       "      <td>7343500004</td>\n",
       "      <td>1</td>\n",
       "      <td>COMM BREAD</td>\n",
       "      <td>3791.0</td>\n",
       "    </tr>\n",
       "    <tr>\n",
       "      <th>292498</th>\n",
       "      <td>40</td>\n",
       "      <td>88011</td>\n",
       "      <td>Friday</td>\n",
       "      <td>2840008936</td>\n",
       "      <td>1</td>\n",
       "      <td>DSD GROCERY</td>\n",
       "      <td>9267.0</td>\n",
       "    </tr>\n",
       "    <tr>\n",
       "      <th>292499</th>\n",
       "      <td>40</td>\n",
       "      <td>88011</td>\n",
       "      <td>Friday</td>\n",
       "      <td>2033503515</td>\n",
       "      <td>1</td>\n",
       "      <td>OFFICE SUPPLIES</td>\n",
       "      <td>6694.0</td>\n",
       "    </tr>\n",
       "    <tr>\n",
       "      <th>292500</th>\n",
       "      <td>40</td>\n",
       "      <td>88011</td>\n",
       "      <td>Friday</td>\n",
       "      <td>2400036702</td>\n",
       "      <td>2</td>\n",
       "      <td>GROCERY DRY GOODS</td>\n",
       "      <td>2764.0</td>\n",
       "    </tr>\n",
       "    <tr>\n",
       "      <th>292501</th>\n",
       "      <td>40</td>\n",
       "      <td>88011</td>\n",
       "      <td>Friday</td>\n",
       "      <td>31015808375</td>\n",
       "      <td>1</td>\n",
       "      <td>PERSONAL CARE</td>\n",
       "      <td>205.0</td>\n",
       "    </tr>\n",
       "    <tr>\n",
       "      <th>292502</th>\n",
       "      <td>40</td>\n",
       "      <td>88011</td>\n",
       "      <td>Friday</td>\n",
       "      <td>30045019204</td>\n",
       "      <td>1</td>\n",
       "      <td>PHARMACY OTC</td>\n",
       "      <td>2035.0</td>\n",
       "    </tr>\n",
       "    <tr>\n",
       "      <th>292503</th>\n",
       "      <td>40</td>\n",
       "      <td>88011</td>\n",
       "      <td>Friday</td>\n",
       "      <td>20154500000</td>\n",
       "      <td>1</td>\n",
       "      <td>SERVICE DELI</td>\n",
       "      <td>8001.0</td>\n",
       "    </tr>\n",
       "    <tr>\n",
       "      <th>292504</th>\n",
       "      <td>40</td>\n",
       "      <td>88011</td>\n",
       "      <td>Friday</td>\n",
       "      <td>4900000764</td>\n",
       "      <td>1</td>\n",
       "      <td>DSD GROCERY</td>\n",
       "      <td>9546.0</td>\n",
       "    </tr>\n",
       "    <tr>\n",
       "      <th>292505</th>\n",
       "      <td>40</td>\n",
       "      <td>88011</td>\n",
       "      <td>Friday</td>\n",
       "      <td>7048599867</td>\n",
       "      <td>1</td>\n",
       "      <td>HOUSEHOLD PAPER GOODS</td>\n",
       "      <td>4693.0</td>\n",
       "    </tr>\n",
       "    <tr>\n",
       "      <th>292506</th>\n",
       "      <td>40</td>\n",
       "      <td>88011</td>\n",
       "      <td>Friday</td>\n",
       "      <td>1600027297</td>\n",
       "      <td>1</td>\n",
       "      <td>GROCERY DRY GOODS</td>\n",
       "      <td>3600.0</td>\n",
       "    </tr>\n",
       "    <tr>\n",
       "      <th>292507</th>\n",
       "      <td>40</td>\n",
       "      <td>88011</td>\n",
       "      <td>Friday</td>\n",
       "      <td>4200035503</td>\n",
       "      <td>1</td>\n",
       "      <td>HOUSEHOLD PAPER GOODS</td>\n",
       "      <td>4050.0</td>\n",
       "    </tr>\n",
       "    <tr>\n",
       "      <th>292508</th>\n",
       "      <td>40</td>\n",
       "      <td>88011</td>\n",
       "      <td>Friday</td>\n",
       "      <td>2100077436</td>\n",
       "      <td>1</td>\n",
       "      <td>GROCERY DRY GOODS</td>\n",
       "      <td>3951.0</td>\n",
       "    </tr>\n",
       "    <tr>\n",
       "      <th>292509</th>\n",
       "      <td>40</td>\n",
       "      <td>88011</td>\n",
       "      <td>Friday</td>\n",
       "      <td>7680828008</td>\n",
       "      <td>2</td>\n",
       "      <td>GROCERY DRY GOODS</td>\n",
       "      <td>3901.0</td>\n",
       "    </tr>\n",
       "    <tr>\n",
       "      <th>292510</th>\n",
       "      <td>40</td>\n",
       "      <td>88011</td>\n",
       "      <td>Friday</td>\n",
       "      <td>7680851829</td>\n",
       "      <td>1</td>\n",
       "      <td>GROCERY DRY GOODS</td>\n",
       "      <td>3940.0</td>\n",
       "    </tr>\n",
       "    <tr>\n",
       "      <th>292511</th>\n",
       "      <td>40</td>\n",
       "      <td>88011</td>\n",
       "      <td>Friday</td>\n",
       "      <td>2460001058</td>\n",
       "      <td>1</td>\n",
       "      <td>GROCERY DRY GOODS</td>\n",
       "      <td>4254.0</td>\n",
       "    </tr>\n",
       "    <tr>\n",
       "      <th>292512</th>\n",
       "      <td>40</td>\n",
       "      <td>88011</td>\n",
       "      <td>Friday</td>\n",
       "      <td>7143000752</td>\n",
       "      <td>1</td>\n",
       "      <td>PRODUCE</td>\n",
       "      <td>3601.0</td>\n",
       "    </tr>\n",
       "    <tr>\n",
       "      <th>292513</th>\n",
       "      <td>40</td>\n",
       "      <td>88011</td>\n",
       "      <td>Friday</td>\n",
       "      <td>2700069061</td>\n",
       "      <td>1</td>\n",
       "      <td>GROCERY DRY GOODS</td>\n",
       "      <td>4408.0</td>\n",
       "    </tr>\n",
       "    <tr>\n",
       "      <th>292514</th>\n",
       "      <td>40</td>\n",
       "      <td>88011</td>\n",
       "      <td>Friday</td>\n",
       "      <td>4400003113</td>\n",
       "      <td>1</td>\n",
       "      <td>DSD GROCERY</td>\n",
       "      <td>3717.0</td>\n",
       "    </tr>\n",
       "    <tr>\n",
       "      <th>292515</th>\n",
       "      <td>40</td>\n",
       "      <td>88011</td>\n",
       "      <td>Friday</td>\n",
       "      <td>2900001610</td>\n",
       "      <td>1</td>\n",
       "      <td>DSD GROCERY</td>\n",
       "      <td>3562.0</td>\n",
       "    </tr>\n",
       "    <tr>\n",
       "      <th>292516</th>\n",
       "      <td>40</td>\n",
       "      <td>88011</td>\n",
       "      <td>Friday</td>\n",
       "      <td>1600041481</td>\n",
       "      <td>1</td>\n",
       "      <td>GROCERY DRY GOODS</td>\n",
       "      <td>3600.0</td>\n",
       "    </tr>\n",
       "    <tr>\n",
       "      <th>292517</th>\n",
       "      <td>40</td>\n",
       "      <td>88011</td>\n",
       "      <td>Friday</td>\n",
       "      <td>63084090279</td>\n",
       "      <td>2</td>\n",
       "      <td>IMPULSE MERCHANDISE</td>\n",
       "      <td>8240.0</td>\n",
       "    </tr>\n",
       "  </tbody>\n",
       "</table>\n",
       "</div>"
      ],
      "text/plain": [
       "        TripType  VisitNumber Weekday          Upc  ScanCount  \\\n",
       "292488        40        88011  Friday   3500055372          1   \n",
       "292489        40        88011  Friday   5100001210          2   \n",
       "292490        40        88011  Friday   4288741184          1   \n",
       "292491        40        88011  Friday   1740010667          1   \n",
       "292492        40        88011  Friday   1300000640          1   \n",
       "292493        40        88011  Friday   2840006406          1   \n",
       "292494        40        88011  Friday   3800077127          1   \n",
       "292495        40        88011  Friday  30997366400          1   \n",
       "292496        40        88011  Friday   4878916215          1   \n",
       "292497        40        88011  Friday   7343500004          1   \n",
       "292498        40        88011  Friday   2840008936          1   \n",
       "292499        40        88011  Friday   2033503515          1   \n",
       "292500        40        88011  Friday   2400036702          2   \n",
       "292501        40        88011  Friday  31015808375          1   \n",
       "292502        40        88011  Friday  30045019204          1   \n",
       "292503        40        88011  Friday  20154500000          1   \n",
       "292504        40        88011  Friday   4900000764          1   \n",
       "292505        40        88011  Friday   7048599867          1   \n",
       "292506        40        88011  Friday   1600027297          1   \n",
       "292507        40        88011  Friday   4200035503          1   \n",
       "292508        40        88011  Friday   2100077436          1   \n",
       "292509        40        88011  Friday   7680828008          2   \n",
       "292510        40        88011  Friday   7680851829          1   \n",
       "292511        40        88011  Friday   2460001058          1   \n",
       "292512        40        88011  Friday   7143000752          1   \n",
       "292513        40        88011  Friday   2700069061          1   \n",
       "292514        40        88011  Friday   4400003113          1   \n",
       "292515        40        88011  Friday   2900001610          1   \n",
       "292516        40        88011  Friday   1600041481          1   \n",
       "292517        40        88011  Friday  63084090279          2   \n",
       "\n",
       "        DepartmentDescription  FinelineNumber  \n",
       "292488          PERSONAL CARE          9108.0  \n",
       "292489      GROCERY DRY GOODS          2401.0  \n",
       "292490    IMPULSE MERCHANDISE          8296.0  \n",
       "292491      GROCERY DRY GOODS          3813.0  \n",
       "292492      GROCERY DRY GOODS          2301.0  \n",
       "292493            DSD GROCERY          7002.0  \n",
       "292494      GROCERY DRY GOODS          3600.0  \n",
       "292495          PERSONAL CARE          5414.0  \n",
       "292496  HOUSEHOLD PAPER GOODS          7040.0  \n",
       "292497             COMM BREAD          3791.0  \n",
       "292498            DSD GROCERY          9267.0  \n",
       "292499        OFFICE SUPPLIES          6694.0  \n",
       "292500      GROCERY DRY GOODS          2764.0  \n",
       "292501          PERSONAL CARE           205.0  \n",
       "292502           PHARMACY OTC          2035.0  \n",
       "292503           SERVICE DELI          8001.0  \n",
       "292504            DSD GROCERY          9546.0  \n",
       "292505  HOUSEHOLD PAPER GOODS          4693.0  \n",
       "292506      GROCERY DRY GOODS          3600.0  \n",
       "292507  HOUSEHOLD PAPER GOODS          4050.0  \n",
       "292508      GROCERY DRY GOODS          3951.0  \n",
       "292509      GROCERY DRY GOODS          3901.0  \n",
       "292510      GROCERY DRY GOODS          3940.0  \n",
       "292511      GROCERY DRY GOODS          4254.0  \n",
       "292512                PRODUCE          3601.0  \n",
       "292513      GROCERY DRY GOODS          4408.0  \n",
       "292514            DSD GROCERY          3717.0  \n",
       "292515            DSD GROCERY          3562.0  \n",
       "292516      GROCERY DRY GOODS          3600.0  \n",
       "292517    IMPULSE MERCHANDISE          8240.0  "
      ]
     },
     "execution_count": 66,
     "metadata": {},
     "output_type": "execute_result"
    }
   ],
   "source": [
    "Trip_data[Trip_data[\"VisitNumber\"]==88011][:30]"
   ]
  },
  {
   "cell_type": "code",
   "execution_count": 67,
   "metadata": {},
   "outputs": [
    {
     "data": {
      "text/html": [
       "<div>\n",
       "<style scoped>\n",
       "    .dataframe tbody tr th:only-of-type {\n",
       "        vertical-align: middle;\n",
       "    }\n",
       "\n",
       "    .dataframe tbody tr th {\n",
       "        vertical-align: top;\n",
       "    }\n",
       "\n",
       "    .dataframe thead th {\n",
       "        text-align: right;\n",
       "    }\n",
       "</style>\n",
       "<table border=\"1\" class=\"dataframe\">\n",
       "  <thead>\n",
       "    <tr style=\"text-align: right;\">\n",
       "      <th></th>\n",
       "      <th>TripType</th>\n",
       "      <th>VisitNumber</th>\n",
       "      <th>Weekday</th>\n",
       "      <th>Upc</th>\n",
       "      <th>ScanCount</th>\n",
       "      <th>DepartmentDescription</th>\n",
       "      <th>FinelineNumber</th>\n",
       "    </tr>\n",
       "  </thead>\n",
       "  <tbody>\n",
       "    <tr>\n",
       "      <th>29800</th>\n",
       "      <td>40</td>\n",
       "      <td>9181</td>\n",
       "      <td>Saturday</td>\n",
       "      <td>4460000938</td>\n",
       "      <td>1</td>\n",
       "      <td>HOUSEHOLD CHEMICALS/SUPP</td>\n",
       "      <td>6010.0</td>\n",
       "    </tr>\n",
       "    <tr>\n",
       "      <th>29801</th>\n",
       "      <td>40</td>\n",
       "      <td>9181</td>\n",
       "      <td>Saturday</td>\n",
       "      <td>3700033550</td>\n",
       "      <td>1</td>\n",
       "      <td>HOUSEHOLD CHEMICALS/SUPP</td>\n",
       "      <td>9055.0</td>\n",
       "    </tr>\n",
       "    <tr>\n",
       "      <th>29802</th>\n",
       "      <td>40</td>\n",
       "      <td>9181</td>\n",
       "      <td>Saturday</td>\n",
       "      <td>7874203269</td>\n",
       "      <td>1</td>\n",
       "      <td>HOUSEHOLD PAPER GOODS</td>\n",
       "      <td>6206.0</td>\n",
       "    </tr>\n",
       "    <tr>\n",
       "      <th>29803</th>\n",
       "      <td>40</td>\n",
       "      <td>9181</td>\n",
       "      <td>Saturday</td>\n",
       "      <td>4135</td>\n",
       "      <td>1</td>\n",
       "      <td>PRODUCE</td>\n",
       "      <td>1214.0</td>\n",
       "    </tr>\n",
       "    <tr>\n",
       "      <th>29804</th>\n",
       "      <td>40</td>\n",
       "      <td>9181</td>\n",
       "      <td>Saturday</td>\n",
       "      <td>7172572836</td>\n",
       "      <td>1</td>\n",
       "      <td>PRODUCE</td>\n",
       "      <td>177.0</td>\n",
       "    </tr>\n",
       "    <tr>\n",
       "      <th>29805</th>\n",
       "      <td>40</td>\n",
       "      <td>9181</td>\n",
       "      <td>Saturday</td>\n",
       "      <td>2840018476</td>\n",
       "      <td>1</td>\n",
       "      <td>DSD GROCERY</td>\n",
       "      <td>4451.0</td>\n",
       "    </tr>\n",
       "    <tr>\n",
       "      <th>29806</th>\n",
       "      <td>40</td>\n",
       "      <td>9181</td>\n",
       "      <td>Saturday</td>\n",
       "      <td>3600042489</td>\n",
       "      <td>1</td>\n",
       "      <td>PHARMACY OTC</td>\n",
       "      <td>274.0</td>\n",
       "    </tr>\n",
       "    <tr>\n",
       "      <th>29807</th>\n",
       "      <td>40</td>\n",
       "      <td>9181</td>\n",
       "      <td>Saturday</td>\n",
       "      <td>7539102394</td>\n",
       "      <td>1</td>\n",
       "      <td>SEAFOOD</td>\n",
       "      <td>1053.0</td>\n",
       "    </tr>\n",
       "    <tr>\n",
       "      <th>29808</th>\n",
       "      <td>40</td>\n",
       "      <td>9181</td>\n",
       "      <td>Saturday</td>\n",
       "      <td>3384400448</td>\n",
       "      <td>1</td>\n",
       "      <td>GROCERY DRY GOODS</td>\n",
       "      <td>4293.0</td>\n",
       "    </tr>\n",
       "    <tr>\n",
       "      <th>29809</th>\n",
       "      <td>40</td>\n",
       "      <td>9181</td>\n",
       "      <td>Saturday</td>\n",
       "      <td>79316591160</td>\n",
       "      <td>1</td>\n",
       "      <td>HOUSEHOLD CHEMICALS/SUPP</td>\n",
       "      <td>4510.0</td>\n",
       "    </tr>\n",
       "    <tr>\n",
       "      <th>29810</th>\n",
       "      <td>40</td>\n",
       "      <td>9181</td>\n",
       "      <td>Saturday</td>\n",
       "      <td>3040021530</td>\n",
       "      <td>1</td>\n",
       "      <td>HOUSEHOLD PAPER GOODS</td>\n",
       "      <td>104.0</td>\n",
       "    </tr>\n",
       "    <tr>\n",
       "      <th>29811</th>\n",
       "      <td>40</td>\n",
       "      <td>9181</td>\n",
       "      <td>Saturday</td>\n",
       "      <td>3500068301</td>\n",
       "      <td>1</td>\n",
       "      <td>PERSONAL CARE</td>\n",
       "      <td>412.0</td>\n",
       "    </tr>\n",
       "    <tr>\n",
       "      <th>29812</th>\n",
       "      <td>40</td>\n",
       "      <td>9181</td>\n",
       "      <td>Saturday</td>\n",
       "      <td>7192129053</td>\n",
       "      <td>2</td>\n",
       "      <td>FROZEN FOODS</td>\n",
       "      <td>9114.0</td>\n",
       "    </tr>\n",
       "    <tr>\n",
       "      <th>29813</th>\n",
       "      <td>40</td>\n",
       "      <td>9181</td>\n",
       "      <td>Saturday</td>\n",
       "      <td>7874201649</td>\n",
       "      <td>1</td>\n",
       "      <td>HOUSEHOLD PAPER GOODS</td>\n",
       "      <td>6206.0</td>\n",
       "    </tr>\n",
       "    <tr>\n",
       "      <th>29814</th>\n",
       "      <td>40</td>\n",
       "      <td>9181</td>\n",
       "      <td>Saturday</td>\n",
       "      <td>4132121253</td>\n",
       "      <td>1</td>\n",
       "      <td>GROCERY DRY GOODS</td>\n",
       "      <td>2453.0</td>\n",
       "    </tr>\n",
       "    <tr>\n",
       "      <th>29815</th>\n",
       "      <td>40</td>\n",
       "      <td>9181</td>\n",
       "      <td>Saturday</td>\n",
       "      <td>3384400490</td>\n",
       "      <td>1</td>\n",
       "      <td>GROCERY DRY GOODS</td>\n",
       "      <td>4293.0</td>\n",
       "    </tr>\n",
       "    <tr>\n",
       "      <th>29816</th>\n",
       "      <td>40</td>\n",
       "      <td>9181</td>\n",
       "      <td>Saturday</td>\n",
       "      <td>5138638002</td>\n",
       "      <td>1</td>\n",
       "      <td>HOUSEHOLD CHEMICALS/SUPP</td>\n",
       "      <td>9720.0</td>\n",
       "    </tr>\n",
       "    <tr>\n",
       "      <th>29817</th>\n",
       "      <td>40</td>\n",
       "      <td>9181</td>\n",
       "      <td>Saturday</td>\n",
       "      <td>4760001123</td>\n",
       "      <td>1</td>\n",
       "      <td>GROCERY DRY GOODS</td>\n",
       "      <td>4259.0</td>\n",
       "    </tr>\n",
       "    <tr>\n",
       "      <th>29818</th>\n",
       "      <td>40</td>\n",
       "      <td>9181</td>\n",
       "      <td>Saturday</td>\n",
       "      <td>72822912375</td>\n",
       "      <td>1</td>\n",
       "      <td>DSD GROCERY</td>\n",
       "      <td>3351.0</td>\n",
       "    </tr>\n",
       "    <tr>\n",
       "      <th>29819</th>\n",
       "      <td>40</td>\n",
       "      <td>9181</td>\n",
       "      <td>Saturday</td>\n",
       "      <td>7874209234</td>\n",
       "      <td>1</td>\n",
       "      <td>BAKERY</td>\n",
       "      <td>4009.0</td>\n",
       "    </tr>\n",
       "    <tr>\n",
       "      <th>29820</th>\n",
       "      <td>40</td>\n",
       "      <td>9181</td>\n",
       "      <td>Saturday</td>\n",
       "      <td>2100063382</td>\n",
       "      <td>2</td>\n",
       "      <td>DAIRY</td>\n",
       "      <td>7955.0</td>\n",
       "    </tr>\n",
       "    <tr>\n",
       "      <th>29821</th>\n",
       "      <td>40</td>\n",
       "      <td>9181</td>\n",
       "      <td>Saturday</td>\n",
       "      <td>3800059546</td>\n",
       "      <td>2</td>\n",
       "      <td>GROCERY DRY GOODS</td>\n",
       "      <td>3554.0</td>\n",
       "    </tr>\n",
       "    <tr>\n",
       "      <th>29822</th>\n",
       "      <td>40</td>\n",
       "      <td>9181</td>\n",
       "      <td>Saturday</td>\n",
       "      <td>3800035055</td>\n",
       "      <td>1</td>\n",
       "      <td>GROCERY DRY GOODS</td>\n",
       "      <td>3558.0</td>\n",
       "    </tr>\n",
       "    <tr>\n",
       "      <th>29823</th>\n",
       "      <td>40</td>\n",
       "      <td>9181</td>\n",
       "      <td>Saturday</td>\n",
       "      <td>3700008886</td>\n",
       "      <td>1</td>\n",
       "      <td>HOUSEHOLD CHEMICALS/SUPP</td>\n",
       "      <td>600.0</td>\n",
       "    </tr>\n",
       "    <tr>\n",
       "      <th>29824</th>\n",
       "      <td>40</td>\n",
       "      <td>9181</td>\n",
       "      <td>Saturday</td>\n",
       "      <td>1111105810</td>\n",
       "      <td>1</td>\n",
       "      <td>PERSONAL CARE</td>\n",
       "      <td>3163.0</td>\n",
       "    </tr>\n",
       "    <tr>\n",
       "      <th>29825</th>\n",
       "      <td>40</td>\n",
       "      <td>9181</td>\n",
       "      <td>Saturday</td>\n",
       "      <td>20154500000</td>\n",
       "      <td>2</td>\n",
       "      <td>SERVICE DELI</td>\n",
       "      <td>8001.0</td>\n",
       "    </tr>\n",
       "    <tr>\n",
       "      <th>29826</th>\n",
       "      <td>40</td>\n",
       "      <td>9181</td>\n",
       "      <td>Saturday</td>\n",
       "      <td>1300000976</td>\n",
       "      <td>1</td>\n",
       "      <td>GROCERY DRY GOODS</td>\n",
       "      <td>2351.0</td>\n",
       "    </tr>\n",
       "    <tr>\n",
       "      <th>29827</th>\n",
       "      <td>40</td>\n",
       "      <td>9181</td>\n",
       "      <td>Saturday</td>\n",
       "      <td>7225003712</td>\n",
       "      <td>1</td>\n",
       "      <td>COMM BREAD</td>\n",
       "      <td>3710.0</td>\n",
       "    </tr>\n",
       "    <tr>\n",
       "      <th>29828</th>\n",
       "      <td>40</td>\n",
       "      <td>9181</td>\n",
       "      <td>Saturday</td>\n",
       "      <td>7680853356</td>\n",
       "      <td>1</td>\n",
       "      <td>GROCERY DRY GOODS</td>\n",
       "      <td>3920.0</td>\n",
       "    </tr>\n",
       "    <tr>\n",
       "      <th>29829</th>\n",
       "      <td>40</td>\n",
       "      <td>9181</td>\n",
       "      <td>Saturday</td>\n",
       "      <td>4173601027</td>\n",
       "      <td>1</td>\n",
       "      <td>GROCERY DRY GOODS</td>\n",
       "      <td>4404.0</td>\n",
       "    </tr>\n",
       "  </tbody>\n",
       "</table>\n",
       "</div>"
      ],
      "text/plain": [
       "       TripType  VisitNumber   Weekday          Upc  ScanCount  \\\n",
       "29800        40         9181  Saturday   4460000938          1   \n",
       "29801        40         9181  Saturday   3700033550          1   \n",
       "29802        40         9181  Saturday   7874203269          1   \n",
       "29803        40         9181  Saturday         4135          1   \n",
       "29804        40         9181  Saturday   7172572836          1   \n",
       "29805        40         9181  Saturday   2840018476          1   \n",
       "29806        40         9181  Saturday   3600042489          1   \n",
       "29807        40         9181  Saturday   7539102394          1   \n",
       "29808        40         9181  Saturday   3384400448          1   \n",
       "29809        40         9181  Saturday  79316591160          1   \n",
       "29810        40         9181  Saturday   3040021530          1   \n",
       "29811        40         9181  Saturday   3500068301          1   \n",
       "29812        40         9181  Saturday   7192129053          2   \n",
       "29813        40         9181  Saturday   7874201649          1   \n",
       "29814        40         9181  Saturday   4132121253          1   \n",
       "29815        40         9181  Saturday   3384400490          1   \n",
       "29816        40         9181  Saturday   5138638002          1   \n",
       "29817        40         9181  Saturday   4760001123          1   \n",
       "29818        40         9181  Saturday  72822912375          1   \n",
       "29819        40         9181  Saturday   7874209234          1   \n",
       "29820        40         9181  Saturday   2100063382          2   \n",
       "29821        40         9181  Saturday   3800059546          2   \n",
       "29822        40         9181  Saturday   3800035055          1   \n",
       "29823        40         9181  Saturday   3700008886          1   \n",
       "29824        40         9181  Saturday   1111105810          1   \n",
       "29825        40         9181  Saturday  20154500000          2   \n",
       "29826        40         9181  Saturday   1300000976          1   \n",
       "29827        40         9181  Saturday   7225003712          1   \n",
       "29828        40         9181  Saturday   7680853356          1   \n",
       "29829        40         9181  Saturday   4173601027          1   \n",
       "\n",
       "          DepartmentDescription  FinelineNumber  \n",
       "29800  HOUSEHOLD CHEMICALS/SUPP          6010.0  \n",
       "29801  HOUSEHOLD CHEMICALS/SUPP          9055.0  \n",
       "29802     HOUSEHOLD PAPER GOODS          6206.0  \n",
       "29803                   PRODUCE          1214.0  \n",
       "29804                   PRODUCE           177.0  \n",
       "29805               DSD GROCERY          4451.0  \n",
       "29806              PHARMACY OTC           274.0  \n",
       "29807                   SEAFOOD          1053.0  \n",
       "29808         GROCERY DRY GOODS          4293.0  \n",
       "29809  HOUSEHOLD CHEMICALS/SUPP          4510.0  \n",
       "29810     HOUSEHOLD PAPER GOODS           104.0  \n",
       "29811             PERSONAL CARE           412.0  \n",
       "29812              FROZEN FOODS          9114.0  \n",
       "29813     HOUSEHOLD PAPER GOODS          6206.0  \n",
       "29814         GROCERY DRY GOODS          2453.0  \n",
       "29815         GROCERY DRY GOODS          4293.0  \n",
       "29816  HOUSEHOLD CHEMICALS/SUPP          9720.0  \n",
       "29817         GROCERY DRY GOODS          4259.0  \n",
       "29818               DSD GROCERY          3351.0  \n",
       "29819                    BAKERY          4009.0  \n",
       "29820                     DAIRY          7955.0  \n",
       "29821         GROCERY DRY GOODS          3554.0  \n",
       "29822         GROCERY DRY GOODS          3558.0  \n",
       "29823  HOUSEHOLD CHEMICALS/SUPP           600.0  \n",
       "29824             PERSONAL CARE          3163.0  \n",
       "29825              SERVICE DELI          8001.0  \n",
       "29826         GROCERY DRY GOODS          2351.0  \n",
       "29827                COMM BREAD          3710.0  \n",
       "29828         GROCERY DRY GOODS          3920.0  \n",
       "29829         GROCERY DRY GOODS          4404.0  "
      ]
     },
     "execution_count": 67,
     "metadata": {},
     "output_type": "execute_result"
    }
   ],
   "source": [
    "Trip_data[Trip_data[\"VisitNumber\"]==9181][:30]"
   ]
  },
  {
   "cell_type": "markdown",
   "metadata": {},
   "source": [
    "##### Observation from above 'Visit Number' Analysis\n",
    "- For specific Visit Numbers, the 'Week Day' and the 'Trip Type' are exactly the same\n",
    "- This indicates that there might be some relation between them, that we must find out\n",
    "- for just 38 unique TripType classes, there are 95674 unique VisitNumbers, so there is one to many relationship"
   ]
  },
  {
   "cell_type": "code",
   "execution_count": 68,
   "metadata": {},
   "outputs": [
    {
     "data": {
      "text/html": [
       "<div>\n",
       "<style scoped>\n",
       "    .dataframe tbody tr th:only-of-type {\n",
       "        vertical-align: middle;\n",
       "    }\n",
       "\n",
       "    .dataframe tbody tr th {\n",
       "        vertical-align: top;\n",
       "    }\n",
       "\n",
       "    .dataframe thead th {\n",
       "        text-align: right;\n",
       "    }\n",
       "</style>\n",
       "<table border=\"1\" class=\"dataframe\">\n",
       "  <thead>\n",
       "    <tr style=\"text-align: right;\">\n",
       "      <th></th>\n",
       "      <th>TripType</th>\n",
       "      <th>VisitNumber</th>\n",
       "      <th>Weekday</th>\n",
       "      <th>Upc</th>\n",
       "      <th>ScanCount</th>\n",
       "      <th>DepartmentDescription</th>\n",
       "      <th>FinelineNumber</th>\n",
       "    </tr>\n",
       "  </thead>\n",
       "  <tbody>\n",
       "    <tr>\n",
       "      <th>222</th>\n",
       "      <td>40</td>\n",
       "      <td>98</td>\n",
       "      <td>Friday</td>\n",
       "      <td>7874201706</td>\n",
       "      <td>1</td>\n",
       "      <td>DSD GROCERY</td>\n",
       "      <td>3562.0</td>\n",
       "    </tr>\n",
       "    <tr>\n",
       "      <th>223</th>\n",
       "      <td>40</td>\n",
       "      <td>98</td>\n",
       "      <td>Friday</td>\n",
       "      <td>3400001314</td>\n",
       "      <td>1</td>\n",
       "      <td>CANDY, TOBACCO, COOKIES</td>\n",
       "      <td>78.0</td>\n",
       "    </tr>\n",
       "    <tr>\n",
       "      <th>224</th>\n",
       "      <td>40</td>\n",
       "      <td>98</td>\n",
       "      <td>Friday</td>\n",
       "      <td>7874200645</td>\n",
       "      <td>1</td>\n",
       "      <td>DSD GROCERY</td>\n",
       "      <td>4672.0</td>\n",
       "    </tr>\n",
       "    <tr>\n",
       "      <th>225</th>\n",
       "      <td>40</td>\n",
       "      <td>98</td>\n",
       "      <td>Friday</td>\n",
       "      <td>60538815805</td>\n",
       "      <td>2</td>\n",
       "      <td>SHOES</td>\n",
       "      <td>4815.0</td>\n",
       "    </tr>\n",
       "    <tr>\n",
       "      <th>226</th>\n",
       "      <td>40</td>\n",
       "      <td>98</td>\n",
       "      <td>Friday</td>\n",
       "      <td>7431255366</td>\n",
       "      <td>1</td>\n",
       "      <td>PHARMACY OTC</td>\n",
       "      <td>502.0</td>\n",
       "    </tr>\n",
       "    <tr>\n",
       "      <th>227</th>\n",
       "      <td>40</td>\n",
       "      <td>98</td>\n",
       "      <td>Friday</td>\n",
       "      <td>68113104849</td>\n",
       "      <td>1</td>\n",
       "      <td>BEAUTY</td>\n",
       "      <td>3907.0</td>\n",
       "    </tr>\n",
       "    <tr>\n",
       "      <th>228</th>\n",
       "      <td>40</td>\n",
       "      <td>98</td>\n",
       "      <td>Friday</td>\n",
       "      <td>81655901251</td>\n",
       "      <td>1</td>\n",
       "      <td>PERSONAL CARE</td>\n",
       "      <td>3123.0</td>\n",
       "    </tr>\n",
       "    <tr>\n",
       "      <th>229</th>\n",
       "      <td>40</td>\n",
       "      <td>98</td>\n",
       "      <td>Friday</td>\n",
       "      <td>7874209667</td>\n",
       "      <td>1</td>\n",
       "      <td>HOUSEHOLD PAPER GOODS</td>\n",
       "      <td>6010.0</td>\n",
       "    </tr>\n",
       "    <tr>\n",
       "      <th>230</th>\n",
       "      <td>40</td>\n",
       "      <td>98</td>\n",
       "      <td>Friday</td>\n",
       "      <td>7874209664</td>\n",
       "      <td>1</td>\n",
       "      <td>HOUSEHOLD PAPER GOODS</td>\n",
       "      <td>6020.0</td>\n",
       "    </tr>\n",
       "    <tr>\n",
       "      <th>231</th>\n",
       "      <td>40</td>\n",
       "      <td>98</td>\n",
       "      <td>Friday</td>\n",
       "      <td>4000048815</td>\n",
       "      <td>1</td>\n",
       "      <td>CANDY, TOBACCO, COOKIES</td>\n",
       "      <td>79.0</td>\n",
       "    </tr>\n",
       "  </tbody>\n",
       "</table>\n",
       "</div>"
      ],
      "text/plain": [
       "     TripType  VisitNumber Weekday          Upc  ScanCount  \\\n",
       "222        40           98  Friday   7874201706          1   \n",
       "223        40           98  Friday   3400001314          1   \n",
       "224        40           98  Friday   7874200645          1   \n",
       "225        40           98  Friday  60538815805          2   \n",
       "226        40           98  Friday   7431255366          1   \n",
       "227        40           98  Friday  68113104849          1   \n",
       "228        40           98  Friday  81655901251          1   \n",
       "229        40           98  Friday   7874209667          1   \n",
       "230        40           98  Friday   7874209664          1   \n",
       "231        40           98  Friday   4000048815          1   \n",
       "\n",
       "       DepartmentDescription  FinelineNumber  \n",
       "222              DSD GROCERY          3562.0  \n",
       "223  CANDY, TOBACCO, COOKIES            78.0  \n",
       "224              DSD GROCERY          4672.0  \n",
       "225                    SHOES          4815.0  \n",
       "226             PHARMACY OTC           502.0  \n",
       "227                   BEAUTY          3907.0  \n",
       "228            PERSONAL CARE          3123.0  \n",
       "229    HOUSEHOLD PAPER GOODS          6010.0  \n",
       "230    HOUSEHOLD PAPER GOODS          6020.0  \n",
       "231  CANDY, TOBACCO, COOKIES            79.0  "
      ]
     },
     "execution_count": 68,
     "metadata": {},
     "output_type": "execute_result"
    }
   ],
   "source": [
    "# Let us confirm the one to many relationship. For the above outcome where Trip Type is 40,\n",
    "# Let us find other records where Trip Type is 40, but the visit number is not 9181\n",
    "Trip_data[(Trip_data[\"TripType\"]==40) & (Trip_data[\"VisitNumber\"]!=9181)][:10]"
   ]
  },
  {
   "cell_type": "markdown",
   "metadata": {},
   "source": [
    "##### Above analysis shows that our hypothesis on the relation between Visit Number and Trip Type may NOT hold true\n",
    "#####  "
   ]
  },
  {
   "cell_type": "markdown",
   "metadata": {},
   "source": [
    "### TripType and Weekday"
   ]
  },
  {
   "cell_type": "code",
   "execution_count": 69,
   "metadata": {},
   "outputs": [],
   "source": [
    "# From other analysis above, there seems to be some relation between TripType and Week Day\n",
    "# If at all there is a relationship, it has to be one to many, as there are only 7 days and 38 TripTypes"
   ]
  },
  {
   "cell_type": "code",
   "execution_count": 70,
   "metadata": {},
   "outputs": [],
   "source": [
    "Grouped_by_Weekday = Trip_data.groupby(['Weekday', 'TripType'])['TripType'].last()"
   ]
  },
  {
   "cell_type": "code",
   "execution_count": 71,
   "metadata": {},
   "outputs": [],
   "source": [
    "Grouped_by_Weekday = Grouped_by_Weekday.to_frame()"
   ]
  },
  {
   "cell_type": "code",
   "execution_count": 72,
   "metadata": {},
   "outputs": [
    {
     "name": "stdout",
     "output_type": "stream",
     "text": [
      "Monday\n",
      "[  3   4   5   6   7   8   9  12  14  15  18  19  20  21  22  23  24  25\n",
      "  26  27  28  29  30  31  32  33  34  35  36  37  38  39  40  41  42  43\n",
      "  44 999]\n"
     ]
    }
   ],
   "source": [
    "Monday_TripTypes = pd.Series(Grouped_by_Weekday.loc[\"Monday\"].T.squeeze())\n",
    "print(\"Monday\")\n",
    "print(Monday_TripTypes.values)"
   ]
  },
  {
   "cell_type": "code",
   "execution_count": 73,
   "metadata": {},
   "outputs": [
    {
     "name": "stdout",
     "output_type": "stream",
     "text": [
      "Friday\n",
      "[  3   4   5   6   7   8   9  12  14  15  18  19  20  21  22  23  24  25\n",
      "  26  27  28  29  30  31  32  33  34  35  36  37  38  39  40  41  42  43\n",
      "  44 999]\n"
     ]
    }
   ],
   "source": [
    "Friday_TripTypes = pd.Series(Grouped_by_Weekday.loc[\"Friday\"].T.squeeze())\n",
    "print(\"Friday\")\n",
    "print(Friday_TripTypes.values)"
   ]
  },
  {
   "cell_type": "code",
   "execution_count": 74,
   "metadata": {},
   "outputs": [
    {
     "name": "stdout",
     "output_type": "stream",
     "text": [
      "Saturday\n",
      "[  3   4   5   6   7   8   9  12  14  15  18  19  20  21  22  23  24  25\n",
      "  26  27  28  29  30  31  32  33  34  35  36  37  38  39  40  41  42  43\n",
      "  44 999]\n"
     ]
    }
   ],
   "source": [
    "Saturday_TripTypes = pd.Series(Grouped_by_Weekday.loc[\"Saturday\"].T.squeeze())\n",
    "print(\"Saturday\")\n",
    "print(Saturday_TripTypes.values)"
   ]
  },
  {
   "cell_type": "code",
   "execution_count": 75,
   "metadata": {},
   "outputs": [
    {
     "name": "stdout",
     "output_type": "stream",
     "text": [
      "Sunday\n",
      "[  3   4   5   6   7   8   9  12  15  18  19  20  21  22  23  24  25  26\n",
      "  27  28  29  30  31  32  33  34  35  36  37  38  39  40  41  42  43  44\n",
      " 999]\n"
     ]
    }
   ],
   "source": [
    "Sunday_TripTypes = pd.Series(Grouped_by_Weekday.loc[\"Sunday\"].T.squeeze())\n",
    "print(\"Sunday\")\n",
    "print(Sunday_TripTypes.values)"
   ]
  },
  {
   "cell_type": "markdown",
   "metadata": {},
   "source": [
    "##### Above analysis shows that our hypothesis on the relation between week day and Trip Type may NOT hold true\n",
    "-"
   ]
  },
  {
   "cell_type": "markdown",
   "metadata": {},
   "source": [
    "### TripType and Department Description"
   ]
  },
  {
   "cell_type": "code",
   "execution_count": 76,
   "metadata": {},
   "outputs": [],
   "source": [
    "# Going by the intution, 'Departments' should be the important feature in classifying TripTypes\n",
    "# This is because it indicates the purpose of the trip, what items the customer is interested in buying"
   ]
  },
  {
   "cell_type": "code",
   "execution_count": 77,
   "metadata": {},
   "outputs": [
    {
     "data": {
      "text/plain": [
       "40    172849\n",
       "39     94895\n",
       "37     38657\n",
       "38     29356\n",
       "25     27287\n",
       "7      23049\n",
       "8      22635\n",
       "36     21865\n",
       "44     20196\n",
       "42     19256\n",
       "Name: TripType, dtype: int64"
      ]
     },
     "execution_count": 77,
     "metadata": {},
     "output_type": "execute_result"
    }
   ],
   "source": [
    "# Let us get the top 10 highfrequent TripTypes\n",
    "Trip_data[\"TripType\"].value_counts().head(10)"
   ]
  },
  {
   "cell_type": "code",
   "execution_count": 78,
   "metadata": {},
   "outputs": [
    {
     "data": {
      "text/plain": [
       "GROCERY DRY GOODS    32478\n",
       "DSD GROCERY          21928\n",
       "DAIRY                17263\n",
       "PRODUCE              16603\n",
       "PERSONAL CARE         9889\n",
       "Name: DepartmentDescription, dtype: int64"
      ]
     },
     "execution_count": 78,
     "metadata": {},
     "output_type": "execute_result"
    }
   ],
   "source": [
    "Trip_data[Trip_data[\"TripType\"]==40][\"DepartmentDescription\"].value_counts().head()"
   ]
  },
  {
   "cell_type": "code",
   "execution_count": 79,
   "metadata": {},
   "outputs": [],
   "source": [
    "# Notice above that TripType 40 is primarily associated with Grocery Items, Dairy and Produce"
   ]
  },
  {
   "cell_type": "code",
   "execution_count": 80,
   "metadata": {},
   "outputs": [
    {
     "data": {
      "text/plain": [
       "MENS WEAR                     5339\n",
       "LADIESWEAR                    3690\n",
       "GIRLS WEAR, 4-6X  AND 7-14    1819\n",
       "BOYS WEAR                     1675\n",
       "PERSONAL CARE                 1528\n",
       "Name: DepartmentDescription, dtype: int64"
      ]
     },
     "execution_count": 80,
     "metadata": {},
     "output_type": "execute_result"
    }
   ],
   "source": [
    "Trip_data[Trip_data[\"TripType\"]==25][\"DepartmentDescription\"].value_counts().head()"
   ]
  },
  {
   "cell_type": "code",
   "execution_count": 81,
   "metadata": {},
   "outputs": [],
   "source": [
    "# Notice above that TripType 25 is associated with apparels- Mens Wear, Ladies Wear, Girls Wear, Boys Wear etc"
   ]
  },
  {
   "cell_type": "code",
   "execution_count": 82,
   "metadata": {},
   "outputs": [
    {
     "data": {
      "text/plain": [
       "WIRELESS               985\n",
       "IMPULSE MERCHANDISE    121\n",
       "DSD GROCERY             70\n",
       "PERSONAL CARE           52\n",
       "GROCERY DRY GOODS       51\n",
       "Name: DepartmentDescription, dtype: int64"
      ]
     },
     "execution_count": 82,
     "metadata": {},
     "output_type": "execute_result"
    }
   ],
   "source": [
    "Trip_data[Trip_data[\"TripType\"]==31][\"DepartmentDescription\"].value_counts().head()"
   ]
  },
  {
   "cell_type": "code",
   "execution_count": 83,
   "metadata": {},
   "outputs": [],
   "source": [
    "# Notice above that TripType 31 is primarily associated with Wireless and Impulse merchandise"
   ]
  },
  {
   "cell_type": "code",
   "execution_count": 84,
   "metadata": {},
   "outputs": [
    {
     "data": {
      "text/plain": [
       "PERSONAL CARE          8613\n",
       "BEAUTY                 3839\n",
       "PHARMACY OTC           1592\n",
       "IMPULSE MERCHANDISE    1167\n",
       "DSD GROCERY             994\n",
       "Name: DepartmentDescription, dtype: int64"
      ]
     },
     "execution_count": 84,
     "metadata": {},
     "output_type": "execute_result"
    }
   ],
   "source": [
    "Trip_data[Trip_data[\"TripType\"]==36][\"DepartmentDescription\"].value_counts().head()"
   ]
  },
  {
   "cell_type": "code",
   "execution_count": 85,
   "metadata": {},
   "outputs": [],
   "source": [
    "# Notice above that TripType 36 is primarily associated with Personal Care, Beauty and OTC Pharma"
   ]
  },
  {
   "cell_type": "markdown",
   "metadata": {},
   "source": [
    "##### We can conclude that Department Description is one of the most important predictors"
   ]
  },
  {
   "cell_type": "markdown",
   "metadata": {},
   "source": [
    "### ScanCount with other features"
   ]
  },
  {
   "cell_type": "code",
   "execution_count": 86,
   "metadata": {},
   "outputs": [
    {
     "data": {
      "text/plain": [
       "14950"
      ]
     },
     "execution_count": 86,
     "metadata": {},
     "output_type": "execute_result"
    }
   ],
   "source": [
    "# Negative Scan Count indicates the return of the products\n",
    "# Total number of return transactions in the data are\n",
    "len(Trip_data[Trip_data[\"ScanCount\"] < 1])"
   ]
  },
  {
   "cell_type": "code",
   "execution_count": 87,
   "metadata": {},
   "outputs": [
    {
     "data": {
      "text/html": [
       "<div>\n",
       "<style scoped>\n",
       "    .dataframe tbody tr th:only-of-type {\n",
       "        vertical-align: middle;\n",
       "    }\n",
       "\n",
       "    .dataframe tbody tr th {\n",
       "        vertical-align: top;\n",
       "    }\n",
       "\n",
       "    .dataframe thead th {\n",
       "        text-align: right;\n",
       "    }\n",
       "</style>\n",
       "<table border=\"1\" class=\"dataframe\">\n",
       "  <thead>\n",
       "    <tr style=\"text-align: right;\">\n",
       "      <th></th>\n",
       "      <th>TripType</th>\n",
       "      <th>VisitNumber</th>\n",
       "      <th>Weekday</th>\n",
       "      <th>Upc</th>\n",
       "      <th>ScanCount</th>\n",
       "      <th>DepartmentDescription</th>\n",
       "      <th>FinelineNumber</th>\n",
       "    </tr>\n",
       "  </thead>\n",
       "  <tbody>\n",
       "    <tr>\n",
       "      <th>0</th>\n",
       "      <td>999</td>\n",
       "      <td>5</td>\n",
       "      <td>Friday</td>\n",
       "      <td>68113152929</td>\n",
       "      <td>-1</td>\n",
       "      <td>FINANCIAL SERVICES</td>\n",
       "      <td>1000.0</td>\n",
       "    </tr>\n",
       "    <tr>\n",
       "      <th>9</th>\n",
       "      <td>26</td>\n",
       "      <td>8</td>\n",
       "      <td>Friday</td>\n",
       "      <td>2238400200</td>\n",
       "      <td>-1</td>\n",
       "      <td>PAINT AND ACCESSORIES</td>\n",
       "      <td>3565.0</td>\n",
       "    </tr>\n",
       "    <tr>\n",
       "      <th>14</th>\n",
       "      <td>26</td>\n",
       "      <td>8</td>\n",
       "      <td>Friday</td>\n",
       "      <td>88679300501</td>\n",
       "      <td>-1</td>\n",
       "      <td>PAINT AND ACCESSORIES</td>\n",
       "      <td>3504.0</td>\n",
       "    </tr>\n",
       "    <tr>\n",
       "      <th>297</th>\n",
       "      <td>9</td>\n",
       "      <td>132</td>\n",
       "      <td>Friday</td>\n",
       "      <td>64541613597</td>\n",
       "      <td>-1</td>\n",
       "      <td>CELEBRATION</td>\n",
       "      <td>6.0</td>\n",
       "    </tr>\n",
       "    <tr>\n",
       "      <th>299</th>\n",
       "      <td>9</td>\n",
       "      <td>132</td>\n",
       "      <td>Friday</td>\n",
       "      <td>6700886206</td>\n",
       "      <td>-1</td>\n",
       "      <td>CELEBRATION</td>\n",
       "      <td>6.0</td>\n",
       "    </tr>\n",
       "    <tr>\n",
       "      <th>300</th>\n",
       "      <td>999</td>\n",
       "      <td>133</td>\n",
       "      <td>Friday</td>\n",
       "      <td>9933894257</td>\n",
       "      <td>-1</td>\n",
       "      <td>LADIESWEAR</td>\n",
       "      <td>1180.0</td>\n",
       "    </tr>\n",
       "    <tr>\n",
       "      <th>369</th>\n",
       "      <td>999</td>\n",
       "      <td>182</td>\n",
       "      <td>Friday</td>\n",
       "      <td>5473282047</td>\n",
       "      <td>-1</td>\n",
       "      <td>HARDWARE</td>\n",
       "      <td>8410.0</td>\n",
       "    </tr>\n",
       "    <tr>\n",
       "      <th>376</th>\n",
       "      <td>999</td>\n",
       "      <td>190</td>\n",
       "      <td>Friday</td>\n",
       "      <td>4316875342</td>\n",
       "      <td>-1</td>\n",
       "      <td>HARDWARE</td>\n",
       "      <td>4513.0</td>\n",
       "    </tr>\n",
       "    <tr>\n",
       "      <th>389</th>\n",
       "      <td>7</td>\n",
       "      <td>199</td>\n",
       "      <td>Friday</td>\n",
       "      <td>4138309073</td>\n",
       "      <td>-1</td>\n",
       "      <td>DAIRY</td>\n",
       "      <td>1505.0</td>\n",
       "    </tr>\n",
       "    <tr>\n",
       "      <th>404</th>\n",
       "      <td>38</td>\n",
       "      <td>210</td>\n",
       "      <td>Friday</td>\n",
       "      <td>2200012000</td>\n",
       "      <td>-1</td>\n",
       "      <td>CANDY, TOBACCO, COOKIES</td>\n",
       "      <td>221.0</td>\n",
       "    </tr>\n",
       "  </tbody>\n",
       "</table>\n",
       "</div>"
      ],
      "text/plain": [
       "     TripType  VisitNumber Weekday          Upc  ScanCount  \\\n",
       "0         999            5  Friday  68113152929         -1   \n",
       "9          26            8  Friday   2238400200         -1   \n",
       "14         26            8  Friday  88679300501         -1   \n",
       "297         9          132  Friday  64541613597         -1   \n",
       "299         9          132  Friday   6700886206         -1   \n",
       "300       999          133  Friday   9933894257         -1   \n",
       "369       999          182  Friday   5473282047         -1   \n",
       "376       999          190  Friday   4316875342         -1   \n",
       "389         7          199  Friday   4138309073         -1   \n",
       "404        38          210  Friday   2200012000         -1   \n",
       "\n",
       "       DepartmentDescription  FinelineNumber  \n",
       "0         FINANCIAL SERVICES          1000.0  \n",
       "9      PAINT AND ACCESSORIES          3565.0  \n",
       "14     PAINT AND ACCESSORIES          3504.0  \n",
       "297              CELEBRATION             6.0  \n",
       "299              CELEBRATION             6.0  \n",
       "300               LADIESWEAR          1180.0  \n",
       "369                 HARDWARE          8410.0  \n",
       "376                 HARDWARE          4513.0  \n",
       "389                    DAIRY          1505.0  \n",
       "404  CANDY, TOBACCO, COOKIES           221.0  "
      ]
     },
     "execution_count": 87,
     "metadata": {},
     "output_type": "execute_result"
    }
   ],
   "source": [
    "# Let us take a look at return transactions\n",
    "Trip_data[Trip_data[\"ScanCount\"] < 1][:10]"
   ]
  },
  {
   "cell_type": "code",
   "execution_count": 88,
   "metadata": {},
   "outputs": [
    {
     "data": {
      "text/plain": [
       "array([999,  26,   9,   7,  38,   8,  39,  33,  20,  25,  40,  43,  37,\n",
       "        24,  36,   4,  15,  41,  34,  14,  32,   5,   6,  22,  19,  35,\n",
       "        29,  27,  31,  30,  18,  42,  44,  21,   3,  28,  23,  12])"
      ]
     },
     "execution_count": 88,
     "metadata": {},
     "output_type": "execute_result"
    }
   ],
   "source": [
    "# Suspecting that return requests would typically be of some specific TripTypes, let us validate this hypothesis\n",
    "Trip_data[Trip_data[\"ScanCount\"] < 1][\"TripType\"].unique()"
   ]
  },
  {
   "cell_type": "code",
   "execution_count": 89,
   "metadata": {},
   "outputs": [],
   "source": [
    "# Above result shows that return requests are present in almost all TripTypes"
   ]
  },
  {
   "cell_type": "code",
   "execution_count": 90,
   "metadata": {},
   "outputs": [
    {
     "data": {
      "text/plain": [
       "999    9367\n",
       "40     1104\n",
       "39      759\n",
       "37      322\n",
       "25      315\n",
       "9       311\n",
       "8       304\n",
       "7       233\n",
       "38      217\n",
       "36      197\n",
       "42      193\n",
       "24      190\n",
       "32      159\n",
       "44      144\n",
       "5       113\n",
       "35      106\n",
       "33       99\n",
       "22       63\n",
       "41       62\n",
       "15       60\n",
       "43       57\n",
       "3        54\n",
       "27       52\n",
       "21       51\n",
       "6        50\n",
       "34       45\n",
       "20       45\n",
       "31       44\n",
       "30       42\n",
       "18       35\n",
       "28       34\n",
       "26       32\n",
       "29       32\n",
       "12       21\n",
       "19       18\n",
       "23       11\n",
       "4         8\n",
       "14        1\n",
       "Name: TripType, dtype: int64"
      ]
     },
     "execution_count": 90,
     "metadata": {},
     "output_type": "execute_result"
    }
   ],
   "source": [
    "# Let us see the frequency counts to conclude on whether return transactions have some specific Trip Types\n",
    "Trip_data[Trip_data[\"ScanCount\"] < 1][\"TripType\"].value_counts()"
   ]
  },
  {
   "cell_type": "code",
   "execution_count": 91,
   "metadata": {},
   "outputs": [
    {
     "data": {
      "text/plain": [
       "7555"
      ]
     },
     "execution_count": 91,
     "metadata": {},
     "output_type": "execute_result"
    }
   ],
   "source": [
    "# Let us see if there are customers classified into TripType 999 but did not go for return of products\n",
    "len(Trip_data[(Trip_data[\"ScanCount\"] >= 1) & (Trip_data[\"TripType\"]==999)])"
   ]
  },
  {
   "cell_type": "code",
   "execution_count": 92,
   "metadata": {},
   "outputs": [],
   "source": [
    "# It is very clear from the above analysis that TripType 999 has\n",
    "# almost an equal mix of customers who went to buy products and who went to return products\n",
    "# However, TripType 999 has the majority of customers who went to return items, compared to other TripTypes\n",
    "\n",
    "# ** This indicates marking the customers if they went to return products \n",
    "#     or went for usual shopping could be a new feature that we can introduce"
   ]
  },
  {
   "cell_type": "code",
   "execution_count": 93,
   "metadata": {},
   "outputs": [
    {
     "data": {
      "text/plain": [
       "Sunday       2706\n",
       "Saturday     2691\n",
       "Friday       2341\n",
       "Monday       1864\n",
       "Wednesday    1808\n",
       "Tuesday      1808\n",
       "Thursday     1732\n",
       "Name: Weekday, dtype: int64"
      ]
     },
     "execution_count": 93,
     "metadata": {},
     "output_type": "execute_result"
    }
   ],
   "source": [
    "# Let us see if there is any specific day of the week that customers prefer to return products\n",
    "Trip_data[Trip_data[\"ScanCount\"] < 1][\"Weekday\"].value_counts()"
   ]
  },
  {
   "cell_type": "code",
   "execution_count": 94,
   "metadata": {},
   "outputs": [],
   "source": [
    "# From the above alalysis, it seems that the customers prefer Fridays and the Weekends to return products\n",
    "# compared to other week days\n",
    "\n",
    "# ** This indicates marking the customers if they went shopping on a weekend could be a new feature that we can introduce"
   ]
  },
  {
   "cell_type": "markdown",
   "metadata": {},
   "source": [
    "# Model Building"
   ]
  },
  {
   "cell_type": "markdown",
   "metadata": {},
   "source": [
    "## Base Line Modeling"
   ]
  },
  {
   "cell_type": "markdown",
   "metadata": {},
   "source": [
    "##### Quickly building a model to get a high level understanding. Feature Engineering etc. will be the next steps"
   ]
  },
  {
   "cell_type": "code",
   "execution_count": 97,
   "metadata": {},
   "outputs": [],
   "source": [
    "# Some Observations from our analysis that is important in selecting right model\n",
    "#-------------------------------------------------------------------------------\n",
    "\n",
    "# Almost all variables are categorical, or can be considered categorical\n",
    "# Considering the number of labels, dummifying the variables will create thousands of new features\n",
    "# By one-hot encoding a categorical variable, we are inducing sparsity into the dataset which is undesirable\n",
    "# Algorithms such as Logistic Regression may not work well\n",
    "# SVM with RBF kernel may perform well, but considering the size of the data, it may not be feasible on my laptop\n",
    "# Tree based models might work best, so the options are Trees, Random Forest, Gradient Boosting and XGBoost"
   ]
  },
  {
   "cell_type": "code",
   "execution_count": 98,
   "metadata": {},
   "outputs": [
    {
     "data": {
      "text/plain": [
       "Index(['TripType', 'VisitNumber', 'Weekday', 'Upc', 'ScanCount',\n",
       "       'DepartmentDescription', 'FinelineNumber'],\n",
       "      dtype='object')"
      ]
     },
     "execution_count": 98,
     "metadata": {},
     "output_type": "execute_result"
    }
   ],
   "source": [
    "Trip_data.columns"
   ]
  },
  {
   "cell_type": "code",
   "execution_count": 99,
   "metadata": {},
   "outputs": [
    {
     "data": {
      "text/html": [
       "<div>\n",
       "<style scoped>\n",
       "    .dataframe tbody tr th:only-of-type {\n",
       "        vertical-align: middle;\n",
       "    }\n",
       "\n",
       "    .dataframe tbody tr th {\n",
       "        vertical-align: top;\n",
       "    }\n",
       "\n",
       "    .dataframe thead th {\n",
       "        text-align: right;\n",
       "    }\n",
       "</style>\n",
       "<table border=\"1\" class=\"dataframe\">\n",
       "  <thead>\n",
       "    <tr style=\"text-align: right;\">\n",
       "      <th></th>\n",
       "      <th>TripType</th>\n",
       "      <th>VisitNumber</th>\n",
       "      <th>Weekday</th>\n",
       "      <th>Upc</th>\n",
       "      <th>ScanCount</th>\n",
       "      <th>DepartmentDescription</th>\n",
       "      <th>FinelineNumber</th>\n",
       "    </tr>\n",
       "  </thead>\n",
       "  <tbody>\n",
       "    <tr>\n",
       "      <th>0</th>\n",
       "      <td>999</td>\n",
       "      <td>5</td>\n",
       "      <td>Friday</td>\n",
       "      <td>68113152929</td>\n",
       "      <td>-1</td>\n",
       "      <td>FINANCIAL SERVICES</td>\n",
       "      <td>1000.0</td>\n",
       "    </tr>\n",
       "    <tr>\n",
       "      <th>1</th>\n",
       "      <td>30</td>\n",
       "      <td>7</td>\n",
       "      <td>Friday</td>\n",
       "      <td>60538815980</td>\n",
       "      <td>1</td>\n",
       "      <td>SHOES</td>\n",
       "      <td>8931.0</td>\n",
       "    </tr>\n",
       "    <tr>\n",
       "      <th>2</th>\n",
       "      <td>30</td>\n",
       "      <td>7</td>\n",
       "      <td>Friday</td>\n",
       "      <td>7410811099</td>\n",
       "      <td>1</td>\n",
       "      <td>PERSONAL CARE</td>\n",
       "      <td>4504.0</td>\n",
       "    </tr>\n",
       "  </tbody>\n",
       "</table>\n",
       "</div>"
      ],
      "text/plain": [
       "   TripType  VisitNumber Weekday          Upc  ScanCount  \\\n",
       "0       999            5  Friday  68113152929         -1   \n",
       "1        30            7  Friday  60538815980          1   \n",
       "2        30            7  Friday   7410811099          1   \n",
       "\n",
       "  DepartmentDescription  FinelineNumber  \n",
       "0    FINANCIAL SERVICES          1000.0  \n",
       "1                 SHOES          8931.0  \n",
       "2         PERSONAL CARE          4504.0  "
      ]
     },
     "execution_count": 99,
     "metadata": {},
     "output_type": "execute_result"
    }
   ],
   "source": [
    "Trip_data.head(3)"
   ]
  },
  {
   "cell_type": "code",
   "execution_count": 100,
   "metadata": {},
   "outputs": [],
   "source": [
    "Trip_data_dmy = pd.get_dummies(Trip_data, columns =['Weekday', 'DepartmentDescription'], drop_first=True)"
   ]
  },
  {
   "cell_type": "code",
   "execution_count": 101,
   "metadata": {},
   "outputs": [
    {
     "data": {
      "text/html": [
       "<div>\n",
       "<style scoped>\n",
       "    .dataframe tbody tr th:only-of-type {\n",
       "        vertical-align: middle;\n",
       "    }\n",
       "\n",
       "    .dataframe tbody tr th {\n",
       "        vertical-align: top;\n",
       "    }\n",
       "\n",
       "    .dataframe thead th {\n",
       "        text-align: right;\n",
       "    }\n",
       "</style>\n",
       "<table border=\"1\" class=\"dataframe\">\n",
       "  <thead>\n",
       "    <tr style=\"text-align: right;\">\n",
       "      <th></th>\n",
       "      <th>TripType</th>\n",
       "      <th>VisitNumber</th>\n",
       "      <th>Upc</th>\n",
       "      <th>ScanCount</th>\n",
       "      <th>FinelineNumber</th>\n",
       "      <th>Weekday_Monday</th>\n",
       "      <th>Weekday_Saturday</th>\n",
       "      <th>Weekday_Sunday</th>\n",
       "      <th>Weekday_Thursday</th>\n",
       "      <th>Weekday_Tuesday</th>\n",
       "      <th>...</th>\n",
       "      <th>DepartmentDescription_SEAFOOD</th>\n",
       "      <th>DepartmentDescription_SEASONAL</th>\n",
       "      <th>DepartmentDescription_SERVICE DELI</th>\n",
       "      <th>DepartmentDescription_SHEER HOSIERY</th>\n",
       "      <th>DepartmentDescription_SHOES</th>\n",
       "      <th>DepartmentDescription_SLEEPWEAR/FOUNDATIONS</th>\n",
       "      <th>DepartmentDescription_SPORTING GOODS</th>\n",
       "      <th>DepartmentDescription_SWIMWEAR/OUTERWEAR</th>\n",
       "      <th>DepartmentDescription_TOYS</th>\n",
       "      <th>DepartmentDescription_WIRELESS</th>\n",
       "    </tr>\n",
       "  </thead>\n",
       "  <tbody>\n",
       "    <tr>\n",
       "      <th>0</th>\n",
       "      <td>999</td>\n",
       "      <td>5</td>\n",
       "      <td>68113152929</td>\n",
       "      <td>-1</td>\n",
       "      <td>1000.0</td>\n",
       "      <td>0</td>\n",
       "      <td>0</td>\n",
       "      <td>0</td>\n",
       "      <td>0</td>\n",
       "      <td>0</td>\n",
       "      <td>...</td>\n",
       "      <td>0</td>\n",
       "      <td>0</td>\n",
       "      <td>0</td>\n",
       "      <td>0</td>\n",
       "      <td>0</td>\n",
       "      <td>0</td>\n",
       "      <td>0</td>\n",
       "      <td>0</td>\n",
       "      <td>0</td>\n",
       "      <td>0</td>\n",
       "    </tr>\n",
       "    <tr>\n",
       "      <th>1</th>\n",
       "      <td>30</td>\n",
       "      <td>7</td>\n",
       "      <td>60538815980</td>\n",
       "      <td>1</td>\n",
       "      <td>8931.0</td>\n",
       "      <td>0</td>\n",
       "      <td>0</td>\n",
       "      <td>0</td>\n",
       "      <td>0</td>\n",
       "      <td>0</td>\n",
       "      <td>...</td>\n",
       "      <td>0</td>\n",
       "      <td>0</td>\n",
       "      <td>0</td>\n",
       "      <td>0</td>\n",
       "      <td>1</td>\n",
       "      <td>0</td>\n",
       "      <td>0</td>\n",
       "      <td>0</td>\n",
       "      <td>0</td>\n",
       "      <td>0</td>\n",
       "    </tr>\n",
       "    <tr>\n",
       "      <th>2</th>\n",
       "      <td>30</td>\n",
       "      <td>7</td>\n",
       "      <td>7410811099</td>\n",
       "      <td>1</td>\n",
       "      <td>4504.0</td>\n",
       "      <td>0</td>\n",
       "      <td>0</td>\n",
       "      <td>0</td>\n",
       "      <td>0</td>\n",
       "      <td>0</td>\n",
       "      <td>...</td>\n",
       "      <td>0</td>\n",
       "      <td>0</td>\n",
       "      <td>0</td>\n",
       "      <td>0</td>\n",
       "      <td>0</td>\n",
       "      <td>0</td>\n",
       "      <td>0</td>\n",
       "      <td>0</td>\n",
       "      <td>0</td>\n",
       "      <td>0</td>\n",
       "    </tr>\n",
       "  </tbody>\n",
       "</table>\n",
       "<p>3 rows × 78 columns</p>\n",
       "</div>"
      ],
      "text/plain": [
       "   TripType  VisitNumber          Upc  ScanCount  FinelineNumber  \\\n",
       "0       999            5  68113152929         -1          1000.0   \n",
       "1        30            7  60538815980          1          8931.0   \n",
       "2        30            7   7410811099          1          4504.0   \n",
       "\n",
       "   Weekday_Monday  Weekday_Saturday  Weekday_Sunday  Weekday_Thursday  \\\n",
       "0               0                 0               0                 0   \n",
       "1               0                 0               0                 0   \n",
       "2               0                 0               0                 0   \n",
       "\n",
       "   Weekday_Tuesday  ...  DepartmentDescription_SEAFOOD  \\\n",
       "0                0  ...                              0   \n",
       "1                0  ...                              0   \n",
       "2                0  ...                              0   \n",
       "\n",
       "   DepartmentDescription_SEASONAL  DepartmentDescription_SERVICE DELI  \\\n",
       "0                               0                                   0   \n",
       "1                               0                                   0   \n",
       "2                               0                                   0   \n",
       "\n",
       "   DepartmentDescription_SHEER HOSIERY  DepartmentDescription_SHOES  \\\n",
       "0                                    0                            0   \n",
       "1                                    0                            1   \n",
       "2                                    0                            0   \n",
       "\n",
       "   DepartmentDescription_SLEEPWEAR/FOUNDATIONS  \\\n",
       "0                                            0   \n",
       "1                                            0   \n",
       "2                                            0   \n",
       "\n",
       "   DepartmentDescription_SPORTING GOODS  \\\n",
       "0                                     0   \n",
       "1                                     0   \n",
       "2                                     0   \n",
       "\n",
       "   DepartmentDescription_SWIMWEAR/OUTERWEAR  DepartmentDescription_TOYS  \\\n",
       "0                                         0                           0   \n",
       "1                                         0                           0   \n",
       "2                                         0                           0   \n",
       "\n",
       "   DepartmentDescription_WIRELESS  \n",
       "0                               0  \n",
       "1                               0  \n",
       "2                               0  \n",
       "\n",
       "[3 rows x 78 columns]"
      ]
     },
     "execution_count": 101,
     "metadata": {},
     "output_type": "execute_result"
    }
   ],
   "source": [
    "Trip_data_dmy.head(3)"
   ]
  },
  {
   "cell_type": "code",
   "execution_count": 102,
   "metadata": {},
   "outputs": [],
   "source": [
    "X = Trip_data_dmy.iloc[:,1:]\n",
    "y = Trip_data_dmy.iloc[:,0]"
   ]
  },
  {
   "cell_type": "code",
   "execution_count": 103,
   "metadata": {},
   "outputs": [],
   "source": [
    "# split X and y into training and testing sets\n",
    "from sklearn.model_selection import train_test_split\n",
    "X_train, X_test, y_train, y_test = train_test_split(X, y, random_state=123)"
   ]
  },
  {
   "cell_type": "code",
   "execution_count": 104,
   "metadata": {},
   "outputs": [],
   "source": [
    "from sklearn.tree import DecisionTreeClassifier\n",
    "from sklearn.ensemble import RandomForestClassifier"
   ]
  },
  {
   "cell_type": "code",
   "execution_count": 105,
   "metadata": {},
   "outputs": [
    {
     "data": {
      "text/plain": [
       "DecisionTreeClassifier(class_weight=None, criterion='gini', max_depth=None,\n",
       "            max_features=None, max_leaf_nodes=None,\n",
       "            min_impurity_decrease=0.0, min_impurity_split=None,\n",
       "            min_samples_leaf=1, min_samples_split=2,\n",
       "            min_weight_fraction_leaf=0.0, presort=False, random_state=None,\n",
       "            splitter='best')"
      ]
     },
     "execution_count": 105,
     "metadata": {},
     "output_type": "execute_result"
    }
   ],
   "source": [
    "# Let us build a complete tree by overfitting and find the height\n",
    "tree_model = DecisionTreeClassifier(criterion = \"gini\")\n",
    "tree_model.fit(X_train, y_train)"
   ]
  },
  {
   "cell_type": "code",
   "execution_count": 106,
   "metadata": {},
   "outputs": [
    {
     "name": "stdout",
     "output_type": "stream",
     "text": [
      "Tree Model Accuracy on training data:       1.0\n"
     ]
    }
   ],
   "source": [
    "# Print Tree Model Accuracy on training data:\n",
    "print(f'Tree Model Accuracy on training data: \\\n",
    "      {tree_model.score(X_train, y_train)}')"
   ]
  },
  {
   "cell_type": "code",
   "execution_count": 107,
   "metadata": {},
   "outputs": [],
   "source": [
    "# Notice that the training accuracy is 100%, so overfitted as planned"
   ]
  },
  {
   "cell_type": "code",
   "execution_count": 108,
   "metadata": {},
   "outputs": [
    {
     "name": "stdout",
     "output_type": "stream",
     "text": [
      "Total nodes:  599205\n",
      "Tree Height is:  103\n"
     ]
    }
   ],
   "source": [
    "treeObj = tree_model.tree_\n",
    "print(\"Total nodes: \", treeObj.node_count)\n",
    "print(\"Tree Height is: \", treeObj.max_depth)"
   ]
  },
  {
   "cell_type": "code",
   "execution_count": 109,
   "metadata": {},
   "outputs": [],
   "source": [
    "# The Tree Height gives us an understanding of where to Prune, as we now know the height of the tree"
   ]
  },
  {
   "cell_type": "code",
   "execution_count": 111,
   "metadata": {},
   "outputs": [
    {
     "data": {
      "text/plain": [
       "DecisionTreeClassifier(class_weight=None, criterion='gini', max_depth=60,\n",
       "            max_features=None, max_leaf_nodes=None,\n",
       "            min_impurity_decrease=0.0, min_impurity_split=None,\n",
       "            min_samples_leaf=1, min_samples_split=2,\n",
       "            min_weight_fraction_leaf=0.0, presort=False, random_state=None,\n",
       "            splitter='best')"
      ]
     },
     "execution_count": 111,
     "metadata": {},
     "output_type": "execute_result"
    }
   ],
   "source": [
    "# Let us build another tree by applying some level of prunning\n",
    "tree_model_60 = DecisionTreeClassifier(criterion = \"gini\", max_depth=60)\n",
    "tree_model_60.fit(X_train, y_train)"
   ]
  },
  {
   "cell_type": "code",
   "execution_count": 112,
   "metadata": {},
   "outputs": [
    {
     "name": "stdout",
     "output_type": "stream",
     "text": [
      "Tree Model (depth 60) Accuracy on training data:       0.975378716686088\n"
     ]
    }
   ],
   "source": [
    "# Print Tree Model Accuracy on training data with depth 60:\n",
    "print(f'Tree Model (depth 60) Accuracy on training data: \\\n",
    "      {tree_model_60.score(X_train, y_train)}')"
   ]
  },
  {
   "cell_type": "code",
   "execution_count": 113,
   "metadata": {},
   "outputs": [
    {
     "name": "stdout",
     "output_type": "stream",
     "text": [
      "Tree Model (depth 60) Accuracy on test data:       0.3231089225525943\n"
     ]
    }
   ],
   "source": [
    "# Print Tree Model Accuracy on Test data with depth 60:\n",
    "print(f'Tree Model (depth 60) Accuracy on test data: \\\n",
    "      {tree_model_60.score(X_test, y_test)}')"
   ]
  },
  {
   "cell_type": "code",
   "execution_count": 114,
   "metadata": {},
   "outputs": [],
   "source": [
    "# The testing data accuracy is very poor!\n",
    "# Let us quickly test out a forest model"
   ]
  },
  {
   "cell_type": "code",
   "execution_count": 116,
   "metadata": {},
   "outputs": [
    {
     "data": {
      "text/plain": [
       "RandomForestClassifier(bootstrap=True, class_weight=None, criterion='gini',\n",
       "            max_depth=50, max_features='auto', max_leaf_nodes=None,\n",
       "            min_impurity_decrease=0.0, min_impurity_split=None,\n",
       "            min_samples_leaf=1, min_samples_split=2,\n",
       "            min_weight_fraction_leaf=0.0, n_estimators=50, n_jobs=None,\n",
       "            oob_score=False, random_state=None, verbose=0,\n",
       "            warm_start=False)"
      ]
     },
     "execution_count": 116,
     "metadata": {},
     "output_type": "execute_result"
    }
   ],
   "source": [
    "forest_model_50_50 = RandomForestClassifier(criterion = \"gini\", max_depth=50, n_estimators=50)\n",
    "forest_model_50_50.fit(X_train, y_train)"
   ]
  },
  {
   "cell_type": "code",
   "execution_count": 117,
   "metadata": {},
   "outputs": [
    {
     "name": "stdout",
     "output_type": "stream",
     "text": [
      "Random Forest Model with depth 50 and 50 Estimators -  Accuracy on training data:       0.9932735238715767\n"
     ]
    }
   ],
   "source": [
    "# Print Random Forest Model Accuracy on training data:\n",
    "print(f'Random Forest Model with depth 50 and 50 Estimators -  Accuracy on training data: \\\n",
    "      {forest_model_50_50.score(X_train, y_train)}')"
   ]
  },
  {
   "cell_type": "code",
   "execution_count": 118,
   "metadata": {},
   "outputs": [
    {
     "name": "stdout",
     "output_type": "stream",
     "text": [
      "Random Forest Model with depth 50 and 50 Estimators-  Accuracy on Testing data:       0.346533598967535\n"
     ]
    }
   ],
   "source": [
    "# Print Random Forest Model Accuracy on Testing data:\n",
    "print(f'Random Forest Model with depth 50 and 50 Estimators-  Accuracy on Testing data: \\\n",
    "      {forest_model_50_50.score(X_test, y_test)}')"
   ]
  },
  {
   "cell_type": "markdown",
   "metadata": {},
   "source": [
    "#### Observation from above models\n",
    "- The model performance on training data is very good, but on test data it is not generalizing well\n",
    "- A tree based approach that we chose seem to be the right choice\n",
    "- Model performance might increase with hyperparameter tuning on Random forest\n",
    "- Gradient Boosting (or XGBoost) should definitely perform a lot better\n",
    "- Despite the Algorithmic tuning approaches, Feature Engineering should be our next step"
   ]
  },
  {
   "cell_type": "markdown",
   "metadata": {},
   "source": [
    "## Feature Engineering: Round-1"
   ]
  },
  {
   "cell_type": "code",
   "execution_count": 119,
   "metadata": {},
   "outputs": [
    {
     "data": {
      "text/html": [
       "<div>\n",
       "<style scoped>\n",
       "    .dataframe tbody tr th:only-of-type {\n",
       "        vertical-align: middle;\n",
       "    }\n",
       "\n",
       "    .dataframe tbody tr th {\n",
       "        vertical-align: top;\n",
       "    }\n",
       "\n",
       "    .dataframe thead th {\n",
       "        text-align: right;\n",
       "    }\n",
       "</style>\n",
       "<table border=\"1\" class=\"dataframe\">\n",
       "  <thead>\n",
       "    <tr style=\"text-align: right;\">\n",
       "      <th></th>\n",
       "      <th>TripType</th>\n",
       "      <th>VisitNumber</th>\n",
       "      <th>Weekday</th>\n",
       "      <th>Upc</th>\n",
       "      <th>ScanCount</th>\n",
       "      <th>DepartmentDescription</th>\n",
       "      <th>FinelineNumber</th>\n",
       "    </tr>\n",
       "  </thead>\n",
       "  <tbody>\n",
       "    <tr>\n",
       "      <th>0</th>\n",
       "      <td>999</td>\n",
       "      <td>5</td>\n",
       "      <td>Friday</td>\n",
       "      <td>68113152929</td>\n",
       "      <td>-1</td>\n",
       "      <td>FINANCIAL SERVICES</td>\n",
       "      <td>1000.0</td>\n",
       "    </tr>\n",
       "    <tr>\n",
       "      <th>1</th>\n",
       "      <td>30</td>\n",
       "      <td>7</td>\n",
       "      <td>Friday</td>\n",
       "      <td>60538815980</td>\n",
       "      <td>1</td>\n",
       "      <td>SHOES</td>\n",
       "      <td>8931.0</td>\n",
       "    </tr>\n",
       "    <tr>\n",
       "      <th>2</th>\n",
       "      <td>30</td>\n",
       "      <td>7</td>\n",
       "      <td>Friday</td>\n",
       "      <td>7410811099</td>\n",
       "      <td>1</td>\n",
       "      <td>PERSONAL CARE</td>\n",
       "      <td>4504.0</td>\n",
       "    </tr>\n",
       "    <tr>\n",
       "      <th>3</th>\n",
       "      <td>26</td>\n",
       "      <td>8</td>\n",
       "      <td>Friday</td>\n",
       "      <td>2238403510</td>\n",
       "      <td>2</td>\n",
       "      <td>PAINT AND ACCESSORIES</td>\n",
       "      <td>3565.0</td>\n",
       "    </tr>\n",
       "  </tbody>\n",
       "</table>\n",
       "</div>"
      ],
      "text/plain": [
       "   TripType  VisitNumber Weekday          Upc  ScanCount  \\\n",
       "0       999            5  Friday  68113152929         -1   \n",
       "1        30            7  Friday  60538815980          1   \n",
       "2        30            7  Friday   7410811099          1   \n",
       "3        26            8  Friday   2238403510          2   \n",
       "\n",
       "   DepartmentDescription  FinelineNumber  \n",
       "0     FINANCIAL SERVICES          1000.0  \n",
       "1                  SHOES          8931.0  \n",
       "2          PERSONAL CARE          4504.0  \n",
       "3  PAINT AND ACCESSORIES          3565.0  "
      ]
     },
     "execution_count": 119,
     "metadata": {},
     "output_type": "execute_result"
    }
   ],
   "source": [
    "# Again, let us view the top few records to recollect how the data is\n",
    "Trip_data.head(4)"
   ]
  },
  {
   "cell_type": "markdown",
   "metadata": {},
   "source": [
    "#### TripType"
   ]
  },
  {
   "cell_type": "code",
   "execution_count": 120,
   "metadata": {},
   "outputs": [
    {
     "data": {
      "text/plain": [
       "4     889\n",
       "23    323\n",
       "14     34\n",
       "Name: TripType, dtype: int64"
      ]
     },
     "execution_count": 120,
     "metadata": {},
     "output_type": "execute_result"
    }
   ],
   "source": [
    "# Find the least frequent labels in TripType\n",
    "Trip_data[\"TripType\"].value_counts().tail(3)"
   ]
  },
  {
   "cell_type": "code",
   "execution_count": 121,
   "metadata": {},
   "outputs": [
    {
     "data": {
      "text/html": [
       "<div>\n",
       "<style scoped>\n",
       "    .dataframe tbody tr th:only-of-type {\n",
       "        vertical-align: middle;\n",
       "    }\n",
       "\n",
       "    .dataframe tbody tr th {\n",
       "        vertical-align: top;\n",
       "    }\n",
       "\n",
       "    .dataframe thead th {\n",
       "        text-align: right;\n",
       "    }\n",
       "</style>\n",
       "<table border=\"1\" class=\"dataframe\">\n",
       "  <thead>\n",
       "    <tr style=\"text-align: right;\">\n",
       "      <th></th>\n",
       "      <th>TripType</th>\n",
       "      <th>VisitNumber</th>\n",
       "      <th>Weekday</th>\n",
       "      <th>Upc</th>\n",
       "      <th>ScanCount</th>\n",
       "      <th>DepartmentDescription</th>\n",
       "      <th>FinelineNumber</th>\n",
       "    </tr>\n",
       "  </thead>\n",
       "  <tbody>\n",
       "    <tr>\n",
       "      <th>5938</th>\n",
       "      <td>14</td>\n",
       "      <td>2154</td>\n",
       "      <td>Friday</td>\n",
       "      <td>3400000241</td>\n",
       "      <td>1</td>\n",
       "      <td>IMPULSE MERCHANDISE</td>\n",
       "      <td>100.0</td>\n",
       "    </tr>\n",
       "    <tr>\n",
       "      <th>5939</th>\n",
       "      <td>14</td>\n",
       "      <td>2154</td>\n",
       "      <td>Friday</td>\n",
       "      <td>84010919709</td>\n",
       "      <td>2</td>\n",
       "      <td>IMPULSE MERCHANDISE</td>\n",
       "      <td>8904.0</td>\n",
       "    </tr>\n",
       "    <tr>\n",
       "      <th>5940</th>\n",
       "      <td>14</td>\n",
       "      <td>2154</td>\n",
       "      <td>Friday</td>\n",
       "      <td>84010919709</td>\n",
       "      <td>1</td>\n",
       "      <td>IMPULSE MERCHANDISE</td>\n",
       "      <td>8904.0</td>\n",
       "    </tr>\n",
       "    <tr>\n",
       "      <th>5942</th>\n",
       "      <td>14</td>\n",
       "      <td>2154</td>\n",
       "      <td>Friday</td>\n",
       "      <td>84010919709</td>\n",
       "      <td>-2</td>\n",
       "      <td>IMPULSE MERCHANDISE</td>\n",
       "      <td>8904.0</td>\n",
       "    </tr>\n",
       "    <tr>\n",
       "      <th>5943</th>\n",
       "      <td>14</td>\n",
       "      <td>2154</td>\n",
       "      <td>Friday</td>\n",
       "      <td>84792200905</td>\n",
       "      <td>1</td>\n",
       "      <td>PETS AND SUPPLIES</td>\n",
       "      <td>1169.0</td>\n",
       "    </tr>\n",
       "    <tr>\n",
       "      <th>5944</th>\n",
       "      <td>14</td>\n",
       "      <td>2154</td>\n",
       "      <td>Friday</td>\n",
       "      <td>78436978096</td>\n",
       "      <td>1</td>\n",
       "      <td>PETS AND SUPPLIES</td>\n",
       "      <td>1169.0</td>\n",
       "    </tr>\n",
       "    <tr>\n",
       "      <th>5945</th>\n",
       "      <td>14</td>\n",
       "      <td>2154</td>\n",
       "      <td>Friday</td>\n",
       "      <td>1780014911</td>\n",
       "      <td>1</td>\n",
       "      <td>PETS AND SUPPLIES</td>\n",
       "      <td>232.0</td>\n",
       "    </tr>\n",
       "    <tr>\n",
       "      <th>40937</th>\n",
       "      <td>14</td>\n",
       "      <td>12127</td>\n",
       "      <td>Saturday</td>\n",
       "      <td>692302610057</td>\n",
       "      <td>2</td>\n",
       "      <td>FABRICS AND CRAFTS</td>\n",
       "      <td>7949.0</td>\n",
       "    </tr>\n",
       "    <tr>\n",
       "      <th>40938</th>\n",
       "      <td>14</td>\n",
       "      <td>12127</td>\n",
       "      <td>Saturday</td>\n",
       "      <td>692302610057</td>\n",
       "      <td>1</td>\n",
       "      <td>FABRICS AND CRAFTS</td>\n",
       "      <td>7949.0</td>\n",
       "    </tr>\n",
       "    <tr>\n",
       "      <th>40939</th>\n",
       "      <td>14</td>\n",
       "      <td>12127</td>\n",
       "      <td>Saturday</td>\n",
       "      <td>692302610055</td>\n",
       "      <td>2</td>\n",
       "      <td>FABRICS AND CRAFTS</td>\n",
       "      <td>7949.0</td>\n",
       "    </tr>\n",
       "    <tr>\n",
       "      <th>40940</th>\n",
       "      <td>14</td>\n",
       "      <td>12127</td>\n",
       "      <td>Saturday</td>\n",
       "      <td>692302610055</td>\n",
       "      <td>3</td>\n",
       "      <td>FABRICS AND CRAFTS</td>\n",
       "      <td>7949.0</td>\n",
       "    </tr>\n",
       "    <tr>\n",
       "      <th>40941</th>\n",
       "      <td>14</td>\n",
       "      <td>12127</td>\n",
       "      <td>Saturday</td>\n",
       "      <td>5400015029</td>\n",
       "      <td>1</td>\n",
       "      <td>HOUSEHOLD PAPER GOODS</td>\n",
       "      <td>3004.0</td>\n",
       "    </tr>\n",
       "    <tr>\n",
       "      <th>40942</th>\n",
       "      <td>14</td>\n",
       "      <td>12127</td>\n",
       "      <td>Saturday</td>\n",
       "      <td>2519217060</td>\n",
       "      <td>1</td>\n",
       "      <td>MEDIA AND GAMING</td>\n",
       "      <td>9625.0</td>\n",
       "    </tr>\n",
       "    <tr>\n",
       "      <th>40943</th>\n",
       "      <td>14</td>\n",
       "      <td>12127</td>\n",
       "      <td>Saturday</td>\n",
       "      <td>2519215707</td>\n",
       "      <td>1</td>\n",
       "      <td>MEDIA AND GAMING</td>\n",
       "      <td>9625.0</td>\n",
       "    </tr>\n",
       "    <tr>\n",
       "      <th>88019</th>\n",
       "      <td>14</td>\n",
       "      <td>25078</td>\n",
       "      <td>Monday</td>\n",
       "      <td>692302610056</td>\n",
       "      <td>1</td>\n",
       "      <td>FABRICS AND CRAFTS</td>\n",
       "      <td>7949.0</td>\n",
       "    </tr>\n",
       "    <tr>\n",
       "      <th>88020</th>\n",
       "      <td>14</td>\n",
       "      <td>25078</td>\n",
       "      <td>Monday</td>\n",
       "      <td>692302610057</td>\n",
       "      <td>1</td>\n",
       "      <td>FABRICS AND CRAFTS</td>\n",
       "      <td>7949.0</td>\n",
       "    </tr>\n",
       "    <tr>\n",
       "      <th>88021</th>\n",
       "      <td>14</td>\n",
       "      <td>25078</td>\n",
       "      <td>Monday</td>\n",
       "      <td>692302610057</td>\n",
       "      <td>13</td>\n",
       "      <td>FABRICS AND CRAFTS</td>\n",
       "      <td>7949.0</td>\n",
       "    </tr>\n",
       "    <tr>\n",
       "      <th>88022</th>\n",
       "      <td>14</td>\n",
       "      <td>25078</td>\n",
       "      <td>Monday</td>\n",
       "      <td>68113153209</td>\n",
       "      <td>1</td>\n",
       "      <td>PRODUCE</td>\n",
       "      <td>7066.0</td>\n",
       "    </tr>\n",
       "    <tr>\n",
       "      <th>88023</th>\n",
       "      <td>14</td>\n",
       "      <td>25078</td>\n",
       "      <td>Monday</td>\n",
       "      <td>66677277220</td>\n",
       "      <td>1</td>\n",
       "      <td>OFFICE SUPPLIES</td>\n",
       "      <td>6015.0</td>\n",
       "    </tr>\n",
       "    <tr>\n",
       "      <th>88024</th>\n",
       "      <td>14</td>\n",
       "      <td>25078</td>\n",
       "      <td>Monday</td>\n",
       "      <td>692302610060</td>\n",
       "      <td>1</td>\n",
       "      <td>FABRICS AND CRAFTS</td>\n",
       "      <td>4100.0</td>\n",
       "    </tr>\n",
       "    <tr>\n",
       "      <th>88025</th>\n",
       "      <td>14</td>\n",
       "      <td>25078</td>\n",
       "      <td>Monday</td>\n",
       "      <td>692302610060</td>\n",
       "      <td>9</td>\n",
       "      <td>FABRICS AND CRAFTS</td>\n",
       "      <td>4100.0</td>\n",
       "    </tr>\n",
       "    <tr>\n",
       "      <th>88026</th>\n",
       "      <td>14</td>\n",
       "      <td>25078</td>\n",
       "      <td>Monday</td>\n",
       "      <td>692302610054</td>\n",
       "      <td>3</td>\n",
       "      <td>FABRICS AND CRAFTS</td>\n",
       "      <td>7949.0</td>\n",
       "    </tr>\n",
       "    <tr>\n",
       "      <th>88027</th>\n",
       "      <td>14</td>\n",
       "      <td>25078</td>\n",
       "      <td>Monday</td>\n",
       "      <td>692302610054</td>\n",
       "      <td>1</td>\n",
       "      <td>FABRICS AND CRAFTS</td>\n",
       "      <td>7949.0</td>\n",
       "    </tr>\n",
       "    <tr>\n",
       "      <th>88028</th>\n",
       "      <td>14</td>\n",
       "      <td>25078</td>\n",
       "      <td>Monday</td>\n",
       "      <td>68113132896</td>\n",
       "      <td>1</td>\n",
       "      <td>PRODUCE</td>\n",
       "      <td>7070.0</td>\n",
       "    </tr>\n",
       "    <tr>\n",
       "      <th>88029</th>\n",
       "      <td>14</td>\n",
       "      <td>25078</td>\n",
       "      <td>Monday</td>\n",
       "      <td>60538862128</td>\n",
       "      <td>1</td>\n",
       "      <td>FINANCIAL SERVICES</td>\n",
       "      <td>0.0</td>\n",
       "    </tr>\n",
       "    <tr>\n",
       "      <th>88030</th>\n",
       "      <td>14</td>\n",
       "      <td>25078</td>\n",
       "      <td>Monday</td>\n",
       "      <td>692302610055</td>\n",
       "      <td>9</td>\n",
       "      <td>FABRICS AND CRAFTS</td>\n",
       "      <td>7949.0</td>\n",
       "    </tr>\n",
       "    <tr>\n",
       "      <th>88031</th>\n",
       "      <td>14</td>\n",
       "      <td>25078</td>\n",
       "      <td>Monday</td>\n",
       "      <td>692302610055</td>\n",
       "      <td>1</td>\n",
       "      <td>FABRICS AND CRAFTS</td>\n",
       "      <td>7949.0</td>\n",
       "    </tr>\n",
       "    <tr>\n",
       "      <th>88032</th>\n",
       "      <td>14</td>\n",
       "      <td>25078</td>\n",
       "      <td>Monday</td>\n",
       "      <td>692302610056</td>\n",
       "      <td>13</td>\n",
       "      <td>FABRICS AND CRAFTS</td>\n",
       "      <td>7949.0</td>\n",
       "    </tr>\n",
       "    <tr>\n",
       "      <th>182538</th>\n",
       "      <td>14</td>\n",
       "      <td>54761</td>\n",
       "      <td>Saturday</td>\n",
       "      <td>61029040298</td>\n",
       "      <td>1</td>\n",
       "      <td>CELEBRATION</td>\n",
       "      <td>305.0</td>\n",
       "    </tr>\n",
       "    <tr>\n",
       "      <th>182539</th>\n",
       "      <td>14</td>\n",
       "      <td>54761</td>\n",
       "      <td>Saturday</td>\n",
       "      <td>64541690936</td>\n",
       "      <td>1</td>\n",
       "      <td>CELEBRATION</td>\n",
       "      <td>2505.0</td>\n",
       "    </tr>\n",
       "    <tr>\n",
       "      <th>182540</th>\n",
       "      <td>14</td>\n",
       "      <td>54761</td>\n",
       "      <td>Saturday</td>\n",
       "      <td>692302610035</td>\n",
       "      <td>4</td>\n",
       "      <td>FABRICS AND CRAFTS</td>\n",
       "      <td>7949.0</td>\n",
       "    </tr>\n",
       "    <tr>\n",
       "      <th>182541</th>\n",
       "      <td>14</td>\n",
       "      <td>54761</td>\n",
       "      <td>Saturday</td>\n",
       "      <td>80521991317</td>\n",
       "      <td>1</td>\n",
       "      <td>IMPULSE MERCHANDISE</td>\n",
       "      <td>302.0</td>\n",
       "    </tr>\n",
       "    <tr>\n",
       "      <th>182542</th>\n",
       "      <td>14</td>\n",
       "      <td>54761</td>\n",
       "      <td>Saturday</td>\n",
       "      <td>60538862097</td>\n",
       "      <td>1</td>\n",
       "      <td>FINANCIAL SERVICES</td>\n",
       "      <td>0.0</td>\n",
       "    </tr>\n",
       "    <tr>\n",
       "      <th>182543</th>\n",
       "      <td>14</td>\n",
       "      <td>54761</td>\n",
       "      <td>Saturday</td>\n",
       "      <td>64541689243</td>\n",
       "      <td>1</td>\n",
       "      <td>CELEBRATION</td>\n",
       "      <td>805.0</td>\n",
       "    </tr>\n",
       "  </tbody>\n",
       "</table>\n",
       "</div>"
      ],
      "text/plain": [
       "        TripType  VisitNumber   Weekday           Upc  ScanCount  \\\n",
       "5938          14         2154    Friday    3400000241          1   \n",
       "5939          14         2154    Friday   84010919709          2   \n",
       "5940          14         2154    Friday   84010919709          1   \n",
       "5942          14         2154    Friday   84010919709         -2   \n",
       "5943          14         2154    Friday   84792200905          1   \n",
       "5944          14         2154    Friday   78436978096          1   \n",
       "5945          14         2154    Friday    1780014911          1   \n",
       "40937         14        12127  Saturday  692302610057          2   \n",
       "40938         14        12127  Saturday  692302610057          1   \n",
       "40939         14        12127  Saturday  692302610055          2   \n",
       "40940         14        12127  Saturday  692302610055          3   \n",
       "40941         14        12127  Saturday    5400015029          1   \n",
       "40942         14        12127  Saturday    2519217060          1   \n",
       "40943         14        12127  Saturday    2519215707          1   \n",
       "88019         14        25078    Monday  692302610056          1   \n",
       "88020         14        25078    Monday  692302610057          1   \n",
       "88021         14        25078    Monday  692302610057         13   \n",
       "88022         14        25078    Monday   68113153209          1   \n",
       "88023         14        25078    Monday   66677277220          1   \n",
       "88024         14        25078    Monday  692302610060          1   \n",
       "88025         14        25078    Monday  692302610060          9   \n",
       "88026         14        25078    Monday  692302610054          3   \n",
       "88027         14        25078    Monday  692302610054          1   \n",
       "88028         14        25078    Monday   68113132896          1   \n",
       "88029         14        25078    Monday   60538862128          1   \n",
       "88030         14        25078    Monday  692302610055          9   \n",
       "88031         14        25078    Monday  692302610055          1   \n",
       "88032         14        25078    Monday  692302610056         13   \n",
       "182538        14        54761  Saturday   61029040298          1   \n",
       "182539        14        54761  Saturday   64541690936          1   \n",
       "182540        14        54761  Saturday  692302610035          4   \n",
       "182541        14        54761  Saturday   80521991317          1   \n",
       "182542        14        54761  Saturday   60538862097          1   \n",
       "182543        14        54761  Saturday   64541689243          1   \n",
       "\n",
       "        DepartmentDescription  FinelineNumber  \n",
       "5938      IMPULSE MERCHANDISE           100.0  \n",
       "5939      IMPULSE MERCHANDISE          8904.0  \n",
       "5940      IMPULSE MERCHANDISE          8904.0  \n",
       "5942      IMPULSE MERCHANDISE          8904.0  \n",
       "5943        PETS AND SUPPLIES          1169.0  \n",
       "5944        PETS AND SUPPLIES          1169.0  \n",
       "5945        PETS AND SUPPLIES           232.0  \n",
       "40937      FABRICS AND CRAFTS          7949.0  \n",
       "40938      FABRICS AND CRAFTS          7949.0  \n",
       "40939      FABRICS AND CRAFTS          7949.0  \n",
       "40940      FABRICS AND CRAFTS          7949.0  \n",
       "40941   HOUSEHOLD PAPER GOODS          3004.0  \n",
       "40942        MEDIA AND GAMING          9625.0  \n",
       "40943        MEDIA AND GAMING          9625.0  \n",
       "88019      FABRICS AND CRAFTS          7949.0  \n",
       "88020      FABRICS AND CRAFTS          7949.0  \n",
       "88021      FABRICS AND CRAFTS          7949.0  \n",
       "88022                 PRODUCE          7066.0  \n",
       "88023         OFFICE SUPPLIES          6015.0  \n",
       "88024      FABRICS AND CRAFTS          4100.0  \n",
       "88025      FABRICS AND CRAFTS          4100.0  \n",
       "88026      FABRICS AND CRAFTS          7949.0  \n",
       "88027      FABRICS AND CRAFTS          7949.0  \n",
       "88028                 PRODUCE          7070.0  \n",
       "88029      FINANCIAL SERVICES             0.0  \n",
       "88030      FABRICS AND CRAFTS          7949.0  \n",
       "88031      FABRICS AND CRAFTS          7949.0  \n",
       "88032      FABRICS AND CRAFTS          7949.0  \n",
       "182538            CELEBRATION           305.0  \n",
       "182539            CELEBRATION          2505.0  \n",
       "182540     FABRICS AND CRAFTS          7949.0  \n",
       "182541    IMPULSE MERCHANDISE           302.0  \n",
       "182542     FINANCIAL SERVICES             0.0  \n",
       "182543            CELEBRATION           805.0  "
      ]
     },
     "execution_count": 121,
     "metadata": {},
     "output_type": "execute_result"
    }
   ],
   "source": [
    "# There are barely 34 records for the TripType=14, which is definitely an issue for training\n",
    "# Checking the records with TripType 14 to find any pattern\n",
    "Trip_data[Trip_data[\"TripType\"]==14]"
   ]
  },
  {
   "cell_type": "code",
   "execution_count": 122,
   "metadata": {},
   "outputs": [],
   "source": [
    "# TripType 14 has got barely 34 records associated with it\n",
    "# Though could not conclude on what to do with TripType 14 at the moment,\n",
    "# We might have to club it with TripType 999, that we will see later in Round-2 or Round-3 of feature engineering"
   ]
  },
  {
   "cell_type": "markdown",
   "metadata": {},
   "source": [
    "#### Visit Number"
   ]
  },
  {
   "cell_type": "code",
   "execution_count": 123,
   "metadata": {},
   "outputs": [
    {
     "data": {
      "text/plain": [
       "94247"
      ]
     },
     "execution_count": 123,
     "metadata": {},
     "output_type": "execute_result"
    }
   ],
   "source": [
    "# VisitNumber : an id corresponding to a single trip by a single customer\n",
    "# Total unique Visit Numbers are\n",
    "len(Trip_data[\"VisitNumber\"].unique())"
   ]
  },
  {
   "cell_type": "code",
   "execution_count": 124,
   "metadata": {},
   "outputs": [
    {
     "name": "stdout",
     "output_type": "stream",
     "text": [
      "5\n",
      "191347\n",
      "0    72439\n",
      "dtype: int64\n"
     ]
    }
   ],
   "source": [
    "print(Trip_data[\"VisitNumber\"].min())\n",
    "print(Trip_data[\"VisitNumber\"].max())\n",
    "print(Trip_data[\"VisitNumber\"].mode())"
   ]
  },
  {
   "cell_type": "code",
   "execution_count": 125,
   "metadata": {},
   "outputs": [
    {
     "data": {
      "text/plain": [
       "<matplotlib.axes._subplots.AxesSubplot at 0x1a1d973ba8>"
      ]
     },
     "execution_count": 125,
     "metadata": {},
     "output_type": "execute_result"
    },
    {
     "data": {
      "image/png": "[encoded data removed]",
      "text/plain": [
       "<Figure size 432x288 with 1 Axes>"
      ]
     },
     "metadata": {
      "needs_background": "light"
     },
     "output_type": "display_data"
    }
   ],
   "source": [
    "sns.distplot(Trip_data[\"VisitNumber\"])"
   ]
  },
  {
   "cell_type": "code",
   "execution_count": 126,
   "metadata": {},
   "outputs": [
    {
     "data": {
      "text/plain": [
       "188270    1\n",
       "149033    1\n",
       "121101    1\n",
       "112897    1\n",
       "151420    1\n",
       "161659    1\n",
       "171570    1\n",
       "145267    1\n",
       "143216    1\n",
       "2047      1\n",
       "Name: VisitNumber, dtype: int64"
      ]
     },
     "execution_count": 126,
     "metadata": {},
     "output_type": "execute_result"
    }
   ],
   "source": [
    "# Find the least frequent labels in VisitNumber\n",
    "Trip_data[\"VisitNumber\"].value_counts().tail(10)"
   ]
  },
  {
   "cell_type": "code",
   "execution_count": 127,
   "metadata": {},
   "outputs": [
    {
     "data": {
      "text/plain": [
       "1"
      ]
     },
     "execution_count": 127,
     "metadata": {},
     "output_type": "execute_result"
    }
   ],
   "source": [
    "len(Trip_data[Trip_data[\"VisitNumber\"]==5])"
   ]
  },
  {
   "cell_type": "code",
   "execution_count": 128,
   "metadata": {},
   "outputs": [
    {
     "data": {
      "text/plain": [
       "0.01      2319.0\n",
       "0.05      9891.0\n",
       "0.10     18163.0\n",
       "0.30     57903.3\n",
       "0.50     97162.0\n",
       "0.70    135297.8\n",
       "0.90    173799.9\n",
       "Name: VisitNumber, dtype: float64"
      ]
     },
     "execution_count": 128,
     "metadata": {},
     "output_type": "execute_result"
    }
   ],
   "source": [
    "Trip_data[\"VisitNumber\"].quantile([0.01, 0.05, 0.1, 0.3, 0.5, 0.7, .9])"
   ]
  },
  {
   "cell_type": "code",
   "execution_count": 129,
   "metadata": {},
   "outputs": [],
   "source": [
    "# Notice that there are very few records with Visit Number being a small value.\n",
    "# This means that the overall dataset is of customers who have visited Walmart many times already"
   ]
  },
  {
   "cell_type": "code",
   "execution_count": 130,
   "metadata": {},
   "outputs": [
    {
     "data": {
      "text/plain": [
       "6407"
      ]
     },
     "execution_count": 130,
     "metadata": {},
     "output_type": "execute_result"
    }
   ],
   "source": [
    "# Let us see how many number of records are below one percentile, i.e. visit number below 2319\n",
    "len(Trip_data[Trip_data[\"VisitNumber\"] <= 2319])"
   ]
  },
  {
   "cell_type": "code",
   "execution_count": 131,
   "metadata": {},
   "outputs": [
    {
     "data": {
      "text/plain": [
       "array([999,  30,  26,   8,  35,  41,  21,   6,  42,   7,   9,  39,  25,\n",
       "        38,  15,  36,  20,  37,  32,  40,   5,   3,   4,  24,  33,  43,\n",
       "        31,  27,  34,  18,  29,  44,  19,  23,  22,  28,  14])"
      ]
     },
     "execution_count": 131,
     "metadata": {},
     "output_type": "execute_result"
    }
   ],
   "source": [
    "Trip_data[Trip_data[\"VisitNumber\"] <= 2319][\"TripType\"].unique()"
   ]
  },
  {
   "cell_type": "code",
   "execution_count": 132,
   "metadata": {},
   "outputs": [],
   "source": [
    "# Notice that the first one percentile Visit Numbers have almost all TripTypes, and not specific TripTypes\n",
    "# Creating a new feature (CustType) that would indicate low frequent, moderate frequent and high frequent customers may help"
   ]
  },
  {
   "cell_type": "code",
   "execution_count": 133,
   "metadata": {},
   "outputs": [],
   "source": [
    "Trip_data['CustType'] = Trip_data.VisitNumber.apply(lambda x: 0 if x <= 2319 else 2 if x > 173799 else 1)"
   ]
  },
  {
   "cell_type": "code",
   "execution_count": 134,
   "metadata": {},
   "outputs": [
    {
     "data": {
      "text/html": [
       "<div>\n",
       "<style scoped>\n",
       "    .dataframe tbody tr th:only-of-type {\n",
       "        vertical-align: middle;\n",
       "    }\n",
       "\n",
       "    .dataframe tbody tr th {\n",
       "        vertical-align: top;\n",
       "    }\n",
       "\n",
       "    .dataframe thead th {\n",
       "        text-align: right;\n",
       "    }\n",
       "</style>\n",
       "<table border=\"1\" class=\"dataframe\">\n",
       "  <thead>\n",
       "    <tr style=\"text-align: right;\">\n",
       "      <th></th>\n",
       "      <th>TripType</th>\n",
       "      <th>VisitNumber</th>\n",
       "      <th>Weekday</th>\n",
       "      <th>Upc</th>\n",
       "      <th>ScanCount</th>\n",
       "      <th>DepartmentDescription</th>\n",
       "      <th>FinelineNumber</th>\n",
       "      <th>CustType</th>\n",
       "    </tr>\n",
       "  </thead>\n",
       "  <tbody>\n",
       "    <tr>\n",
       "      <th>582431</th>\n",
       "      <td>3</td>\n",
       "      <td>173800</td>\n",
       "      <td>Friday</td>\n",
       "      <td>68113163351</td>\n",
       "      <td>2</td>\n",
       "      <td>FINANCIAL SERVICES</td>\n",
       "      <td>275.0</td>\n",
       "      <td>2</td>\n",
       "    </tr>\n",
       "    <tr>\n",
       "      <th>582432</th>\n",
       "      <td>3</td>\n",
       "      <td>173800</td>\n",
       "      <td>Friday</td>\n",
       "      <td>60538896309</td>\n",
       "      <td>2</td>\n",
       "      <td>FINANCIAL SERVICES</td>\n",
       "      <td>276.0</td>\n",
       "      <td>2</td>\n",
       "    </tr>\n",
       "  </tbody>\n",
       "</table>\n",
       "</div>"
      ],
      "text/plain": [
       "        TripType  VisitNumber Weekday          Upc  ScanCount  \\\n",
       "582431         3       173800  Friday  68113163351          2   \n",
       "582432         3       173800  Friday  60538896309          2   \n",
       "\n",
       "       DepartmentDescription  FinelineNumber  CustType  \n",
       "582431    FINANCIAL SERVICES           275.0         2  \n",
       "582432    FINANCIAL SERVICES           276.0         2  "
      ]
     },
     "execution_count": 134,
     "metadata": {},
     "output_type": "execute_result"
    }
   ],
   "source": [
    "Trip_data[Trip_data[\"VisitNumber\"] > 173799].head(2)"
   ]
  },
  {
   "cell_type": "code",
   "execution_count": 135,
   "metadata": {},
   "outputs": [
    {
     "data": {
      "text/html": [
       "<div>\n",
       "<style scoped>\n",
       "    .dataframe tbody tr th:only-of-type {\n",
       "        vertical-align: middle;\n",
       "    }\n",
       "\n",
       "    .dataframe tbody tr th {\n",
       "        vertical-align: top;\n",
       "    }\n",
       "\n",
       "    .dataframe thead th {\n",
       "        text-align: right;\n",
       "    }\n",
       "</style>\n",
       "<table border=\"1\" class=\"dataframe\">\n",
       "  <thead>\n",
       "    <tr style=\"text-align: right;\">\n",
       "      <th></th>\n",
       "      <th>TripType</th>\n",
       "      <th>VisitNumber</th>\n",
       "      <th>Weekday</th>\n",
       "      <th>Upc</th>\n",
       "      <th>ScanCount</th>\n",
       "      <th>DepartmentDescription</th>\n",
       "      <th>FinelineNumber</th>\n",
       "      <th>CustType</th>\n",
       "    </tr>\n",
       "  </thead>\n",
       "  <tbody>\n",
       "    <tr>\n",
       "      <th>0</th>\n",
       "      <td>999</td>\n",
       "      <td>5</td>\n",
       "      <td>Friday</td>\n",
       "      <td>68113152929</td>\n",
       "      <td>-1</td>\n",
       "      <td>FINANCIAL SERVICES</td>\n",
       "      <td>1000.0</td>\n",
       "      <td>0</td>\n",
       "    </tr>\n",
       "    <tr>\n",
       "      <th>1</th>\n",
       "      <td>30</td>\n",
       "      <td>7</td>\n",
       "      <td>Friday</td>\n",
       "      <td>60538815980</td>\n",
       "      <td>1</td>\n",
       "      <td>SHOES</td>\n",
       "      <td>8931.0</td>\n",
       "      <td>0</td>\n",
       "    </tr>\n",
       "  </tbody>\n",
       "</table>\n",
       "</div>"
      ],
      "text/plain": [
       "   TripType  VisitNumber Weekday          Upc  ScanCount  \\\n",
       "0       999            5  Friday  68113152929         -1   \n",
       "1        30            7  Friday  60538815980          1   \n",
       "\n",
       "  DepartmentDescription  FinelineNumber  CustType  \n",
       "0    FINANCIAL SERVICES          1000.0         0  \n",
       "1                 SHOES          8931.0         0  "
      ]
     },
     "execution_count": 135,
     "metadata": {},
     "output_type": "execute_result"
    }
   ],
   "source": [
    "Trip_data[Trip_data[\"VisitNumber\"] < 2319].head(2)"
   ]
  },
  {
   "cell_type": "code",
   "execution_count": 136,
   "metadata": {},
   "outputs": [
    {
     "data": {
      "text/html": [
       "<div>\n",
       "<style scoped>\n",
       "    .dataframe tbody tr th:only-of-type {\n",
       "        vertical-align: middle;\n",
       "    }\n",
       "\n",
       "    .dataframe tbody tr th {\n",
       "        vertical-align: top;\n",
       "    }\n",
       "\n",
       "    .dataframe thead th {\n",
       "        text-align: right;\n",
       "    }\n",
       "</style>\n",
       "<table border=\"1\" class=\"dataframe\">\n",
       "  <thead>\n",
       "    <tr style=\"text-align: right;\">\n",
       "      <th></th>\n",
       "      <th>TripType</th>\n",
       "      <th>VisitNumber</th>\n",
       "      <th>Weekday</th>\n",
       "      <th>Upc</th>\n",
       "      <th>ScanCount</th>\n",
       "      <th>DepartmentDescription</th>\n",
       "      <th>FinelineNumber</th>\n",
       "      <th>CustType</th>\n",
       "    </tr>\n",
       "  </thead>\n",
       "  <tbody>\n",
       "    <tr>\n",
       "      <th>6518</th>\n",
       "      <td>3</td>\n",
       "      <td>2320</td>\n",
       "      <td>Friday</td>\n",
       "      <td>60538896309</td>\n",
       "      <td>2</td>\n",
       "      <td>FINANCIAL SERVICES</td>\n",
       "      <td>276.0</td>\n",
       "      <td>1</td>\n",
       "    </tr>\n",
       "    <tr>\n",
       "      <th>6519</th>\n",
       "      <td>3</td>\n",
       "      <td>2320</td>\n",
       "      <td>Friday</td>\n",
       "      <td>68113163351</td>\n",
       "      <td>2</td>\n",
       "      <td>FINANCIAL SERVICES</td>\n",
       "      <td>275.0</td>\n",
       "      <td>1</td>\n",
       "    </tr>\n",
       "  </tbody>\n",
       "</table>\n",
       "</div>"
      ],
      "text/plain": [
       "      TripType  VisitNumber Weekday          Upc  ScanCount  \\\n",
       "6518         3         2320  Friday  60538896309          2   \n",
       "6519         3         2320  Friday  68113163351          2   \n",
       "\n",
       "     DepartmentDescription  FinelineNumber  CustType  \n",
       "6518    FINANCIAL SERVICES           276.0         1  \n",
       "6519    FINANCIAL SERVICES           275.0         1  "
      ]
     },
     "execution_count": 136,
     "metadata": {},
     "output_type": "execute_result"
    }
   ],
   "source": [
    "Trip_data[(Trip_data[\"VisitNumber\"] > 2319) & (Trip_data[\"VisitNumber\"] < 173799)].head(2)"
   ]
  },
  {
   "cell_type": "code",
   "execution_count": 137,
   "metadata": {},
   "outputs": [],
   "source": [
    "# We will also see later in Round-2/3 of feature engineering if there is any scope of dealing with \n",
    "# less frequent records pertaining to VisitNumber. Reducing number of labels might help."
   ]
  },
  {
   "cell_type": "markdown",
   "metadata": {},
   "source": [
    "#### Week Day"
   ]
  },
  {
   "cell_type": "code",
   "execution_count": 138,
   "metadata": {},
   "outputs": [],
   "source": [
    "# We have already seen the count data with respect to each day of the week\n",
    "# All days have good amount of customers, and Weekends have higher number of customers\n",
    "# So, creating a new feature (isWeekend) where Week Day is either Saturday or Sunday"
   ]
  },
  {
   "cell_type": "code",
   "execution_count": 139,
   "metadata": {},
   "outputs": [
    {
     "data": {
      "text/plain": [
       "array(['Friday', 'Saturday', 'Sunday', 'Monday', 'Tuesday', 'Wednesday',\n",
       "       'Thursday'], dtype=object)"
      ]
     },
     "execution_count": 139,
     "metadata": {},
     "output_type": "execute_result"
    }
   ],
   "source": [
    "Trip_data['Weekday'].unique()"
   ]
  },
  {
   "cell_type": "code",
   "execution_count": 140,
   "metadata": {},
   "outputs": [],
   "source": [
    "Trip_data['isWeekend'] = Trip_data.Weekday.apply(lambda x: 1 if (x == 'Saturday') | (x == 'Sunday') else 0)"
   ]
  },
  {
   "cell_type": "code",
   "execution_count": 141,
   "metadata": {},
   "outputs": [
    {
     "data": {
      "text/html": [
       "<div>\n",
       "<style scoped>\n",
       "    .dataframe tbody tr th:only-of-type {\n",
       "        vertical-align: middle;\n",
       "    }\n",
       "\n",
       "    .dataframe tbody tr th {\n",
       "        vertical-align: top;\n",
       "    }\n",
       "\n",
       "    .dataframe thead th {\n",
       "        text-align: right;\n",
       "    }\n",
       "</style>\n",
       "<table border=\"1\" class=\"dataframe\">\n",
       "  <thead>\n",
       "    <tr style=\"text-align: right;\">\n",
       "      <th></th>\n",
       "      <th>TripType</th>\n",
       "      <th>VisitNumber</th>\n",
       "      <th>Weekday</th>\n",
       "      <th>Upc</th>\n",
       "      <th>ScanCount</th>\n",
       "      <th>DepartmentDescription</th>\n",
       "      <th>FinelineNumber</th>\n",
       "      <th>CustType</th>\n",
       "      <th>isWeekend</th>\n",
       "    </tr>\n",
       "  </thead>\n",
       "  <tbody>\n",
       "    <tr>\n",
       "      <th>19949</th>\n",
       "      <td>24</td>\n",
       "      <td>6216</td>\n",
       "      <td>Saturday</td>\n",
       "      <td>63676504858</td>\n",
       "      <td>1</td>\n",
       "      <td>BATH AND SHOWER</td>\n",
       "      <td>9912.0</td>\n",
       "      <td>1</td>\n",
       "      <td>1</td>\n",
       "    </tr>\n",
       "    <tr>\n",
       "      <th>19950</th>\n",
       "      <td>24</td>\n",
       "      <td>6216</td>\n",
       "      <td>Saturday</td>\n",
       "      <td>4316867454</td>\n",
       "      <td>1</td>\n",
       "      <td>HARDWARE</td>\n",
       "      <td>732.0</td>\n",
       "      <td>1</td>\n",
       "      <td>1</td>\n",
       "    </tr>\n",
       "  </tbody>\n",
       "</table>\n",
       "</div>"
      ],
      "text/plain": [
       "       TripType  VisitNumber   Weekday          Upc  ScanCount  \\\n",
       "19949        24         6216  Saturday  63676504858          1   \n",
       "19950        24         6216  Saturday   4316867454          1   \n",
       "\n",
       "      DepartmentDescription  FinelineNumber  CustType  isWeekend  \n",
       "19949       BATH AND SHOWER          9912.0         1          1  \n",
       "19950              HARDWARE           732.0         1          1  "
      ]
     },
     "execution_count": 141,
     "metadata": {},
     "output_type": "execute_result"
    }
   ],
   "source": [
    "Trip_data[Trip_data[\"Weekday\"] == 'Saturday'].head(2)"
   ]
  },
  {
   "cell_type": "code",
   "execution_count": 142,
   "metadata": {},
   "outputs": [
    {
     "data": {
      "text/html": [
       "<div>\n",
       "<style scoped>\n",
       "    .dataframe tbody tr th:only-of-type {\n",
       "        vertical-align: middle;\n",
       "    }\n",
       "\n",
       "    .dataframe tbody tr th {\n",
       "        vertical-align: top;\n",
       "    }\n",
       "\n",
       "    .dataframe thead th {\n",
       "        text-align: right;\n",
       "    }\n",
       "</style>\n",
       "<table border=\"1\" class=\"dataframe\">\n",
       "  <thead>\n",
       "    <tr style=\"text-align: right;\">\n",
       "      <th></th>\n",
       "      <th>TripType</th>\n",
       "      <th>VisitNumber</th>\n",
       "      <th>Weekday</th>\n",
       "      <th>Upc</th>\n",
       "      <th>ScanCount</th>\n",
       "      <th>DepartmentDescription</th>\n",
       "      <th>FinelineNumber</th>\n",
       "      <th>CustType</th>\n",
       "      <th>isWeekend</th>\n",
       "    </tr>\n",
       "  </thead>\n",
       "  <tbody>\n",
       "    <tr>\n",
       "      <th>43565</th>\n",
       "      <td>25</td>\n",
       "      <td>12899</td>\n",
       "      <td>Sunday</td>\n",
       "      <td>4032625698</td>\n",
       "      <td>1</td>\n",
       "      <td>LADIESWEAR</td>\n",
       "      <td>663.0</td>\n",
       "      <td>1</td>\n",
       "      <td>1</td>\n",
       "    </tr>\n",
       "    <tr>\n",
       "      <th>43566</th>\n",
       "      <td>25</td>\n",
       "      <td>12899</td>\n",
       "      <td>Sunday</td>\n",
       "      <td>880614469413</td>\n",
       "      <td>1</td>\n",
       "      <td>LADIESWEAR</td>\n",
       "      <td>324.0</td>\n",
       "      <td>1</td>\n",
       "      <td>1</td>\n",
       "    </tr>\n",
       "  </tbody>\n",
       "</table>\n",
       "</div>"
      ],
      "text/plain": [
       "       TripType  VisitNumber Weekday           Upc  ScanCount  \\\n",
       "43565        25        12899  Sunday    4032625698          1   \n",
       "43566        25        12899  Sunday  880614469413          1   \n",
       "\n",
       "      DepartmentDescription  FinelineNumber  CustType  isWeekend  \n",
       "43565            LADIESWEAR           663.0         1          1  \n",
       "43566            LADIESWEAR           324.0         1          1  "
      ]
     },
     "execution_count": 142,
     "metadata": {},
     "output_type": "execute_result"
    }
   ],
   "source": [
    "Trip_data[Trip_data[\"Weekday\"] == 'Sunday'].head(2)"
   ]
  },
  {
   "cell_type": "code",
   "execution_count": 143,
   "metadata": {},
   "outputs": [
    {
     "data": {
      "text/html": [
       "<div>\n",
       "<style scoped>\n",
       "    .dataframe tbody tr th:only-of-type {\n",
       "        vertical-align: middle;\n",
       "    }\n",
       "\n",
       "    .dataframe tbody tr th {\n",
       "        vertical-align: top;\n",
       "    }\n",
       "\n",
       "    .dataframe thead th {\n",
       "        text-align: right;\n",
       "    }\n",
       "</style>\n",
       "<table border=\"1\" class=\"dataframe\">\n",
       "  <thead>\n",
       "    <tr style=\"text-align: right;\">\n",
       "      <th></th>\n",
       "      <th>TripType</th>\n",
       "      <th>VisitNumber</th>\n",
       "      <th>Weekday</th>\n",
       "      <th>Upc</th>\n",
       "      <th>ScanCount</th>\n",
       "      <th>DepartmentDescription</th>\n",
       "      <th>FinelineNumber</th>\n",
       "      <th>CustType</th>\n",
       "      <th>isWeekend</th>\n",
       "    </tr>\n",
       "  </thead>\n",
       "  <tbody>\n",
       "    <tr>\n",
       "      <th>70659</th>\n",
       "      <td>7</td>\n",
       "      <td>19709</td>\n",
       "      <td>Monday</td>\n",
       "      <td>7874214098</td>\n",
       "      <td>1</td>\n",
       "      <td>GROCERY DRY GOODS</td>\n",
       "      <td>3559.0</td>\n",
       "      <td>1</td>\n",
       "      <td>0</td>\n",
       "    </tr>\n",
       "    <tr>\n",
       "      <th>70660</th>\n",
       "      <td>7</td>\n",
       "      <td>19709</td>\n",
       "      <td>Monday</td>\n",
       "      <td>4119640482</td>\n",
       "      <td>2</td>\n",
       "      <td>GROCERY DRY GOODS</td>\n",
       "      <td>3108.0</td>\n",
       "      <td>1</td>\n",
       "      <td>0</td>\n",
       "    </tr>\n",
       "  </tbody>\n",
       "</table>\n",
       "</div>"
      ],
      "text/plain": [
       "       TripType  VisitNumber Weekday         Upc  ScanCount  \\\n",
       "70659         7        19709  Monday  7874214098          1   \n",
       "70660         7        19709  Monday  4119640482          2   \n",
       "\n",
       "      DepartmentDescription  FinelineNumber  CustType  isWeekend  \n",
       "70659     GROCERY DRY GOODS          3559.0         1          0  \n",
       "70660     GROCERY DRY GOODS          3108.0         1          0  "
      ]
     },
     "execution_count": 143,
     "metadata": {},
     "output_type": "execute_result"
    }
   ],
   "source": [
    "Trip_data[Trip_data[\"Weekday\"] == 'Monday'].head(2)"
   ]
  },
  {
   "cell_type": "markdown",
   "metadata": {},
   "source": [
    "#### Scan Count"
   ]
  },
  {
   "cell_type": "code",
   "execution_count": 144,
   "metadata": {},
   "outputs": [],
   "source": [
    "# We learnt that the negative Scan Counts indicate product return\n",
    "# So, we can create a feature (isReturn) to indicate if it was a return transaction\n",
    "Trip_data['isReturn'] = Trip_data.ScanCount.apply(lambda x: 1 if x < 1 else 0)"
   ]
  },
  {
   "cell_type": "code",
   "execution_count": 145,
   "metadata": {},
   "outputs": [
    {
     "data": {
      "text/html": [
       "<div>\n",
       "<style scoped>\n",
       "    .dataframe tbody tr th:only-of-type {\n",
       "        vertical-align: middle;\n",
       "    }\n",
       "\n",
       "    .dataframe tbody tr th {\n",
       "        vertical-align: top;\n",
       "    }\n",
       "\n",
       "    .dataframe thead th {\n",
       "        text-align: right;\n",
       "    }\n",
       "</style>\n",
       "<table border=\"1\" class=\"dataframe\">\n",
       "  <thead>\n",
       "    <tr style=\"text-align: right;\">\n",
       "      <th></th>\n",
       "      <th>TripType</th>\n",
       "      <th>VisitNumber</th>\n",
       "      <th>Weekday</th>\n",
       "      <th>Upc</th>\n",
       "      <th>ScanCount</th>\n",
       "      <th>DepartmentDescription</th>\n",
       "      <th>FinelineNumber</th>\n",
       "      <th>CustType</th>\n",
       "      <th>isWeekend</th>\n",
       "      <th>isReturn</th>\n",
       "    </tr>\n",
       "  </thead>\n",
       "  <tbody>\n",
       "    <tr>\n",
       "      <th>0</th>\n",
       "      <td>999</td>\n",
       "      <td>5</td>\n",
       "      <td>Friday</td>\n",
       "      <td>68113152929</td>\n",
       "      <td>-1</td>\n",
       "      <td>FINANCIAL SERVICES</td>\n",
       "      <td>1000.0</td>\n",
       "      <td>0</td>\n",
       "      <td>0</td>\n",
       "      <td>1</td>\n",
       "    </tr>\n",
       "    <tr>\n",
       "      <th>9</th>\n",
       "      <td>26</td>\n",
       "      <td>8</td>\n",
       "      <td>Friday</td>\n",
       "      <td>2238400200</td>\n",
       "      <td>-1</td>\n",
       "      <td>PAINT AND ACCESSORIES</td>\n",
       "      <td>3565.0</td>\n",
       "      <td>0</td>\n",
       "      <td>0</td>\n",
       "      <td>1</td>\n",
       "    </tr>\n",
       "  </tbody>\n",
       "</table>\n",
       "</div>"
      ],
      "text/plain": [
       "   TripType  VisitNumber Weekday          Upc  ScanCount  \\\n",
       "0       999            5  Friday  68113152929         -1   \n",
       "9        26            8  Friday   2238400200         -1   \n",
       "\n",
       "   DepartmentDescription  FinelineNumber  CustType  isWeekend  isReturn  \n",
       "0     FINANCIAL SERVICES          1000.0         0          0         1  \n",
       "9  PAINT AND ACCESSORIES          3565.0         0          0         1  "
      ]
     },
     "execution_count": 145,
     "metadata": {},
     "output_type": "execute_result"
    }
   ],
   "source": [
    "Trip_data[Trip_data[\"ScanCount\"] < 1].head(2)"
   ]
  },
  {
   "cell_type": "code",
   "execution_count": 146,
   "metadata": {},
   "outputs": [
    {
     "data": {
      "text/html": [
       "<div>\n",
       "<style scoped>\n",
       "    .dataframe tbody tr th:only-of-type {\n",
       "        vertical-align: middle;\n",
       "    }\n",
       "\n",
       "    .dataframe tbody tr th {\n",
       "        vertical-align: top;\n",
       "    }\n",
       "\n",
       "    .dataframe thead th {\n",
       "        text-align: right;\n",
       "    }\n",
       "</style>\n",
       "<table border=\"1\" class=\"dataframe\">\n",
       "  <thead>\n",
       "    <tr style=\"text-align: right;\">\n",
       "      <th></th>\n",
       "      <th>TripType</th>\n",
       "      <th>VisitNumber</th>\n",
       "      <th>Weekday</th>\n",
       "      <th>Upc</th>\n",
       "      <th>ScanCount</th>\n",
       "      <th>DepartmentDescription</th>\n",
       "      <th>FinelineNumber</th>\n",
       "      <th>CustType</th>\n",
       "      <th>isWeekend</th>\n",
       "      <th>isReturn</th>\n",
       "    </tr>\n",
       "  </thead>\n",
       "  <tbody>\n",
       "    <tr>\n",
       "      <th>1</th>\n",
       "      <td>30</td>\n",
       "      <td>7</td>\n",
       "      <td>Friday</td>\n",
       "      <td>60538815980</td>\n",
       "      <td>1</td>\n",
       "      <td>SHOES</td>\n",
       "      <td>8931.0</td>\n",
       "      <td>0</td>\n",
       "      <td>0</td>\n",
       "      <td>0</td>\n",
       "    </tr>\n",
       "    <tr>\n",
       "      <th>2</th>\n",
       "      <td>30</td>\n",
       "      <td>7</td>\n",
       "      <td>Friday</td>\n",
       "      <td>7410811099</td>\n",
       "      <td>1</td>\n",
       "      <td>PERSONAL CARE</td>\n",
       "      <td>4504.0</td>\n",
       "      <td>0</td>\n",
       "      <td>0</td>\n",
       "      <td>0</td>\n",
       "    </tr>\n",
       "  </tbody>\n",
       "</table>\n",
       "</div>"
      ],
      "text/plain": [
       "   TripType  VisitNumber Weekday          Upc  ScanCount  \\\n",
       "1        30            7  Friday  60538815980          1   \n",
       "2        30            7  Friday   7410811099          1   \n",
       "\n",
       "  DepartmentDescription  FinelineNumber  CustType  isWeekend  isReturn  \n",
       "1                 SHOES          8931.0         0          0         0  \n",
       "2         PERSONAL CARE          4504.0         0          0         0  "
      ]
     },
     "execution_count": 146,
     "metadata": {},
     "output_type": "execute_result"
    }
   ],
   "source": [
    "Trip_data[Trip_data[\"ScanCount\"] >= 1].head(2)"
   ]
  },
  {
   "cell_type": "code",
   "execution_count": 147,
   "metadata": {},
   "outputs": [],
   "source": [
    "# We have now created a new feature 'isReturn' to mark the transactions that were for return of products"
   ]
  },
  {
   "cell_type": "code",
   "execution_count": 148,
   "metadata": {},
   "outputs": [],
   "source": [
    "# We also see that there are customers who went to buy a lot of products (having higher scan counts)\n",
    "# There could be proper planning by the customers to go for bulk shopping. \n",
    "# So, it might help if we introduce a bulkBuy feature to capture this information"
   ]
  },
  {
   "cell_type": "code",
   "execution_count": 149,
   "metadata": {},
   "outputs": [
    {
     "data": {
      "text/plain": [
       " 1     553701\n",
       " 2      52771\n",
       "-1      13920\n",
       " 3       9406\n",
       " 4       4525\n",
       " 5       1377\n",
       " 6        864\n",
       "-2        791\n",
       " 8        246\n",
       " 7        228\n",
       "-3        136\n",
       " 10       130\n",
       " 9         88\n",
       "-4         73\n",
       " 12        60\n",
       " 11        45\n",
       "-5         16\n",
       " 14        15\n",
       " 13        13\n",
       " 15        12\n",
       "-6          9\n",
       " 20         7\n",
       " 16         6\n",
       " 18         4\n",
       " 24         4\n",
       " 19         4\n",
       " 25         3\n",
       " 17         3\n",
       " 23         3\n",
       " 22         2\n",
       "-9          2\n",
       " 30         1\n",
       " 46         1\n",
       " 51         1\n",
       " 71         1\n",
       "-12         1\n",
       "-10         1\n",
       "-7          1\n",
       " 31         1\n",
       "Name: ScanCount, dtype: int64"
      ]
     },
     "execution_count": 149,
     "metadata": {},
     "output_type": "execute_result"
    }
   ],
   "source": [
    "Trip_data[\"ScanCount\"].value_counts()"
   ]
  },
  {
   "cell_type": "code",
   "execution_count": 150,
   "metadata": {},
   "outputs": [],
   "source": [
    "# Here we can also create another feature (bulkBuy) if the scan count is more than 4\n",
    "Trip_data['bulkBuy'] = Trip_data.ScanCount.apply(lambda x: 1 if x >= 5 else 0)"
   ]
  },
  {
   "cell_type": "code",
   "execution_count": 151,
   "metadata": {},
   "outputs": [
    {
     "data": {
      "text/html": [
       "<div>\n",
       "<style scoped>\n",
       "    .dataframe tbody tr th:only-of-type {\n",
       "        vertical-align: middle;\n",
       "    }\n",
       "\n",
       "    .dataframe tbody tr th {\n",
       "        vertical-align: top;\n",
       "    }\n",
       "\n",
       "    .dataframe thead th {\n",
       "        text-align: right;\n",
       "    }\n",
       "</style>\n",
       "<table border=\"1\" class=\"dataframe\">\n",
       "  <thead>\n",
       "    <tr style=\"text-align: right;\">\n",
       "      <th></th>\n",
       "      <th>TripType</th>\n",
       "      <th>VisitNumber</th>\n",
       "      <th>Weekday</th>\n",
       "      <th>Upc</th>\n",
       "      <th>ScanCount</th>\n",
       "      <th>DepartmentDescription</th>\n",
       "      <th>FinelineNumber</th>\n",
       "      <th>CustType</th>\n",
       "      <th>isWeekend</th>\n",
       "      <th>isReturn</th>\n",
       "      <th>bulkBuy</th>\n",
       "    </tr>\n",
       "  </thead>\n",
       "  <tbody>\n",
       "    <tr>\n",
       "      <th>121</th>\n",
       "      <td>15</td>\n",
       "      <td>55</td>\n",
       "      <td>Friday</td>\n",
       "      <td>87458603507</td>\n",
       "      <td>5</td>\n",
       "      <td>IMPULSE MERCHANDISE</td>\n",
       "      <td>8023.0</td>\n",
       "      <td>0</td>\n",
       "      <td>0</td>\n",
       "      <td>0</td>\n",
       "      <td>1</td>\n",
       "    </tr>\n",
       "    <tr>\n",
       "      <th>132</th>\n",
       "      <td>26</td>\n",
       "      <td>61</td>\n",
       "      <td>Friday</td>\n",
       "      <td>7535309226</td>\n",
       "      <td>5</td>\n",
       "      <td>HARDWARE</td>\n",
       "      <td>5525.0</td>\n",
       "      <td>0</td>\n",
       "      <td>0</td>\n",
       "      <td>0</td>\n",
       "      <td>1</td>\n",
       "    </tr>\n",
       "  </tbody>\n",
       "</table>\n",
       "</div>"
      ],
      "text/plain": [
       "     TripType  VisitNumber Weekday          Upc  ScanCount  \\\n",
       "121        15           55  Friday  87458603507          5   \n",
       "132        26           61  Friday   7535309226          5   \n",
       "\n",
       "    DepartmentDescription  FinelineNumber  CustType  isWeekend  isReturn  \\\n",
       "121   IMPULSE MERCHANDISE          8023.0         0          0         0   \n",
       "132              HARDWARE          5525.0         0          0         0   \n",
       "\n",
       "     bulkBuy  \n",
       "121        1  \n",
       "132        1  "
      ]
     },
     "execution_count": 151,
     "metadata": {},
     "output_type": "execute_result"
    }
   ],
   "source": [
    "Trip_data[Trip_data[\"ScanCount\"] >= 5].head(2)"
   ]
  },
  {
   "cell_type": "code",
   "execution_count": 152,
   "metadata": {},
   "outputs": [
    {
     "data": {
      "text/html": [
       "<div>\n",
       "<style scoped>\n",
       "    .dataframe tbody tr th:only-of-type {\n",
       "        vertical-align: middle;\n",
       "    }\n",
       "\n",
       "    .dataframe tbody tr th {\n",
       "        vertical-align: top;\n",
       "    }\n",
       "\n",
       "    .dataframe thead th {\n",
       "        text-align: right;\n",
       "    }\n",
       "</style>\n",
       "<table border=\"1\" class=\"dataframe\">\n",
       "  <thead>\n",
       "    <tr style=\"text-align: right;\">\n",
       "      <th></th>\n",
       "      <th>TripType</th>\n",
       "      <th>VisitNumber</th>\n",
       "      <th>Weekday</th>\n",
       "      <th>Upc</th>\n",
       "      <th>ScanCount</th>\n",
       "      <th>DepartmentDescription</th>\n",
       "      <th>FinelineNumber</th>\n",
       "      <th>CustType</th>\n",
       "      <th>isWeekend</th>\n",
       "      <th>isReturn</th>\n",
       "      <th>bulkBuy</th>\n",
       "    </tr>\n",
       "  </thead>\n",
       "  <tbody>\n",
       "    <tr>\n",
       "      <th>0</th>\n",
       "      <td>999</td>\n",
       "      <td>5</td>\n",
       "      <td>Friday</td>\n",
       "      <td>68113152929</td>\n",
       "      <td>-1</td>\n",
       "      <td>FINANCIAL SERVICES</td>\n",
       "      <td>1000.0</td>\n",
       "      <td>0</td>\n",
       "      <td>0</td>\n",
       "      <td>1</td>\n",
       "      <td>0</td>\n",
       "    </tr>\n",
       "    <tr>\n",
       "      <th>1</th>\n",
       "      <td>30</td>\n",
       "      <td>7</td>\n",
       "      <td>Friday</td>\n",
       "      <td>60538815980</td>\n",
       "      <td>1</td>\n",
       "      <td>SHOES</td>\n",
       "      <td>8931.0</td>\n",
       "      <td>0</td>\n",
       "      <td>0</td>\n",
       "      <td>0</td>\n",
       "      <td>0</td>\n",
       "    </tr>\n",
       "    <tr>\n",
       "      <th>2</th>\n",
       "      <td>30</td>\n",
       "      <td>7</td>\n",
       "      <td>Friday</td>\n",
       "      <td>7410811099</td>\n",
       "      <td>1</td>\n",
       "      <td>PERSONAL CARE</td>\n",
       "      <td>4504.0</td>\n",
       "      <td>0</td>\n",
       "      <td>0</td>\n",
       "      <td>0</td>\n",
       "      <td>0</td>\n",
       "    </tr>\n",
       "  </tbody>\n",
       "</table>\n",
       "</div>"
      ],
      "text/plain": [
       "   TripType  VisitNumber Weekday          Upc  ScanCount  \\\n",
       "0       999            5  Friday  68113152929         -1   \n",
       "1        30            7  Friday  60538815980          1   \n",
       "2        30            7  Friday   7410811099          1   \n",
       "\n",
       "  DepartmentDescription  FinelineNumber  CustType  isWeekend  isReturn  \\\n",
       "0    FINANCIAL SERVICES          1000.0         0          0         1   \n",
       "1                 SHOES          8931.0         0          0         0   \n",
       "2         PERSONAL CARE          4504.0         0          0         0   \n",
       "\n",
       "   bulkBuy  \n",
       "0        0  \n",
       "1        0  \n",
       "2        0  "
      ]
     },
     "execution_count": 152,
     "metadata": {},
     "output_type": "execute_result"
    }
   ],
   "source": [
    "Trip_data[Trip_data[\"ScanCount\"] <= 4].head(3)"
   ]
  },
  {
   "cell_type": "code",
   "execution_count": 153,
   "metadata": {},
   "outputs": [],
   "source": [
    "# Considering the distribution of this feature, we see a lot of labels with extremely low records.\n",
    "# This is again another problem when it comes to model performance\n",
    "# We will see in Round-2/3 of feature engineering if we need to club them into one category"
   ]
  },
  {
   "cell_type": "markdown",
   "metadata": {},
   "source": [
    "#### Department Description"
   ]
  },
  {
   "cell_type": "code",
   "execution_count": 154,
   "metadata": {},
   "outputs": [],
   "source": [
    "# We learnt that there are 68 Department Descriptions. \n",
    "# This when dummified, ends up creating 67 dummified columns which is very sparse"
   ]
  },
  {
   "cell_type": "code",
   "execution_count": 155,
   "metadata": {},
   "outputs": [
    {
     "data": {
      "text/plain": [
       "PAINT AND ACCESSORIES      1698\n",
       "ACCESSORIES                1294\n",
       "BOOKS AND MAGAZINES         990\n",
       "SWIMWEAR/OUTERWEAR          859\n",
       "LADIES SOCKS                771\n",
       "PLAYERS AND ELECTRONICS     683\n",
       "PLUS AND MATERNITY          583\n",
       "OPTICAL - FRAMES            573\n",
       "FURNITURE                   467\n",
       "SHEER HOSIERY               430\n",
       "1-HR PHOTO                  387\n",
       "MENSWEAR                    327\n",
       "CAMERAS AND SUPPLIES        221\n",
       "PHARMACY RX                 151\n",
       "OPTICAL - LENSES             85\n",
       "LARGE HOUSEHOLD GOODS        77\n",
       "CONCEPT STORES               35\n",
       "SEASONAL                     29\n",
       "OTHER DEPARTMENTS            29\n",
       "HEALTH AND BEAUTY AIDS        2\n",
       "Name: DepartmentDescription, dtype: int64"
      ]
     },
     "execution_count": 155,
     "metadata": {},
     "output_type": "execute_result"
    }
   ],
   "source": [
    "# Let us find the departments with minimal frequencies of transactions\n",
    "Trip_data[\"DepartmentDescription\"].value_counts().tail(20)"
   ]
  },
  {
   "cell_type": "code",
   "execution_count": 156,
   "metadata": {},
   "outputs": [],
   "source": [
    "# Notice that there are a few departments with very few records associated with them.\n",
    "# This is definitely not good for the model. "
   ]
  },
  {
   "cell_type": "code",
   "execution_count": 157,
   "metadata": {},
   "outputs": [],
   "source": [
    "# Notice that we have 'OPTICAL - LENSES' and 'OPTICAL - FRAMES' as two categories\n",
    "# Considering the trip Type classification, if we merge these two labels, it might help"
   ]
  },
  {
   "cell_type": "code",
   "execution_count": 158,
   "metadata": {},
   "outputs": [],
   "source": [
    "Trip_data['DepartmentDescription'].replace('OPTICAL - LENSES', 'OPTICALS', inplace=True)\n",
    "Trip_data['DepartmentDescription'].replace('OPTICAL - FRAMES', 'OPTICALS', inplace=True)"
   ]
  },
  {
   "cell_type": "code",
   "execution_count": 159,
   "metadata": {},
   "outputs": [
    {
     "data": {
      "text/plain": [
       "array([['FINANCIAL SERVICES'],\n",
       "       ['SHOES'],\n",
       "       ['PERSONAL CARE'],\n",
       "       ['PAINT AND ACCESSORIES'],\n",
       "       ['DSD GROCERY'],\n",
       "       ['MEAT - FRESH & FROZEN'],\n",
       "       ['DAIRY'],\n",
       "       ['PETS AND SUPPLIES'],\n",
       "       ['HOUSEHOLD CHEMICALS/SUPP'],\n",
       "       ['IMPULSE MERCHANDISE'],\n",
       "       ['PRODUCE'],\n",
       "       ['CANDY, TOBACCO, COOKIES'],\n",
       "       ['GROCERY DRY GOODS'],\n",
       "       ['BOYS WEAR'],\n",
       "       ['FABRICS AND CRAFTS'],\n",
       "       ['JEWELRY AND SUNGLASSES'],\n",
       "       ['MENS WEAR'],\n",
       "       ['ACCESSORIES'],\n",
       "       ['HOME MANAGEMENT'],\n",
       "       ['FROZEN FOODS'],\n",
       "       ['SERVICE DELI'],\n",
       "       ['INFANT CONSUMABLE HARDLINES'],\n",
       "       ['PRE PACKED DELI'],\n",
       "       ['COOK AND DINE'],\n",
       "       ['PHARMACY OTC'],\n",
       "       ['LADIESWEAR'],\n",
       "       ['COMM BREAD'],\n",
       "       ['BAKERY'],\n",
       "       ['HOUSEHOLD PAPER GOODS'],\n",
       "       ['CELEBRATION'],\n",
       "       ['HARDWARE'],\n",
       "       ['BEAUTY'],\n",
       "       ['AUTOMOTIVE'],\n",
       "       ['BOOKS AND MAGAZINES'],\n",
       "       ['SEAFOOD'],\n",
       "       ['OFFICE SUPPLIES'],\n",
       "       ['LAWN AND GARDEN'],\n",
       "       ['SHEER HOSIERY'],\n",
       "       ['WIRELESS'],\n",
       "       ['BEDDING'],\n",
       "       ['BATH AND SHOWER'],\n",
       "       ['HORTICULTURE AND ACCESS'],\n",
       "       ['HOME DECOR'],\n",
       "       ['TOYS'],\n",
       "       ['INFANT APPAREL'],\n",
       "       ['LADIES SOCKS'],\n",
       "       ['PLUS AND MATERNITY'],\n",
       "       ['ELECTRONICS'],\n",
       "       ['GIRLS WEAR, 4-6X  AND 7-14'],\n",
       "       ['BRAS & SHAPEWEAR'],\n",
       "       ['LIQUOR,WINE,BEER'],\n",
       "       ['SLEEPWEAR/FOUNDATIONS'],\n",
       "       ['CAMERAS AND SUPPLIES'],\n",
       "       ['SPORTING GOODS'],\n",
       "       ['PLAYERS AND ELECTRONICS'],\n",
       "       ['PHARMACY RX'],\n",
       "       ['MENSWEAR'],\n",
       "       ['OPTICALS'],\n",
       "       ['SWIMWEAR/OUTERWEAR'],\n",
       "       ['OTHER DEPARTMENTS'],\n",
       "       ['MEDIA AND GAMING'],\n",
       "       ['FURNITURE'],\n",
       "       ['SEASONAL'],\n",
       "       ['LARGE HOUSEHOLD GOODS'],\n",
       "       ['1-HR PHOTO'],\n",
       "       ['CONCEPT STORES'],\n",
       "       ['HEALTH AND BEAUTY AIDS']], dtype=object)"
      ]
     },
     "execution_count": 159,
     "metadata": {},
     "output_type": "execute_result"
    }
   ],
   "source": [
    "# Let us take a look at all Departments to see if there are further scopes of merging\n",
    "Trip_data[\"DepartmentDescription\"].unique()[:, None]"
   ]
  },
  {
   "cell_type": "code",
   "execution_count": 160,
   "metadata": {},
   "outputs": [],
   "source": [
    "# Notice that we have 'MENS WEAR' and 'MENSWEAR' as two categories. Let us merge them\n",
    "Trip_data['DepartmentDescription'].replace('MENS WEAR', 'MENSWEAR', inplace=True)"
   ]
  },
  {
   "cell_type": "code",
   "execution_count": 161,
   "metadata": {},
   "outputs": [],
   "source": [
    "# There are many other departments that I see scope in merging, but will park that till Feature Engineering Round 2/3"
   ]
  },
  {
   "cell_type": "code",
   "execution_count": 162,
   "metadata": {},
   "outputs": [],
   "source": [
    "# Let us create a list of less frequent departments so we can merge them all into 'OTHER DEPARTMENTS' category\n",
    "less_freq_dept = ['LARGE HOUSEHOLD GOODS', 'CONCEPT STORES', 'SEASONAL', 'HEALTH AND BEAUTY AIDS']\n",
    "for dep in less_freq_dept:\n",
    "    Trip_data['DepartmentDescription'].replace(dep, 'OTHER DEPARTMENTS', inplace=True)"
   ]
  },
  {
   "cell_type": "code",
   "execution_count": 163,
   "metadata": {},
   "outputs": [
    {
     "data": {
      "text/plain": [
       "SLEEPWEAR/FOUNDATIONS      2352\n",
       "BEDDING                    2243\n",
       "BRAS & SHAPEWEAR           2018\n",
       "MEDIA AND GAMING           1986\n",
       "SEAFOOD                    1913\n",
       "WIRELESS                   1889\n",
       "PAINT AND ACCESSORIES      1698\n",
       "ACCESSORIES                1294\n",
       "BOOKS AND MAGAZINES         990\n",
       "SWIMWEAR/OUTERWEAR          859\n",
       "LADIES SOCKS                771\n",
       "PLAYERS AND ELECTRONICS     683\n",
       "OPTICALS                    658\n",
       "PLUS AND MATERNITY          583\n",
       "FURNITURE                   467\n",
       "SHEER HOSIERY               430\n",
       "1-HR PHOTO                  387\n",
       "CAMERAS AND SUPPLIES        221\n",
       "OTHER DEPARTMENTS           172\n",
       "PHARMACY RX                 151\n",
       "Name: DepartmentDescription, dtype: int64"
      ]
     },
     "execution_count": 163,
     "metadata": {},
     "output_type": "execute_result"
    }
   ],
   "source": [
    "# Sanity check to see of less_freq_dept are now merged with 'OTHER DEPARTMENTS'\n",
    "Trip_data[\"DepartmentDescription\"].value_counts().tail(20)"
   ]
  },
  {
   "cell_type": "markdown",
   "metadata": {},
   "source": [
    "#### Encoding and Dummifying"
   ]
  },
  {
   "cell_type": "code",
   "execution_count": 164,
   "metadata": {},
   "outputs": [],
   "source": [
    "# Dummifying the Weekday we already tried, let us try encoding them now\n",
    "Trip_data['Weekday'] = Trip_data['Weekday'].map({\"Monday\": 1, \"Tuesday\": 2, \"Wednesday\": 3, \"Thursday\": 4, \"Friday\": 5,\n",
    "\"Saturday\": 6, \"Sunday\": 7})"
   ]
  },
  {
   "cell_type": "code",
   "execution_count": 165,
   "metadata": {},
   "outputs": [
    {
     "data": {
      "text/html": [
       "<div>\n",
       "<style scoped>\n",
       "    .dataframe tbody tr th:only-of-type {\n",
       "        vertical-align: middle;\n",
       "    }\n",
       "\n",
       "    .dataframe tbody tr th {\n",
       "        vertical-align: top;\n",
       "    }\n",
       "\n",
       "    .dataframe thead th {\n",
       "        text-align: right;\n",
       "    }\n",
       "</style>\n",
       "<table border=\"1\" class=\"dataframe\">\n",
       "  <thead>\n",
       "    <tr style=\"text-align: right;\">\n",
       "      <th></th>\n",
       "      <th>TripType</th>\n",
       "      <th>VisitNumber</th>\n",
       "      <th>Weekday</th>\n",
       "      <th>Upc</th>\n",
       "      <th>ScanCount</th>\n",
       "      <th>DepartmentDescription</th>\n",
       "      <th>FinelineNumber</th>\n",
       "      <th>CustType</th>\n",
       "      <th>isWeekend</th>\n",
       "      <th>isReturn</th>\n",
       "      <th>bulkBuy</th>\n",
       "    </tr>\n",
       "  </thead>\n",
       "  <tbody>\n",
       "    <tr>\n",
       "      <th>0</th>\n",
       "      <td>999</td>\n",
       "      <td>5</td>\n",
       "      <td>5</td>\n",
       "      <td>68113152929</td>\n",
       "      <td>-1</td>\n",
       "      <td>FINANCIAL SERVICES</td>\n",
       "      <td>1000.0</td>\n",
       "      <td>0</td>\n",
       "      <td>0</td>\n",
       "      <td>1</td>\n",
       "      <td>0</td>\n",
       "    </tr>\n",
       "    <tr>\n",
       "      <th>1</th>\n",
       "      <td>30</td>\n",
       "      <td>7</td>\n",
       "      <td>5</td>\n",
       "      <td>60538815980</td>\n",
       "      <td>1</td>\n",
       "      <td>SHOES</td>\n",
       "      <td>8931.0</td>\n",
       "      <td>0</td>\n",
       "      <td>0</td>\n",
       "      <td>0</td>\n",
       "      <td>0</td>\n",
       "    </tr>\n",
       "    <tr>\n",
       "      <th>2</th>\n",
       "      <td>30</td>\n",
       "      <td>7</td>\n",
       "      <td>5</td>\n",
       "      <td>7410811099</td>\n",
       "      <td>1</td>\n",
       "      <td>PERSONAL CARE</td>\n",
       "      <td>4504.0</td>\n",
       "      <td>0</td>\n",
       "      <td>0</td>\n",
       "      <td>0</td>\n",
       "      <td>0</td>\n",
       "    </tr>\n",
       "    <tr>\n",
       "      <th>3</th>\n",
       "      <td>26</td>\n",
       "      <td>8</td>\n",
       "      <td>5</td>\n",
       "      <td>2238403510</td>\n",
       "      <td>2</td>\n",
       "      <td>PAINT AND ACCESSORIES</td>\n",
       "      <td>3565.0</td>\n",
       "      <td>0</td>\n",
       "      <td>0</td>\n",
       "      <td>0</td>\n",
       "      <td>0</td>\n",
       "    </tr>\n",
       "    <tr>\n",
       "      <th>4</th>\n",
       "      <td>26</td>\n",
       "      <td>8</td>\n",
       "      <td>5</td>\n",
       "      <td>2006613744</td>\n",
       "      <td>2</td>\n",
       "      <td>PAINT AND ACCESSORIES</td>\n",
       "      <td>1017.0</td>\n",
       "      <td>0</td>\n",
       "      <td>0</td>\n",
       "      <td>0</td>\n",
       "      <td>0</td>\n",
       "    </tr>\n",
       "  </tbody>\n",
       "</table>\n",
       "</div>"
      ],
      "text/plain": [
       "   TripType  VisitNumber  Weekday          Upc  ScanCount  \\\n",
       "0       999            5        5  68113152929         -1   \n",
       "1        30            7        5  60538815980          1   \n",
       "2        30            7        5   7410811099          1   \n",
       "3        26            8        5   2238403510          2   \n",
       "4        26            8        5   2006613744          2   \n",
       "\n",
       "   DepartmentDescription  FinelineNumber  CustType  isWeekend  isReturn  \\\n",
       "0     FINANCIAL SERVICES          1000.0         0          0         1   \n",
       "1                  SHOES          8931.0         0          0         0   \n",
       "2          PERSONAL CARE          4504.0         0          0         0   \n",
       "3  PAINT AND ACCESSORIES          3565.0         0          0         0   \n",
       "4  PAINT AND ACCESSORIES          1017.0         0          0         0   \n",
       "\n",
       "   bulkBuy  \n",
       "0        0  \n",
       "1        0  \n",
       "2        0  \n",
       "3        0  \n",
       "4        0  "
      ]
     },
     "execution_count": 165,
     "metadata": {},
     "output_type": "execute_result"
    }
   ],
   "source": [
    "Trip_data.head()"
   ]
  },
  {
   "cell_type": "code",
   "execution_count": 166,
   "metadata": {},
   "outputs": [],
   "source": [
    "# There no better way but to dummify DepartmentDescription\n",
    "Trip_data_dmy_v1 = pd.get_dummies(Trip_data, columns =['DepartmentDescription'], drop_first=True)"
   ]
  },
  {
   "cell_type": "code",
   "execution_count": 167,
   "metadata": {},
   "outputs": [
    {
     "data": {
      "text/html": [
       "<div>\n",
       "<style scoped>\n",
       "    .dataframe tbody tr th:only-of-type {\n",
       "        vertical-align: middle;\n",
       "    }\n",
       "\n",
       "    .dataframe tbody tr th {\n",
       "        vertical-align: top;\n",
       "    }\n",
       "\n",
       "    .dataframe thead th {\n",
       "        text-align: right;\n",
       "    }\n",
       "</style>\n",
       "<table border=\"1\" class=\"dataframe\">\n",
       "  <thead>\n",
       "    <tr style=\"text-align: right;\">\n",
       "      <th></th>\n",
       "      <th>TripType</th>\n",
       "      <th>VisitNumber</th>\n",
       "      <th>Weekday</th>\n",
       "      <th>Upc</th>\n",
       "      <th>ScanCount</th>\n",
       "      <th>FinelineNumber</th>\n",
       "      <th>CustType</th>\n",
       "      <th>isWeekend</th>\n",
       "      <th>isReturn</th>\n",
       "      <th>bulkBuy</th>\n",
       "      <th>...</th>\n",
       "      <th>DepartmentDescription_PRODUCE</th>\n",
       "      <th>DepartmentDescription_SEAFOOD</th>\n",
       "      <th>DepartmentDescription_SERVICE DELI</th>\n",
       "      <th>DepartmentDescription_SHEER HOSIERY</th>\n",
       "      <th>DepartmentDescription_SHOES</th>\n",
       "      <th>DepartmentDescription_SLEEPWEAR/FOUNDATIONS</th>\n",
       "      <th>DepartmentDescription_SPORTING GOODS</th>\n",
       "      <th>DepartmentDescription_SWIMWEAR/OUTERWEAR</th>\n",
       "      <th>DepartmentDescription_TOYS</th>\n",
       "      <th>DepartmentDescription_WIRELESS</th>\n",
       "    </tr>\n",
       "  </thead>\n",
       "  <tbody>\n",
       "    <tr>\n",
       "      <th>0</th>\n",
       "      <td>999</td>\n",
       "      <td>5</td>\n",
       "      <td>5</td>\n",
       "      <td>68113152929</td>\n",
       "      <td>-1</td>\n",
       "      <td>1000.0</td>\n",
       "      <td>0</td>\n",
       "      <td>0</td>\n",
       "      <td>1</td>\n",
       "      <td>0</td>\n",
       "      <td>...</td>\n",
       "      <td>0</td>\n",
       "      <td>0</td>\n",
       "      <td>0</td>\n",
       "      <td>0</td>\n",
       "      <td>0</td>\n",
       "      <td>0</td>\n",
       "      <td>0</td>\n",
       "      <td>0</td>\n",
       "      <td>0</td>\n",
       "      <td>0</td>\n",
       "    </tr>\n",
       "    <tr>\n",
       "      <th>1</th>\n",
       "      <td>30</td>\n",
       "      <td>7</td>\n",
       "      <td>5</td>\n",
       "      <td>60538815980</td>\n",
       "      <td>1</td>\n",
       "      <td>8931.0</td>\n",
       "      <td>0</td>\n",
       "      <td>0</td>\n",
       "      <td>0</td>\n",
       "      <td>0</td>\n",
       "      <td>...</td>\n",
       "      <td>0</td>\n",
       "      <td>0</td>\n",
       "      <td>0</td>\n",
       "      <td>0</td>\n",
       "      <td>1</td>\n",
       "      <td>0</td>\n",
       "      <td>0</td>\n",
       "      <td>0</td>\n",
       "      <td>0</td>\n",
       "      <td>0</td>\n",
       "    </tr>\n",
       "    <tr>\n",
       "      <th>2</th>\n",
       "      <td>30</td>\n",
       "      <td>7</td>\n",
       "      <td>5</td>\n",
       "      <td>7410811099</td>\n",
       "      <td>1</td>\n",
       "      <td>4504.0</td>\n",
       "      <td>0</td>\n",
       "      <td>0</td>\n",
       "      <td>0</td>\n",
       "      <td>0</td>\n",
       "      <td>...</td>\n",
       "      <td>0</td>\n",
       "      <td>0</td>\n",
       "      <td>0</td>\n",
       "      <td>0</td>\n",
       "      <td>0</td>\n",
       "      <td>0</td>\n",
       "      <td>0</td>\n",
       "      <td>0</td>\n",
       "      <td>0</td>\n",
       "      <td>0</td>\n",
       "    </tr>\n",
       "  </tbody>\n",
       "</table>\n",
       "<p>3 rows × 71 columns</p>\n",
       "</div>"
      ],
      "text/plain": [
       "   TripType  VisitNumber  Weekday          Upc  ScanCount  FinelineNumber  \\\n",
       "0       999            5        5  68113152929         -1          1000.0   \n",
       "1        30            7        5  60538815980          1          8931.0   \n",
       "2        30            7        5   7410811099          1          4504.0   \n",
       "\n",
       "   CustType  isWeekend  isReturn  bulkBuy  ...  DepartmentDescription_PRODUCE  \\\n",
       "0         0          0         1        0  ...                              0   \n",
       "1         0          0         0        0  ...                              0   \n",
       "2         0          0         0        0  ...                              0   \n",
       "\n",
       "   DepartmentDescription_SEAFOOD  DepartmentDescription_SERVICE DELI  \\\n",
       "0                              0                                   0   \n",
       "1                              0                                   0   \n",
       "2                              0                                   0   \n",
       "\n",
       "   DepartmentDescription_SHEER HOSIERY  DepartmentDescription_SHOES  \\\n",
       "0                                    0                            0   \n",
       "1                                    0                            1   \n",
       "2                                    0                            0   \n",
       "\n",
       "   DepartmentDescription_SLEEPWEAR/FOUNDATIONS  \\\n",
       "0                                            0   \n",
       "1                                            0   \n",
       "2                                            0   \n",
       "\n",
       "   DepartmentDescription_SPORTING GOODS  \\\n",
       "0                                     0   \n",
       "1                                     0   \n",
       "2                                     0   \n",
       "\n",
       "   DepartmentDescription_SWIMWEAR/OUTERWEAR  DepartmentDescription_TOYS  \\\n",
       "0                                         0                           0   \n",
       "1                                         0                           0   \n",
       "2                                         0                           0   \n",
       "\n",
       "   DepartmentDescription_WIRELESS  \n",
       "0                               0  \n",
       "1                               0  \n",
       "2                               0  \n",
       "\n",
       "[3 rows x 71 columns]"
      ]
     },
     "execution_count": 167,
     "metadata": {},
     "output_type": "execute_result"
    }
   ],
   "source": [
    "Trip_data_dmy_v1.head(3)"
   ]
  },
  {
   "cell_type": "markdown",
   "metadata": {},
   "source": [
    "## Model Building: Round-1"
   ]
  },
  {
   "cell_type": "code",
   "execution_count": 168,
   "metadata": {},
   "outputs": [],
   "source": [
    "X = Trip_data_dmy_v1.iloc[:,1:]\n",
    "y = Trip_data_dmy_v1.iloc[:,0]\n",
    "X_train, X_test, y_train, y_test = train_test_split(X, y, random_state=123)"
   ]
  },
  {
   "cell_type": "code",
   "execution_count": 169,
   "metadata": {},
   "outputs": [
    {
     "data": {
      "text/plain": [
       "RandomForestClassifier(bootstrap=True, class_weight=None, criterion='gini',\n",
       "            max_depth=40, max_features='auto', max_leaf_nodes=None,\n",
       "            min_impurity_decrease=0.0, min_impurity_split=None,\n",
       "            min_samples_leaf=1, min_samples_split=2,\n",
       "            min_weight_fraction_leaf=0.0, n_estimators=50, n_jobs=None,\n",
       "            oob_score=False, random_state=None, verbose=0,\n",
       "            warm_start=False)"
      ]
     },
     "execution_count": 169,
     "metadata": {},
     "output_type": "execute_result"
    }
   ],
   "source": [
    "forest_model_40 = RandomForestClassifier(criterion = \"gini\", max_depth=40, n_estimators=50)\n",
    "forest_model_40.fit(X_train, y_train)"
   ]
  },
  {
   "cell_type": "code",
   "execution_count": 170,
   "metadata": {},
   "outputs": [
    {
     "name": "stdout",
     "output_type": "stream",
     "text": [
      "Random Forest Model with depth 40 -  Accuracy on training data:       0.9485438150250389\n"
     ]
    }
   ],
   "source": [
    "# Print Random Forest Model Accuracy on training data:\n",
    "print(f'Random Forest Model with depth 40 -  Accuracy on training data: \\\n",
    "      {forest_model_40.score(X_train, y_train)}')"
   ]
  },
  {
   "cell_type": "code",
   "execution_count": 171,
   "metadata": {},
   "outputs": [
    {
     "name": "stdout",
     "output_type": "stream",
     "text": [
      "Random Forest Model with depth 40 -  Accuracy on testing data:       0.35777919783483064\n"
     ]
    }
   ],
   "source": [
    "# Print Random Forest Model Accuracy on testing data:\n",
    "print(f'Random Forest Model with depth 40 -  Accuracy on testing data: \\\n",
    "      {forest_model_40.score(X_test, y_test)}')"
   ]
  },
  {
   "cell_type": "code",
   "execution_count": 172,
   "metadata": {},
   "outputs": [],
   "source": [
    "# Notice that random forest accuracy has improved after feature engineering, but not significantly"
   ]
  },
  {
   "cell_type": "code",
   "execution_count": 173,
   "metadata": {},
   "outputs": [],
   "source": [
    "# This indicates we need to do more feature engineering"
   ]
  },
  {
   "cell_type": "markdown",
   "metadata": {},
   "source": [
    "## Feature Engineering: Round-2"
   ]
  },
  {
   "cell_type": "code",
   "execution_count": 174,
   "metadata": {},
   "outputs": [
    {
     "data": {
      "text/html": [
       "<div>\n",
       "<style scoped>\n",
       "    .dataframe tbody tr th:only-of-type {\n",
       "        vertical-align: middle;\n",
       "    }\n",
       "\n",
       "    .dataframe tbody tr th {\n",
       "        vertical-align: top;\n",
       "    }\n",
       "\n",
       "    .dataframe thead th {\n",
       "        text-align: right;\n",
       "    }\n",
       "</style>\n",
       "<table border=\"1\" class=\"dataframe\">\n",
       "  <thead>\n",
       "    <tr style=\"text-align: right;\">\n",
       "      <th></th>\n",
       "      <th>TripType</th>\n",
       "      <th>VisitNumber</th>\n",
       "      <th>Weekday</th>\n",
       "      <th>Upc</th>\n",
       "      <th>ScanCount</th>\n",
       "      <th>DepartmentDescription</th>\n",
       "      <th>FinelineNumber</th>\n",
       "      <th>CustType</th>\n",
       "      <th>isWeekend</th>\n",
       "      <th>isReturn</th>\n",
       "      <th>bulkBuy</th>\n",
       "    </tr>\n",
       "  </thead>\n",
       "  <tbody>\n",
       "    <tr>\n",
       "      <th>0</th>\n",
       "      <td>999</td>\n",
       "      <td>5</td>\n",
       "      <td>5</td>\n",
       "      <td>68113152929</td>\n",
       "      <td>-1</td>\n",
       "      <td>FINANCIAL SERVICES</td>\n",
       "      <td>1000.0</td>\n",
       "      <td>0</td>\n",
       "      <td>0</td>\n",
       "      <td>1</td>\n",
       "      <td>0</td>\n",
       "    </tr>\n",
       "    <tr>\n",
       "      <th>1</th>\n",
       "      <td>30</td>\n",
       "      <td>7</td>\n",
       "      <td>5</td>\n",
       "      <td>60538815980</td>\n",
       "      <td>1</td>\n",
       "      <td>SHOES</td>\n",
       "      <td>8931.0</td>\n",
       "      <td>0</td>\n",
       "      <td>0</td>\n",
       "      <td>0</td>\n",
       "      <td>0</td>\n",
       "    </tr>\n",
       "    <tr>\n",
       "      <th>2</th>\n",
       "      <td>30</td>\n",
       "      <td>7</td>\n",
       "      <td>5</td>\n",
       "      <td>7410811099</td>\n",
       "      <td>1</td>\n",
       "      <td>PERSONAL CARE</td>\n",
       "      <td>4504.0</td>\n",
       "      <td>0</td>\n",
       "      <td>0</td>\n",
       "      <td>0</td>\n",
       "      <td>0</td>\n",
       "    </tr>\n",
       "    <tr>\n",
       "      <th>3</th>\n",
       "      <td>26</td>\n",
       "      <td>8</td>\n",
       "      <td>5</td>\n",
       "      <td>2238403510</td>\n",
       "      <td>2</td>\n",
       "      <td>PAINT AND ACCESSORIES</td>\n",
       "      <td>3565.0</td>\n",
       "      <td>0</td>\n",
       "      <td>0</td>\n",
       "      <td>0</td>\n",
       "      <td>0</td>\n",
       "    </tr>\n",
       "    <tr>\n",
       "      <th>4</th>\n",
       "      <td>26</td>\n",
       "      <td>8</td>\n",
       "      <td>5</td>\n",
       "      <td>2006613744</td>\n",
       "      <td>2</td>\n",
       "      <td>PAINT AND ACCESSORIES</td>\n",
       "      <td>1017.0</td>\n",
       "      <td>0</td>\n",
       "      <td>0</td>\n",
       "      <td>0</td>\n",
       "      <td>0</td>\n",
       "    </tr>\n",
       "  </tbody>\n",
       "</table>\n",
       "</div>"
      ],
      "text/plain": [
       "   TripType  VisitNumber  Weekday          Upc  ScanCount  \\\n",
       "0       999            5        5  68113152929         -1   \n",
       "1        30            7        5  60538815980          1   \n",
       "2        30            7        5   7410811099          1   \n",
       "3        26            8        5   2238403510          2   \n",
       "4        26            8        5   2006613744          2   \n",
       "\n",
       "   DepartmentDescription  FinelineNumber  CustType  isWeekend  isReturn  \\\n",
       "0     FINANCIAL SERVICES          1000.0         0          0         1   \n",
       "1                  SHOES          8931.0         0          0         0   \n",
       "2          PERSONAL CARE          4504.0         0          0         0   \n",
       "3  PAINT AND ACCESSORIES          3565.0         0          0         0   \n",
       "4  PAINT AND ACCESSORIES          1017.0         0          0         0   \n",
       "\n",
       "   bulkBuy  \n",
       "0        0  \n",
       "1        0  \n",
       "2        0  \n",
       "3        0  \n",
       "4        0  "
      ]
     },
     "execution_count": 174,
     "metadata": {},
     "output_type": "execute_result"
    }
   ],
   "source": [
    "Trip_data.head()"
   ]
  },
  {
   "cell_type": "code",
   "execution_count": 175,
   "metadata": {},
   "outputs": [
    {
     "data": {
      "text/html": [
       "<div>\n",
       "<style scoped>\n",
       "    .dataframe tbody tr th:only-of-type {\n",
       "        vertical-align: middle;\n",
       "    }\n",
       "\n",
       "    .dataframe tbody tr th {\n",
       "        vertical-align: top;\n",
       "    }\n",
       "\n",
       "    .dataframe thead th {\n",
       "        text-align: right;\n",
       "    }\n",
       "</style>\n",
       "<table border=\"1\" class=\"dataframe\">\n",
       "  <thead>\n",
       "    <tr style=\"text-align: right;\">\n",
       "      <th></th>\n",
       "      <th>TripType</th>\n",
       "      <th>VisitNumber</th>\n",
       "      <th>Weekday</th>\n",
       "      <th>Upc</th>\n",
       "      <th>ScanCount</th>\n",
       "      <th>DepartmentDescription</th>\n",
       "      <th>FinelineNumber</th>\n",
       "      <th>CustType</th>\n",
       "      <th>isWeekend</th>\n",
       "      <th>isReturn</th>\n",
       "      <th>bulkBuy</th>\n",
       "    </tr>\n",
       "  </thead>\n",
       "  <tbody>\n",
       "    <tr>\n",
       "      <th>0</th>\n",
       "      <td>999</td>\n",
       "      <td>5</td>\n",
       "      <td>5</td>\n",
       "      <td>68113152929</td>\n",
       "      <td>-1</td>\n",
       "      <td>FINANCIAL SERVICES</td>\n",
       "      <td>1000.0</td>\n",
       "      <td>0</td>\n",
       "      <td>0</td>\n",
       "      <td>1</td>\n",
       "      <td>0</td>\n",
       "    </tr>\n",
       "    <tr>\n",
       "      <th>1</th>\n",
       "      <td>30</td>\n",
       "      <td>7</td>\n",
       "      <td>5</td>\n",
       "      <td>60538815980</td>\n",
       "      <td>1</td>\n",
       "      <td>SHOES</td>\n",
       "      <td>8931.0</td>\n",
       "      <td>0</td>\n",
       "      <td>0</td>\n",
       "      <td>0</td>\n",
       "      <td>0</td>\n",
       "    </tr>\n",
       "  </tbody>\n",
       "</table>\n",
       "</div>"
      ],
      "text/plain": [
       "   TripType  VisitNumber  Weekday          Upc  ScanCount  \\\n",
       "0       999            5        5  68113152929         -1   \n",
       "1        30            7        5  60538815980          1   \n",
       "\n",
       "  DepartmentDescription  FinelineNumber  CustType  isWeekend  isReturn  \\\n",
       "0    FINANCIAL SERVICES          1000.0         0          0         1   \n",
       "1                 SHOES          8931.0         0          0         0   \n",
       "\n",
       "   bulkBuy  \n",
       "0        0  \n",
       "1        0  "
      ]
     },
     "execution_count": 175,
     "metadata": {},
     "output_type": "execute_result"
    }
   ],
   "source": [
    "Trip_data.head(2)"
   ]
  },
  {
   "cell_type": "code",
   "execution_count": 176,
   "metadata": {},
   "outputs": [
    {
     "data": {
      "text/plain": [
       "97714"
      ]
     },
     "execution_count": 176,
     "metadata": {},
     "output_type": "execute_result"
    }
   ],
   "source": [
    "len(Trip_data[\"Upc\"].unique())"
   ]
  },
  {
   "cell_type": "code",
   "execution_count": 177,
   "metadata": {},
   "outputs": [],
   "source": [
    "# Before creating new features, notice that Upc feature is quite problematic. \n",
    "# While we know that they are not really numbers, but categories that relates to products in specific\n",
    "# Having Department Description and FinelineNumber together might have most of the information compared to Upc\n",
    "# So, we will try building a model without Upc and see how it performs"
   ]
  },
  {
   "cell_type": "code",
   "execution_count": 178,
   "metadata": {},
   "outputs": [],
   "source": [
    "Trip_data_dmy_v2= Trip_data_dmy_v1.drop(\"Upc\", axis=1)"
   ]
  },
  {
   "cell_type": "code",
   "execution_count": 180,
   "metadata": {},
   "outputs": [
    {
     "data": {
      "text/html": [
       "<div>\n",
       "<style scoped>\n",
       "    .dataframe tbody tr th:only-of-type {\n",
       "        vertical-align: middle;\n",
       "    }\n",
       "\n",
       "    .dataframe tbody tr th {\n",
       "        vertical-align: top;\n",
       "    }\n",
       "\n",
       "    .dataframe thead th {\n",
       "        text-align: right;\n",
       "    }\n",
       "</style>\n",
       "<table border=\"1\" class=\"dataframe\">\n",
       "  <thead>\n",
       "    <tr style=\"text-align: right;\">\n",
       "      <th></th>\n",
       "      <th>TripType</th>\n",
       "      <th>VisitNumber</th>\n",
       "      <th>Weekday</th>\n",
       "      <th>ScanCount</th>\n",
       "      <th>FinelineNumber</th>\n",
       "      <th>CustType</th>\n",
       "      <th>isWeekend</th>\n",
       "      <th>isReturn</th>\n",
       "      <th>bulkBuy</th>\n",
       "      <th>DepartmentDescription_ACCESSORIES</th>\n",
       "      <th>...</th>\n",
       "      <th>DepartmentDescription_PRODUCE</th>\n",
       "      <th>DepartmentDescription_SEAFOOD</th>\n",
       "      <th>DepartmentDescription_SERVICE DELI</th>\n",
       "      <th>DepartmentDescription_SHEER HOSIERY</th>\n",
       "      <th>DepartmentDescription_SHOES</th>\n",
       "      <th>DepartmentDescription_SLEEPWEAR/FOUNDATIONS</th>\n",
       "      <th>DepartmentDescription_SPORTING GOODS</th>\n",
       "      <th>DepartmentDescription_SWIMWEAR/OUTERWEAR</th>\n",
       "      <th>DepartmentDescription_TOYS</th>\n",
       "      <th>DepartmentDescription_WIRELESS</th>\n",
       "    </tr>\n",
       "  </thead>\n",
       "  <tbody>\n",
       "    <tr>\n",
       "      <th>0</th>\n",
       "      <td>999</td>\n",
       "      <td>5</td>\n",
       "      <td>5</td>\n",
       "      <td>-1</td>\n",
       "      <td>1000.0</td>\n",
       "      <td>0</td>\n",
       "      <td>0</td>\n",
       "      <td>1</td>\n",
       "      <td>0</td>\n",
       "      <td>0</td>\n",
       "      <td>...</td>\n",
       "      <td>0</td>\n",
       "      <td>0</td>\n",
       "      <td>0</td>\n",
       "      <td>0</td>\n",
       "      <td>0</td>\n",
       "      <td>0</td>\n",
       "      <td>0</td>\n",
       "      <td>0</td>\n",
       "      <td>0</td>\n",
       "      <td>0</td>\n",
       "    </tr>\n",
       "    <tr>\n",
       "      <th>1</th>\n",
       "      <td>30</td>\n",
       "      <td>7</td>\n",
       "      <td>5</td>\n",
       "      <td>1</td>\n",
       "      <td>8931.0</td>\n",
       "      <td>0</td>\n",
       "      <td>0</td>\n",
       "      <td>0</td>\n",
       "      <td>0</td>\n",
       "      <td>0</td>\n",
       "      <td>...</td>\n",
       "      <td>0</td>\n",
       "      <td>0</td>\n",
       "      <td>0</td>\n",
       "      <td>0</td>\n",
       "      <td>1</td>\n",
       "      <td>0</td>\n",
       "      <td>0</td>\n",
       "      <td>0</td>\n",
       "      <td>0</td>\n",
       "      <td>0</td>\n",
       "    </tr>\n",
       "    <tr>\n",
       "      <th>2</th>\n",
       "      <td>30</td>\n",
       "      <td>7</td>\n",
       "      <td>5</td>\n",
       "      <td>1</td>\n",
       "      <td>4504.0</td>\n",
       "      <td>0</td>\n",
       "      <td>0</td>\n",
       "      <td>0</td>\n",
       "      <td>0</td>\n",
       "      <td>0</td>\n",
       "      <td>...</td>\n",
       "      <td>0</td>\n",
       "      <td>0</td>\n",
       "      <td>0</td>\n",
       "      <td>0</td>\n",
       "      <td>0</td>\n",
       "      <td>0</td>\n",
       "      <td>0</td>\n",
       "      <td>0</td>\n",
       "      <td>0</td>\n",
       "      <td>0</td>\n",
       "    </tr>\n",
       "    <tr>\n",
       "      <th>3</th>\n",
       "      <td>26</td>\n",
       "      <td>8</td>\n",
       "      <td>5</td>\n",
       "      <td>2</td>\n",
       "      <td>3565.0</td>\n",
       "      <td>0</td>\n",
       "      <td>0</td>\n",
       "      <td>0</td>\n",
       "      <td>0</td>\n",
       "      <td>0</td>\n",
       "      <td>...</td>\n",
       "      <td>0</td>\n",
       "      <td>0</td>\n",
       "      <td>0</td>\n",
       "      <td>0</td>\n",
       "      <td>0</td>\n",
       "      <td>0</td>\n",
       "      <td>0</td>\n",
       "      <td>0</td>\n",
       "      <td>0</td>\n",
       "      <td>0</td>\n",
       "    </tr>\n",
       "    <tr>\n",
       "      <th>4</th>\n",
       "      <td>26</td>\n",
       "      <td>8</td>\n",
       "      <td>5</td>\n",
       "      <td>2</td>\n",
       "      <td>1017.0</td>\n",
       "      <td>0</td>\n",
       "      <td>0</td>\n",
       "      <td>0</td>\n",
       "      <td>0</td>\n",
       "      <td>0</td>\n",
       "      <td>...</td>\n",
       "      <td>0</td>\n",
       "      <td>0</td>\n",
       "      <td>0</td>\n",
       "      <td>0</td>\n",
       "      <td>0</td>\n",
       "      <td>0</td>\n",
       "      <td>0</td>\n",
       "      <td>0</td>\n",
       "      <td>0</td>\n",
       "      <td>0</td>\n",
       "    </tr>\n",
       "  </tbody>\n",
       "</table>\n",
       "<p>5 rows × 70 columns</p>\n",
       "</div>"
      ],
      "text/plain": [
       "   TripType  VisitNumber  Weekday  ScanCount  FinelineNumber  CustType  \\\n",
       "0       999            5        5         -1          1000.0         0   \n",
       "1        30            7        5          1          8931.0         0   \n",
       "2        30            7        5          1          4504.0         0   \n",
       "3        26            8        5          2          3565.0         0   \n",
       "4        26            8        5          2          1017.0         0   \n",
       "\n",
       "   isWeekend  isReturn  bulkBuy  DepartmentDescription_ACCESSORIES  ...  \\\n",
       "0          0         1        0                                  0  ...   \n",
       "1          0         0        0                                  0  ...   \n",
       "2          0         0        0                                  0  ...   \n",
       "3          0         0        0                                  0  ...   \n",
       "4          0         0        0                                  0  ...   \n",
       "\n",
       "   DepartmentDescription_PRODUCE  DepartmentDescription_SEAFOOD  \\\n",
       "0                              0                              0   \n",
       "1                              0                              0   \n",
       "2                              0                              0   \n",
       "3                              0                              0   \n",
       "4                              0                              0   \n",
       "\n",
       "   DepartmentDescription_SERVICE DELI  DepartmentDescription_SHEER HOSIERY  \\\n",
       "0                                   0                                    0   \n",
       "1                                   0                                    0   \n",
       "2                                   0                                    0   \n",
       "3                                   0                                    0   \n",
       "4                                   0                                    0   \n",
       "\n",
       "   DepartmentDescription_SHOES  DepartmentDescription_SLEEPWEAR/FOUNDATIONS  \\\n",
       "0                            0                                            0   \n",
       "1                            1                                            0   \n",
       "2                            0                                            0   \n",
       "3                            0                                            0   \n",
       "4                            0                                            0   \n",
       "\n",
       "   DepartmentDescription_SPORTING GOODS  \\\n",
       "0                                     0   \n",
       "1                                     0   \n",
       "2                                     0   \n",
       "3                                     0   \n",
       "4                                     0   \n",
       "\n",
       "   DepartmentDescription_SWIMWEAR/OUTERWEAR  DepartmentDescription_TOYS  \\\n",
       "0                                         0                           0   \n",
       "1                                         0                           0   \n",
       "2                                         0                           0   \n",
       "3                                         0                           0   \n",
       "4                                         0                           0   \n",
       "\n",
       "   DepartmentDescription_WIRELESS  \n",
       "0                               0  \n",
       "1                               0  \n",
       "2                               0  \n",
       "3                               0  \n",
       "4                               0  \n",
       "\n",
       "[5 rows x 70 columns]"
      ]
     },
     "execution_count": 180,
     "metadata": {},
     "output_type": "execute_result"
    }
   ],
   "source": [
    "Trip_data_dmy_v2.head()"
   ]
  },
  {
   "cell_type": "markdown",
   "metadata": {},
   "source": [
    "## Model Building: Round-2"
   ]
  },
  {
   "cell_type": "code",
   "execution_count": 181,
   "metadata": {},
   "outputs": [],
   "source": [
    "X = Trip_data_dmy_v2.iloc[:,1:]\n",
    "y = Trip_data_dmy_v2.iloc[:,0]\n",
    "X_train, X_test, y_train, y_test = train_test_split(X, y, random_state=123)"
   ]
  },
  {
   "cell_type": "code",
   "execution_count": 182,
   "metadata": {},
   "outputs": [
    {
     "data": {
      "text/plain": [
       "RandomForestClassifier(bootstrap=True, class_weight=None, criterion='gini',\n",
       "            max_depth=35, max_features='auto', max_leaf_nodes=None,\n",
       "            min_impurity_decrease=0.0, min_impurity_split=None,\n",
       "            min_samples_leaf=1, min_samples_split=2,\n",
       "            min_weight_fraction_leaf=0.0, n_estimators=40, n_jobs=None,\n",
       "            oob_score=False, random_state=None, verbose=0,\n",
       "            warm_start=False)"
      ]
     },
     "execution_count": 182,
     "metadata": {},
     "output_type": "execute_result"
    }
   ],
   "source": [
    "forest_model_35_40 = RandomForestClassifier(criterion = \"gini\", max_depth=35, n_estimators=40)\n",
    "forest_model_35_40.fit(X_train, y_train)"
   ]
  },
  {
   "cell_type": "code",
   "execution_count": 183,
   "metadata": {},
   "outputs": [
    {
     "name": "stdout",
     "output_type": "stream",
     "text": [
      "Random Forest Model with depth 35 and 40 Estimators -  Accuracy on training data:       0.8442970091092483\n"
     ]
    }
   ],
   "source": [
    "# Print Random Forest Model Accuracy on training data:\n",
    "print(f'Random Forest Model with depth 35 and 40 Estimators -  Accuracy on training data: \\\n",
    "      {forest_model_35_40.score(X_train, y_train)}')"
   ]
  },
  {
   "cell_type": "code",
   "execution_count": 184,
   "metadata": {},
   "outputs": [
    {
     "name": "stdout",
     "output_type": "stream",
     "text": [
      "Random Forest Model with depth 35 and 400 Estimators -  Accuracy on testing data:       0.390018669573607\n"
     ]
    }
   ],
   "source": [
    "# Print Random Forest Model Accuracy on testing data:\n",
    "print(f'Random Forest Model with depth 35 and 400 Estimators -  Accuracy on testing data: \\\n",
    "      {forest_model_35_40.score(X_test, y_test)}')"
   ]
  },
  {
   "cell_type": "code",
   "execution_count": 185,
   "metadata": {},
   "outputs": [],
   "source": [
    "# Notice that we have gotten better, but there is still a long way to go. So, more feature engineering"
   ]
  },
  {
   "cell_type": "markdown",
   "metadata": {},
   "source": [
    "## Feature Engineering: Round-3"
   ]
  },
  {
   "cell_type": "code",
   "execution_count": 186,
   "metadata": {},
   "outputs": [
    {
     "data": {
      "text/html": [
       "<div>\n",
       "<style scoped>\n",
       "    .dataframe tbody tr th:only-of-type {\n",
       "        vertical-align: middle;\n",
       "    }\n",
       "\n",
       "    .dataframe tbody tr th {\n",
       "        vertical-align: top;\n",
       "    }\n",
       "\n",
       "    .dataframe thead th {\n",
       "        text-align: right;\n",
       "    }\n",
       "</style>\n",
       "<table border=\"1\" class=\"dataframe\">\n",
       "  <thead>\n",
       "    <tr style=\"text-align: right;\">\n",
       "      <th></th>\n",
       "      <th>TripType</th>\n",
       "      <th>VisitNumber</th>\n",
       "      <th>Weekday</th>\n",
       "      <th>ScanCount</th>\n",
       "      <th>FinelineNumber</th>\n",
       "      <th>CustType</th>\n",
       "      <th>isWeekend</th>\n",
       "      <th>isReturn</th>\n",
       "      <th>bulkBuy</th>\n",
       "      <th>DepartmentDescription_ACCESSORIES</th>\n",
       "      <th>...</th>\n",
       "      <th>DepartmentDescription_PRODUCE</th>\n",
       "      <th>DepartmentDescription_SEAFOOD</th>\n",
       "      <th>DepartmentDescription_SERVICE DELI</th>\n",
       "      <th>DepartmentDescription_SHEER HOSIERY</th>\n",
       "      <th>DepartmentDescription_SHOES</th>\n",
       "      <th>DepartmentDescription_SLEEPWEAR/FOUNDATIONS</th>\n",
       "      <th>DepartmentDescription_SPORTING GOODS</th>\n",
       "      <th>DepartmentDescription_SWIMWEAR/OUTERWEAR</th>\n",
       "      <th>DepartmentDescription_TOYS</th>\n",
       "      <th>DepartmentDescription_WIRELESS</th>\n",
       "    </tr>\n",
       "  </thead>\n",
       "  <tbody>\n",
       "    <tr>\n",
       "      <th>0</th>\n",
       "      <td>999</td>\n",
       "      <td>5</td>\n",
       "      <td>5</td>\n",
       "      <td>-1</td>\n",
       "      <td>1000.0</td>\n",
       "      <td>0</td>\n",
       "      <td>0</td>\n",
       "      <td>1</td>\n",
       "      <td>0</td>\n",
       "      <td>0</td>\n",
       "      <td>...</td>\n",
       "      <td>0</td>\n",
       "      <td>0</td>\n",
       "      <td>0</td>\n",
       "      <td>0</td>\n",
       "      <td>0</td>\n",
       "      <td>0</td>\n",
       "      <td>0</td>\n",
       "      <td>0</td>\n",
       "      <td>0</td>\n",
       "      <td>0</td>\n",
       "    </tr>\n",
       "    <tr>\n",
       "      <th>1</th>\n",
       "      <td>30</td>\n",
       "      <td>7</td>\n",
       "      <td>5</td>\n",
       "      <td>1</td>\n",
       "      <td>8931.0</td>\n",
       "      <td>0</td>\n",
       "      <td>0</td>\n",
       "      <td>0</td>\n",
       "      <td>0</td>\n",
       "      <td>0</td>\n",
       "      <td>...</td>\n",
       "      <td>0</td>\n",
       "      <td>0</td>\n",
       "      <td>0</td>\n",
       "      <td>0</td>\n",
       "      <td>1</td>\n",
       "      <td>0</td>\n",
       "      <td>0</td>\n",
       "      <td>0</td>\n",
       "      <td>0</td>\n",
       "      <td>0</td>\n",
       "    </tr>\n",
       "    <tr>\n",
       "      <th>2</th>\n",
       "      <td>30</td>\n",
       "      <td>7</td>\n",
       "      <td>5</td>\n",
       "      <td>1</td>\n",
       "      <td>4504.0</td>\n",
       "      <td>0</td>\n",
       "      <td>0</td>\n",
       "      <td>0</td>\n",
       "      <td>0</td>\n",
       "      <td>0</td>\n",
       "      <td>...</td>\n",
       "      <td>0</td>\n",
       "      <td>0</td>\n",
       "      <td>0</td>\n",
       "      <td>0</td>\n",
       "      <td>0</td>\n",
       "      <td>0</td>\n",
       "      <td>0</td>\n",
       "      <td>0</td>\n",
       "      <td>0</td>\n",
       "      <td>0</td>\n",
       "    </tr>\n",
       "  </tbody>\n",
       "</table>\n",
       "<p>3 rows × 70 columns</p>\n",
       "</div>"
      ],
      "text/plain": [
       "   TripType  VisitNumber  Weekday  ScanCount  FinelineNumber  CustType  \\\n",
       "0       999            5        5         -1          1000.0         0   \n",
       "1        30            7        5          1          8931.0         0   \n",
       "2        30            7        5          1          4504.0         0   \n",
       "\n",
       "   isWeekend  isReturn  bulkBuy  DepartmentDescription_ACCESSORIES  ...  \\\n",
       "0          0         1        0                                  0  ...   \n",
       "1          0         0        0                                  0  ...   \n",
       "2          0         0        0                                  0  ...   \n",
       "\n",
       "   DepartmentDescription_PRODUCE  DepartmentDescription_SEAFOOD  \\\n",
       "0                              0                              0   \n",
       "1                              0                              0   \n",
       "2                              0                              0   \n",
       "\n",
       "   DepartmentDescription_SERVICE DELI  DepartmentDescription_SHEER HOSIERY  \\\n",
       "0                                   0                                    0   \n",
       "1                                   0                                    0   \n",
       "2                                   0                                    0   \n",
       "\n",
       "   DepartmentDescription_SHOES  DepartmentDescription_SLEEPWEAR/FOUNDATIONS  \\\n",
       "0                            0                                            0   \n",
       "1                            1                                            0   \n",
       "2                            0                                            0   \n",
       "\n",
       "   DepartmentDescription_SPORTING GOODS  \\\n",
       "0                                     0   \n",
       "1                                     0   \n",
       "2                                     0   \n",
       "\n",
       "   DepartmentDescription_SWIMWEAR/OUTERWEAR  DepartmentDescription_TOYS  \\\n",
       "0                                         0                           0   \n",
       "1                                         0                           0   \n",
       "2                                         0                           0   \n",
       "\n",
       "   DepartmentDescription_WIRELESS  \n",
       "0                               0  \n",
       "1                               0  \n",
       "2                               0  \n",
       "\n",
       "[3 rows x 70 columns]"
      ]
     },
     "execution_count": 186,
     "metadata": {},
     "output_type": "execute_result"
    }
   ],
   "source": [
    "Trip_data_dmy_v2.head(3)"
   ]
  },
  {
   "cell_type": "code",
   "execution_count": 187,
   "metadata": {},
   "outputs": [
    {
     "data": {
      "text/plain": [
       "[-12,\n",
       " -10,\n",
       " -9,\n",
       " -7,\n",
       " -6,\n",
       " -5,\n",
       " -4,\n",
       " -3,\n",
       " -2,\n",
       " -1,\n",
       " 1,\n",
       " 2,\n",
       " 3,\n",
       " 4,\n",
       " 5,\n",
       " 6,\n",
       " 7,\n",
       " 8,\n",
       " 9,\n",
       " 10,\n",
       " 11,\n",
       " 12,\n",
       " 13,\n",
       " 14,\n",
       " 15,\n",
       " 16,\n",
       " 17,\n",
       " 18,\n",
       " 19,\n",
       " 20,\n",
       " 22,\n",
       " 23,\n",
       " 24,\n",
       " 25,\n",
       " 30,\n",
       " 31,\n",
       " 46,\n",
       " 51,\n",
       " 71]"
      ]
     },
     "execution_count": 187,
     "metadata": {},
     "output_type": "execute_result"
    }
   ],
   "source": [
    "sorted(Trip_data_dmy_v2[\"ScanCount\"].unique())"
   ]
  },
  {
   "cell_type": "code",
   "execution_count": 188,
   "metadata": {},
   "outputs": [
    {
     "data": {
      "image/png": "[encoded data removed]",
      "text/plain": [
       "<Figure size 720x504 with 1 Axes>"
      ]
     },
     "metadata": {
      "needs_background": "light"
     },
     "output_type": "display_data"
    }
   ],
   "source": [
    "# Notice that ScanCount has got so many labels\n",
    "# Graphically viewing the frequency of occurences if various scan count labels\n",
    "plt.figure(figsize=(10, 7))\n",
    "sns.countplot(y=\"ScanCount\", data=Trip_data_dmy_v2)\n",
    "plt.show()"
   ]
  },
  {
   "cell_type": "code",
   "execution_count": 189,
   "metadata": {},
   "outputs": [],
   "source": [
    "# Notice that, apartfrom ScanCount -1, 1, 2, 3, 4, other ScanCount labels have very few records associated with them\n",
    "# Directly merging the low frequence scancounts would mean information loss.\n",
    "# If there was a way we could capture the ScanCount through a different or new feature, we must do that\n",
    "# The only possible option is \"DepartmentDescription\", ofcourse the dummified ones. \n",
    "# If we multiply ScanCounts with \"DepartmentDescription\" after dummifying, we will have the ScanCount captured\n",
    "# That should also help classify TripType more accurately"
   ]
  },
  {
   "cell_type": "code",
   "execution_count": 223,
   "metadata": {},
   "outputs": [
    {
     "data": {
      "text/html": [
       "<div>\n",
       "<style scoped>\n",
       "    .dataframe tbody tr th:only-of-type {\n",
       "        vertical-align: middle;\n",
       "    }\n",
       "\n",
       "    .dataframe tbody tr th {\n",
       "        vertical-align: top;\n",
       "    }\n",
       "\n",
       "    .dataframe thead th {\n",
       "        text-align: right;\n",
       "    }\n",
       "</style>\n",
       "<table border=\"1\" class=\"dataframe\">\n",
       "  <thead>\n",
       "    <tr style=\"text-align: right;\">\n",
       "      <th></th>\n",
       "      <th>TripType</th>\n",
       "      <th>VisitNumber</th>\n",
       "      <th>Weekday</th>\n",
       "      <th>Upc</th>\n",
       "      <th>ScanCount</th>\n",
       "      <th>DepartmentDescription</th>\n",
       "      <th>FinelineNumber</th>\n",
       "      <th>CustType</th>\n",
       "      <th>isWeekend</th>\n",
       "      <th>isReturn</th>\n",
       "      <th>bulkBuy</th>\n",
       "    </tr>\n",
       "  </thead>\n",
       "  <tbody>\n",
       "    <tr>\n",
       "      <th>0</th>\n",
       "      <td>999</td>\n",
       "      <td>5</td>\n",
       "      <td>5</td>\n",
       "      <td>68113152929</td>\n",
       "      <td>-1</td>\n",
       "      <td>FINANCIAL SERVICES</td>\n",
       "      <td>1000.0</td>\n",
       "      <td>0</td>\n",
       "      <td>0</td>\n",
       "      <td>1</td>\n",
       "      <td>0</td>\n",
       "    </tr>\n",
       "    <tr>\n",
       "      <th>1</th>\n",
       "      <td>30</td>\n",
       "      <td>7</td>\n",
       "      <td>5</td>\n",
       "      <td>60538815980</td>\n",
       "      <td>1</td>\n",
       "      <td>SHOES</td>\n",
       "      <td>8931.0</td>\n",
       "      <td>0</td>\n",
       "      <td>0</td>\n",
       "      <td>0</td>\n",
       "      <td>0</td>\n",
       "    </tr>\n",
       "    <tr>\n",
       "      <th>2</th>\n",
       "      <td>30</td>\n",
       "      <td>7</td>\n",
       "      <td>5</td>\n",
       "      <td>7410811099</td>\n",
       "      <td>1</td>\n",
       "      <td>PERSONAL CARE</td>\n",
       "      <td>4504.0</td>\n",
       "      <td>0</td>\n",
       "      <td>0</td>\n",
       "      <td>0</td>\n",
       "      <td>0</td>\n",
       "    </tr>\n",
       "    <tr>\n",
       "      <th>3</th>\n",
       "      <td>26</td>\n",
       "      <td>8</td>\n",
       "      <td>5</td>\n",
       "      <td>2238403510</td>\n",
       "      <td>2</td>\n",
       "      <td>PAINT AND ACCESSORIES</td>\n",
       "      <td>3565.0</td>\n",
       "      <td>0</td>\n",
       "      <td>0</td>\n",
       "      <td>0</td>\n",
       "      <td>0</td>\n",
       "    </tr>\n",
       "    <tr>\n",
       "      <th>4</th>\n",
       "      <td>26</td>\n",
       "      <td>8</td>\n",
       "      <td>5</td>\n",
       "      <td>2006613744</td>\n",
       "      <td>2</td>\n",
       "      <td>PAINT AND ACCESSORIES</td>\n",
       "      <td>1017.0</td>\n",
       "      <td>0</td>\n",
       "      <td>0</td>\n",
       "      <td>0</td>\n",
       "      <td>0</td>\n",
       "    </tr>\n",
       "  </tbody>\n",
       "</table>\n",
       "</div>"
      ],
      "text/plain": [
       "   TripType  VisitNumber  Weekday          Upc  ScanCount  \\\n",
       "0       999            5        5  68113152929         -1   \n",
       "1        30            7        5  60538815980          1   \n",
       "2        30            7        5   7410811099          1   \n",
       "3        26            8        5   2238403510          2   \n",
       "4        26            8        5   2006613744          2   \n",
       "\n",
       "   DepartmentDescription  FinelineNumber  CustType  isWeekend  isReturn  \\\n",
       "0     FINANCIAL SERVICES          1000.0         0          0         1   \n",
       "1                  SHOES          8931.0         0          0         0   \n",
       "2          PERSONAL CARE          4504.0         0          0         0   \n",
       "3  PAINT AND ACCESSORIES          3565.0         0          0         0   \n",
       "4  PAINT AND ACCESSORIES          1017.0         0          0         0   \n",
       "\n",
       "   bulkBuy  \n",
       "0        0  \n",
       "1        0  \n",
       "2        0  \n",
       "3        0  \n",
       "4        0  "
      ]
     },
     "execution_count": 223,
     "metadata": {},
     "output_type": "execute_result"
    }
   ],
   "source": [
    "Trip_data.head()"
   ]
  },
  {
   "cell_type": "code",
   "execution_count": 224,
   "metadata": {},
   "outputs": [
    {
     "data": {
      "text/html": [
       "<div>\n",
       "<style scoped>\n",
       "    .dataframe tbody tr th:only-of-type {\n",
       "        vertical-align: middle;\n",
       "    }\n",
       "\n",
       "    .dataframe tbody tr th {\n",
       "        vertical-align: top;\n",
       "    }\n",
       "\n",
       "    .dataframe thead th {\n",
       "        text-align: right;\n",
       "    }\n",
       "</style>\n",
       "<table border=\"1\" class=\"dataframe\">\n",
       "  <thead>\n",
       "    <tr style=\"text-align: right;\">\n",
       "      <th></th>\n",
       "      <th>1-HR PHOTO</th>\n",
       "      <th>ACCESSORIES</th>\n",
       "      <th>AUTOMOTIVE</th>\n",
       "      <th>BAKERY</th>\n",
       "      <th>BATH AND SHOWER</th>\n",
       "      <th>BEAUTY</th>\n",
       "      <th>BEDDING</th>\n",
       "      <th>BOOKS AND MAGAZINES</th>\n",
       "      <th>BOYS WEAR</th>\n",
       "      <th>BRAS &amp; SHAPEWEAR</th>\n",
       "      <th>...</th>\n",
       "      <th>PRODUCE</th>\n",
       "      <th>SEAFOOD</th>\n",
       "      <th>SERVICE DELI</th>\n",
       "      <th>SHEER HOSIERY</th>\n",
       "      <th>SHOES</th>\n",
       "      <th>SLEEPWEAR/FOUNDATIONS</th>\n",
       "      <th>SPORTING GOODS</th>\n",
       "      <th>SWIMWEAR/OUTERWEAR</th>\n",
       "      <th>TOYS</th>\n",
       "      <th>WIRELESS</th>\n",
       "    </tr>\n",
       "  </thead>\n",
       "  <tbody>\n",
       "    <tr>\n",
       "      <th>0</th>\n",
       "      <td>0</td>\n",
       "      <td>0</td>\n",
       "      <td>0</td>\n",
       "      <td>0</td>\n",
       "      <td>0</td>\n",
       "      <td>0</td>\n",
       "      <td>0</td>\n",
       "      <td>0</td>\n",
       "      <td>0</td>\n",
       "      <td>0</td>\n",
       "      <td>...</td>\n",
       "      <td>0</td>\n",
       "      <td>0</td>\n",
       "      <td>0</td>\n",
       "      <td>0</td>\n",
       "      <td>0</td>\n",
       "      <td>0</td>\n",
       "      <td>0</td>\n",
       "      <td>0</td>\n",
       "      <td>0</td>\n",
       "      <td>0</td>\n",
       "    </tr>\n",
       "    <tr>\n",
       "      <th>1</th>\n",
       "      <td>0</td>\n",
       "      <td>0</td>\n",
       "      <td>0</td>\n",
       "      <td>0</td>\n",
       "      <td>0</td>\n",
       "      <td>0</td>\n",
       "      <td>0</td>\n",
       "      <td>0</td>\n",
       "      <td>0</td>\n",
       "      <td>0</td>\n",
       "      <td>...</td>\n",
       "      <td>0</td>\n",
       "      <td>0</td>\n",
       "      <td>0</td>\n",
       "      <td>0</td>\n",
       "      <td>1</td>\n",
       "      <td>0</td>\n",
       "      <td>0</td>\n",
       "      <td>0</td>\n",
       "      <td>0</td>\n",
       "      <td>0</td>\n",
       "    </tr>\n",
       "    <tr>\n",
       "      <th>2</th>\n",
       "      <td>0</td>\n",
       "      <td>0</td>\n",
       "      <td>0</td>\n",
       "      <td>0</td>\n",
       "      <td>0</td>\n",
       "      <td>0</td>\n",
       "      <td>0</td>\n",
       "      <td>0</td>\n",
       "      <td>0</td>\n",
       "      <td>0</td>\n",
       "      <td>...</td>\n",
       "      <td>0</td>\n",
       "      <td>0</td>\n",
       "      <td>0</td>\n",
       "      <td>0</td>\n",
       "      <td>0</td>\n",
       "      <td>0</td>\n",
       "      <td>0</td>\n",
       "      <td>0</td>\n",
       "      <td>0</td>\n",
       "      <td>0</td>\n",
       "    </tr>\n",
       "  </tbody>\n",
       "</table>\n",
       "<p>3 rows × 62 columns</p>\n",
       "</div>"
      ],
      "text/plain": [
       "   1-HR PHOTO  ACCESSORIES  AUTOMOTIVE  BAKERY  BATH AND SHOWER  BEAUTY  \\\n",
       "0           0            0           0       0                0       0   \n",
       "1           0            0           0       0                0       0   \n",
       "2           0            0           0       0                0       0   \n",
       "\n",
       "   BEDDING  BOOKS AND MAGAZINES  BOYS WEAR  BRAS & SHAPEWEAR  ...  PRODUCE  \\\n",
       "0        0                    0          0                 0  ...        0   \n",
       "1        0                    0          0                 0  ...        0   \n",
       "2        0                    0          0                 0  ...        0   \n",
       "\n",
       "   SEAFOOD  SERVICE DELI  SHEER HOSIERY  SHOES  SLEEPWEAR/FOUNDATIONS  \\\n",
       "0        0             0              0      0                      0   \n",
       "1        0             0              0      1                      0   \n",
       "2        0             0              0      0                      0   \n",
       "\n",
       "   SPORTING GOODS  SWIMWEAR/OUTERWEAR  TOYS  WIRELESS  \n",
       "0               0                   0     0         0  \n",
       "1               0                   0     0         0  \n",
       "2               0                   0     0         0  \n",
       "\n",
       "[3 rows x 62 columns]"
      ]
     },
     "execution_count": 224,
     "metadata": {},
     "output_type": "execute_result"
    }
   ],
   "source": [
    "# There no better way but to dummify DepartmentDescription\n",
    "dep_dummies = pd.get_dummies(Trip_data['DepartmentDescription'])\n",
    "dep_dummies.head(3)"
   ]
  },
  {
   "cell_type": "code",
   "execution_count": 225,
   "metadata": {},
   "outputs": [],
   "source": [
    "dep_dummies = dep_dummies.apply(lambda x: x*Trip_data['ScanCount'])"
   ]
  },
  {
   "cell_type": "code",
   "execution_count": 226,
   "metadata": {},
   "outputs": [
    {
     "data": {
      "text/html": [
       "<div>\n",
       "<style scoped>\n",
       "    .dataframe tbody tr th:only-of-type {\n",
       "        vertical-align: middle;\n",
       "    }\n",
       "\n",
       "    .dataframe tbody tr th {\n",
       "        vertical-align: top;\n",
       "    }\n",
       "\n",
       "    .dataframe thead th {\n",
       "        text-align: right;\n",
       "    }\n",
       "</style>\n",
       "<table border=\"1\" class=\"dataframe\">\n",
       "  <thead>\n",
       "    <tr style=\"text-align: right;\">\n",
       "      <th></th>\n",
       "      <th>1-HR PHOTO</th>\n",
       "      <th>ACCESSORIES</th>\n",
       "      <th>AUTOMOTIVE</th>\n",
       "      <th>BAKERY</th>\n",
       "      <th>BATH AND SHOWER</th>\n",
       "      <th>BEAUTY</th>\n",
       "      <th>BEDDING</th>\n",
       "      <th>BOOKS AND MAGAZINES</th>\n",
       "      <th>BOYS WEAR</th>\n",
       "      <th>BRAS &amp; SHAPEWEAR</th>\n",
       "      <th>...</th>\n",
       "      <th>PRODUCE</th>\n",
       "      <th>SEAFOOD</th>\n",
       "      <th>SERVICE DELI</th>\n",
       "      <th>SHEER HOSIERY</th>\n",
       "      <th>SHOES</th>\n",
       "      <th>SLEEPWEAR/FOUNDATIONS</th>\n",
       "      <th>SPORTING GOODS</th>\n",
       "      <th>SWIMWEAR/OUTERWEAR</th>\n",
       "      <th>TOYS</th>\n",
       "      <th>WIRELESS</th>\n",
       "    </tr>\n",
       "  </thead>\n",
       "  <tbody>\n",
       "    <tr>\n",
       "      <th>647044</th>\n",
       "      <td>0</td>\n",
       "      <td>0</td>\n",
       "      <td>0</td>\n",
       "      <td>0</td>\n",
       "      <td>0</td>\n",
       "      <td>0</td>\n",
       "      <td>0</td>\n",
       "      <td>0</td>\n",
       "      <td>0</td>\n",
       "      <td>0</td>\n",
       "      <td>...</td>\n",
       "      <td>0</td>\n",
       "      <td>0</td>\n",
       "      <td>0</td>\n",
       "      <td>0</td>\n",
       "      <td>0</td>\n",
       "      <td>0</td>\n",
       "      <td>0</td>\n",
       "      <td>0</td>\n",
       "      <td>0</td>\n",
       "      <td>0</td>\n",
       "    </tr>\n",
       "    <tr>\n",
       "      <th>647045</th>\n",
       "      <td>0</td>\n",
       "      <td>0</td>\n",
       "      <td>0</td>\n",
       "      <td>0</td>\n",
       "      <td>0</td>\n",
       "      <td>0</td>\n",
       "      <td>0</td>\n",
       "      <td>0</td>\n",
       "      <td>0</td>\n",
       "      <td>0</td>\n",
       "      <td>...</td>\n",
       "      <td>0</td>\n",
       "      <td>0</td>\n",
       "      <td>0</td>\n",
       "      <td>0</td>\n",
       "      <td>0</td>\n",
       "      <td>0</td>\n",
       "      <td>0</td>\n",
       "      <td>0</td>\n",
       "      <td>0</td>\n",
       "      <td>0</td>\n",
       "    </tr>\n",
       "    <tr>\n",
       "      <th>647046</th>\n",
       "      <td>0</td>\n",
       "      <td>0</td>\n",
       "      <td>0</td>\n",
       "      <td>0</td>\n",
       "      <td>0</td>\n",
       "      <td>0</td>\n",
       "      <td>0</td>\n",
       "      <td>0</td>\n",
       "      <td>0</td>\n",
       "      <td>0</td>\n",
       "      <td>...</td>\n",
       "      <td>0</td>\n",
       "      <td>0</td>\n",
       "      <td>0</td>\n",
       "      <td>0</td>\n",
       "      <td>0</td>\n",
       "      <td>0</td>\n",
       "      <td>0</td>\n",
       "      <td>0</td>\n",
       "      <td>0</td>\n",
       "      <td>0</td>\n",
       "    </tr>\n",
       "    <tr>\n",
       "      <th>647047</th>\n",
       "      <td>0</td>\n",
       "      <td>0</td>\n",
       "      <td>0</td>\n",
       "      <td>0</td>\n",
       "      <td>0</td>\n",
       "      <td>0</td>\n",
       "      <td>0</td>\n",
       "      <td>0</td>\n",
       "      <td>0</td>\n",
       "      <td>0</td>\n",
       "      <td>...</td>\n",
       "      <td>0</td>\n",
       "      <td>0</td>\n",
       "      <td>0</td>\n",
       "      <td>0</td>\n",
       "      <td>0</td>\n",
       "      <td>0</td>\n",
       "      <td>0</td>\n",
       "      <td>0</td>\n",
       "      <td>0</td>\n",
       "      <td>0</td>\n",
       "    </tr>\n",
       "    <tr>\n",
       "      <th>647048</th>\n",
       "      <td>0</td>\n",
       "      <td>0</td>\n",
       "      <td>0</td>\n",
       "      <td>0</td>\n",
       "      <td>0</td>\n",
       "      <td>0</td>\n",
       "      <td>0</td>\n",
       "      <td>0</td>\n",
       "      <td>0</td>\n",
       "      <td>0</td>\n",
       "      <td>...</td>\n",
       "      <td>0</td>\n",
       "      <td>0</td>\n",
       "      <td>0</td>\n",
       "      <td>0</td>\n",
       "      <td>0</td>\n",
       "      <td>0</td>\n",
       "      <td>0</td>\n",
       "      <td>0</td>\n",
       "      <td>0</td>\n",
       "      <td>0</td>\n",
       "    </tr>\n",
       "    <tr>\n",
       "      <th>647049</th>\n",
       "      <td>0</td>\n",
       "      <td>0</td>\n",
       "      <td>0</td>\n",
       "      <td>0</td>\n",
       "      <td>0</td>\n",
       "      <td>0</td>\n",
       "      <td>0</td>\n",
       "      <td>0</td>\n",
       "      <td>0</td>\n",
       "      <td>0</td>\n",
       "      <td>...</td>\n",
       "      <td>0</td>\n",
       "      <td>0</td>\n",
       "      <td>0</td>\n",
       "      <td>0</td>\n",
       "      <td>0</td>\n",
       "      <td>0</td>\n",
       "      <td>0</td>\n",
       "      <td>0</td>\n",
       "      <td>0</td>\n",
       "      <td>0</td>\n",
       "    </tr>\n",
       "    <tr>\n",
       "      <th>647050</th>\n",
       "      <td>0</td>\n",
       "      <td>0</td>\n",
       "      <td>0</td>\n",
       "      <td>0</td>\n",
       "      <td>0</td>\n",
       "      <td>0</td>\n",
       "      <td>0</td>\n",
       "      <td>0</td>\n",
       "      <td>0</td>\n",
       "      <td>0</td>\n",
       "      <td>...</td>\n",
       "      <td>0</td>\n",
       "      <td>0</td>\n",
       "      <td>0</td>\n",
       "      <td>0</td>\n",
       "      <td>0</td>\n",
       "      <td>0</td>\n",
       "      <td>0</td>\n",
       "      <td>0</td>\n",
       "      <td>0</td>\n",
       "      <td>0</td>\n",
       "    </tr>\n",
       "    <tr>\n",
       "      <th>647051</th>\n",
       "      <td>0</td>\n",
       "      <td>0</td>\n",
       "      <td>0</td>\n",
       "      <td>0</td>\n",
       "      <td>0</td>\n",
       "      <td>0</td>\n",
       "      <td>0</td>\n",
       "      <td>0</td>\n",
       "      <td>0</td>\n",
       "      <td>0</td>\n",
       "      <td>...</td>\n",
       "      <td>1</td>\n",
       "      <td>0</td>\n",
       "      <td>0</td>\n",
       "      <td>0</td>\n",
       "      <td>0</td>\n",
       "      <td>0</td>\n",
       "      <td>0</td>\n",
       "      <td>0</td>\n",
       "      <td>0</td>\n",
       "      <td>0</td>\n",
       "    </tr>\n",
       "    <tr>\n",
       "      <th>647052</th>\n",
       "      <td>0</td>\n",
       "      <td>0</td>\n",
       "      <td>0</td>\n",
       "      <td>0</td>\n",
       "      <td>0</td>\n",
       "      <td>0</td>\n",
       "      <td>0</td>\n",
       "      <td>0</td>\n",
       "      <td>0</td>\n",
       "      <td>0</td>\n",
       "      <td>...</td>\n",
       "      <td>0</td>\n",
       "      <td>0</td>\n",
       "      <td>0</td>\n",
       "      <td>0</td>\n",
       "      <td>0</td>\n",
       "      <td>0</td>\n",
       "      <td>0</td>\n",
       "      <td>0</td>\n",
       "      <td>0</td>\n",
       "      <td>0</td>\n",
       "    </tr>\n",
       "    <tr>\n",
       "      <th>647053</th>\n",
       "      <td>0</td>\n",
       "      <td>0</td>\n",
       "      <td>0</td>\n",
       "      <td>0</td>\n",
       "      <td>0</td>\n",
       "      <td>0</td>\n",
       "      <td>0</td>\n",
       "      <td>0</td>\n",
       "      <td>0</td>\n",
       "      <td>0</td>\n",
       "      <td>...</td>\n",
       "      <td>0</td>\n",
       "      <td>0</td>\n",
       "      <td>0</td>\n",
       "      <td>0</td>\n",
       "      <td>0</td>\n",
       "      <td>0</td>\n",
       "      <td>0</td>\n",
       "      <td>0</td>\n",
       "      <td>0</td>\n",
       "      <td>0</td>\n",
       "    </tr>\n",
       "  </tbody>\n",
       "</table>\n",
       "<p>10 rows × 62 columns</p>\n",
       "</div>"
      ],
      "text/plain": [
       "        1-HR PHOTO  ACCESSORIES  AUTOMOTIVE  BAKERY  BATH AND SHOWER  BEAUTY  \\\n",
       "647044           0            0           0       0                0       0   \n",
       "647045           0            0           0       0                0       0   \n",
       "647046           0            0           0       0                0       0   \n",
       "647047           0            0           0       0                0       0   \n",
       "647048           0            0           0       0                0       0   \n",
       "647049           0            0           0       0                0       0   \n",
       "647050           0            0           0       0                0       0   \n",
       "647051           0            0           0       0                0       0   \n",
       "647052           0            0           0       0                0       0   \n",
       "647053           0            0           0       0                0       0   \n",
       "\n",
       "        BEDDING  BOOKS AND MAGAZINES  BOYS WEAR  BRAS & SHAPEWEAR  ...  \\\n",
       "647044        0                    0          0                 0  ...   \n",
       "647045        0                    0          0                 0  ...   \n",
       "647046        0                    0          0                 0  ...   \n",
       "647047        0                    0          0                 0  ...   \n",
       "647048        0                    0          0                 0  ...   \n",
       "647049        0                    0          0                 0  ...   \n",
       "647050        0                    0          0                 0  ...   \n",
       "647051        0                    0          0                 0  ...   \n",
       "647052        0                    0          0                 0  ...   \n",
       "647053        0                    0          0                 0  ...   \n",
       "\n",
       "        PRODUCE  SEAFOOD  SERVICE DELI  SHEER HOSIERY  SHOES  \\\n",
       "647044        0        0             0              0      0   \n",
       "647045        0        0             0              0      0   \n",
       "647046        0        0             0              0      0   \n",
       "647047        0        0             0              0      0   \n",
       "647048        0        0             0              0      0   \n",
       "647049        0        0             0              0      0   \n",
       "647050        0        0             0              0      0   \n",
       "647051        1        0             0              0      0   \n",
       "647052        0        0             0              0      0   \n",
       "647053        0        0             0              0      0   \n",
       "\n",
       "        SLEEPWEAR/FOUNDATIONS  SPORTING GOODS  SWIMWEAR/OUTERWEAR  TOYS  \\\n",
       "647044                      0               0                   0     0   \n",
       "647045                      0               0                   0     0   \n",
       "647046                      0               0                   0     0   \n",
       "647047                      0               0                   0     0   \n",
       "647048                      0               0                   0     0   \n",
       "647049                      0               0                   0     0   \n",
       "647050                      0               0                   0     0   \n",
       "647051                      0               0                   0     0   \n",
       "647052                      0               0                   0     0   \n",
       "647053                      0               0                   0     0   \n",
       "\n",
       "        WIRELESS  \n",
       "647044         0  \n",
       "647045         0  \n",
       "647046         0  \n",
       "647047         0  \n",
       "647048         0  \n",
       "647049         0  \n",
       "647050         0  \n",
       "647051         0  \n",
       "647052         0  \n",
       "647053         0  \n",
       "\n",
       "[10 rows x 62 columns]"
      ]
     },
     "execution_count": 226,
     "metadata": {},
     "output_type": "execute_result"
    }
   ],
   "source": [
    "dep_dummies.tail(10)"
   ]
  },
  {
   "cell_type": "code",
   "execution_count": 227,
   "metadata": {},
   "outputs": [],
   "source": [
    "Trip_data_dmy_v3= Trip_data.drop([\"Upc\",\"DepartmentDescription\"], axis=1)"
   ]
  },
  {
   "cell_type": "code",
   "execution_count": 228,
   "metadata": {},
   "outputs": [],
   "source": [
    "Trip_data_dmy_v3[dep_dummies.columns]=dep_dummies"
   ]
  },
  {
   "cell_type": "code",
   "execution_count": 229,
   "metadata": {},
   "outputs": [
    {
     "data": {
      "text/html": [
       "<div>\n",
       "<style scoped>\n",
       "    .dataframe tbody tr th:only-of-type {\n",
       "        vertical-align: middle;\n",
       "    }\n",
       "\n",
       "    .dataframe tbody tr th {\n",
       "        vertical-align: top;\n",
       "    }\n",
       "\n",
       "    .dataframe thead th {\n",
       "        text-align: right;\n",
       "    }\n",
       "</style>\n",
       "<table border=\"1\" class=\"dataframe\">\n",
       "  <thead>\n",
       "    <tr style=\"text-align: right;\">\n",
       "      <th></th>\n",
       "      <th>TripType</th>\n",
       "      <th>VisitNumber</th>\n",
       "      <th>Weekday</th>\n",
       "      <th>ScanCount</th>\n",
       "      <th>FinelineNumber</th>\n",
       "      <th>CustType</th>\n",
       "      <th>isWeekend</th>\n",
       "      <th>isReturn</th>\n",
       "      <th>bulkBuy</th>\n",
       "      <th>1-HR PHOTO</th>\n",
       "      <th>...</th>\n",
       "      <th>PRODUCE</th>\n",
       "      <th>SEAFOOD</th>\n",
       "      <th>SERVICE DELI</th>\n",
       "      <th>SHEER HOSIERY</th>\n",
       "      <th>SHOES</th>\n",
       "      <th>SLEEPWEAR/FOUNDATIONS</th>\n",
       "      <th>SPORTING GOODS</th>\n",
       "      <th>SWIMWEAR/OUTERWEAR</th>\n",
       "      <th>TOYS</th>\n",
       "      <th>WIRELESS</th>\n",
       "    </tr>\n",
       "  </thead>\n",
       "  <tbody>\n",
       "    <tr>\n",
       "      <th>0</th>\n",
       "      <td>999</td>\n",
       "      <td>5</td>\n",
       "      <td>5</td>\n",
       "      <td>-1</td>\n",
       "      <td>1000.0</td>\n",
       "      <td>0</td>\n",
       "      <td>0</td>\n",
       "      <td>1</td>\n",
       "      <td>0</td>\n",
       "      <td>0</td>\n",
       "      <td>...</td>\n",
       "      <td>0</td>\n",
       "      <td>0</td>\n",
       "      <td>0</td>\n",
       "      <td>0</td>\n",
       "      <td>0</td>\n",
       "      <td>0</td>\n",
       "      <td>0</td>\n",
       "      <td>0</td>\n",
       "      <td>0</td>\n",
       "      <td>0</td>\n",
       "    </tr>\n",
       "    <tr>\n",
       "      <th>1</th>\n",
       "      <td>30</td>\n",
       "      <td>7</td>\n",
       "      <td>5</td>\n",
       "      <td>1</td>\n",
       "      <td>8931.0</td>\n",
       "      <td>0</td>\n",
       "      <td>0</td>\n",
       "      <td>0</td>\n",
       "      <td>0</td>\n",
       "      <td>0</td>\n",
       "      <td>...</td>\n",
       "      <td>0</td>\n",
       "      <td>0</td>\n",
       "      <td>0</td>\n",
       "      <td>0</td>\n",
       "      <td>1</td>\n",
       "      <td>0</td>\n",
       "      <td>0</td>\n",
       "      <td>0</td>\n",
       "      <td>0</td>\n",
       "      <td>0</td>\n",
       "    </tr>\n",
       "  </tbody>\n",
       "</table>\n",
       "<p>2 rows × 71 columns</p>\n",
       "</div>"
      ],
      "text/plain": [
       "   TripType  VisitNumber  Weekday  ScanCount  FinelineNumber  CustType  \\\n",
       "0       999            5        5         -1          1000.0         0   \n",
       "1        30            7        5          1          8931.0         0   \n",
       "\n",
       "   isWeekend  isReturn  bulkBuy  1-HR PHOTO  ...  PRODUCE  SEAFOOD  \\\n",
       "0          0         1        0           0  ...        0        0   \n",
       "1          0         0        0           0  ...        0        0   \n",
       "\n",
       "   SERVICE DELI  SHEER HOSIERY  SHOES  SLEEPWEAR/FOUNDATIONS  SPORTING GOODS  \\\n",
       "0             0              0      0                      0               0   \n",
       "1             0              0      1                      0               0   \n",
       "\n",
       "   SWIMWEAR/OUTERWEAR  TOYS  WIRELESS  \n",
       "0                   0     0         0  \n",
       "1                   0     0         0  \n",
       "\n",
       "[2 rows x 71 columns]"
      ]
     },
     "execution_count": 229,
     "metadata": {},
     "output_type": "execute_result"
    }
   ],
   "source": [
    "Trip_data_dmy_v3.head(2)"
   ]
  },
  {
   "cell_type": "code",
   "execution_count": 230,
   "metadata": {},
   "outputs": [],
   "source": [
    "# We have now captured the ScanCount information as part of Department Descriptions"
   ]
  },
  {
   "cell_type": "code",
   "execution_count": 221,
   "metadata": {},
   "outputs": [],
   "source": [
    "# Trip_data_dmy_v3.loc[Trip_data_dmy_v3.ScanCount < -2] = -2\n",
    "# Trip_data_dmy_v3.loc[Trip_data_dmy_v3.ScanCount > 5] = 5\n",
    "# Trip_data_dmy_v3[\"ScanCount\"].unique()"
   ]
  },
  {
   "cell_type": "code",
   "execution_count": null,
   "metadata": {},
   "outputs": [],
   "source": [
    "# Observed that reducing the ScanCount label did not help"
   ]
  },
  {
   "cell_type": "markdown",
   "metadata": {},
   "source": [
    "## Model Building: Round-3"
   ]
  },
  {
   "cell_type": "code",
   "execution_count": 231,
   "metadata": {},
   "outputs": [],
   "source": [
    "X = Trip_data_dmy_v3.iloc[:,1:]\n",
    "y = Trip_data_dmy_v3.iloc[:,0]\n",
    "X_train, X_test, y_train, y_test = train_test_split(X, y, random_state=123)"
   ]
  },
  {
   "cell_type": "code",
   "execution_count": 232,
   "metadata": {},
   "outputs": [
    {
     "data": {
      "text/plain": [
       "RandomForestClassifier(bootstrap=True, class_weight=None, criterion='gini',\n",
       "            max_depth=35, max_features='auto', max_leaf_nodes=None,\n",
       "            min_impurity_decrease=0.0, min_impurity_split=None,\n",
       "            min_samples_leaf=1, min_samples_split=2,\n",
       "            min_weight_fraction_leaf=0.0, n_estimators=40, n_jobs=None,\n",
       "            oob_score=False, random_state=None, verbose=0,\n",
       "            warm_start=False)"
      ]
     },
     "execution_count": 232,
     "metadata": {},
     "output_type": "execute_result"
    }
   ],
   "source": [
    "forest_model_35_40 = RandomForestClassifier(criterion = \"gini\", max_depth=35, n_estimators=40)\n",
    "forest_model_35_40.fit(X_train, y_train)"
   ]
  },
  {
   "cell_type": "code",
   "execution_count": 204,
   "metadata": {},
   "outputs": [
    {
     "name": "stdout",
     "output_type": "stream",
     "text": [
      "Random Forest Model with depth 35 and 40 Estimators -  Accuracy on training data:       0.8643949930458971\n"
     ]
    }
   ],
   "source": [
    "# Print Random Forest Model Accuracy on training data:\n",
    "print(f'Random Forest Model with depth 35 and 40 Estimators -  Accuracy on training data: \\\n",
    "      {forest_model_35_40.score(X_train, y_train)}')"
   ]
  },
  {
   "cell_type": "code",
   "execution_count": 233,
   "metadata": {},
   "outputs": [
    {
     "name": "stdout",
     "output_type": "stream",
     "text": [
      "Random Forest Model with depth 35 and 400 Estimators -  Accuracy on testing data:       0.39127166109085443\n"
     ]
    }
   ],
   "source": [
    "# Print Random Forest Model Accuracy on testing data:\n",
    "print(f'Random Forest Model with depth 35 and 400 Estimators -  Accuracy on testing data: \\\n",
    "      {forest_model_35_40.score(X_test, y_test)}')"
   ]
  },
  {
   "cell_type": "code",
   "execution_count": null,
   "metadata": {},
   "outputs": [],
   "source": [
    "# Notice that there is just a marginal improvement"
   ]
  },
  {
   "cell_type": "code",
   "execution_count": null,
   "metadata": {},
   "outputs": [],
   "source": [
    "# In this assignment, I just looked at the overall accuracy of the model, \n",
    "# and not granular error matrices such as Precision, Recall etc."
   ]
  },
  {
   "cell_type": "markdown",
   "metadata": {},
   "source": [
    "##### I tried running Gradient Boosting but is taking very long time, so could not furnish the output of it"
   ]
  },
  {
   "cell_type": "code",
   "execution_count": 213,
   "metadata": {},
   "outputs": [],
   "source": [
    "# from sklearn.ensemble import GradientBoostingClassifier\n",
    "# GB_model_35_20 = GradientBoostingClassifier( max_depth=35, n_estimators=30)\n",
    "# GB_model_35_20.fit(X_train, y_train)"
   ]
  },
  {
   "cell_type": "code",
   "execution_count": null,
   "metadata": {},
   "outputs": [],
   "source": [
    "# Print GB Model Accuracy on training data:\n",
    "# print(f'GB Model with depth 45 -  Accuracy on training data: \\\n",
    "#       {GB_model_45.score(X_train, y_train)}')"
   ]
  },
  {
   "cell_type": "code",
   "execution_count": null,
   "metadata": {},
   "outputs": [],
   "source": [
    "# Print GB Model Accuracy on testing data:\n",
    "# print(f'GB Model with depth 45 -  Accuracy on testing data: \\\n",
    "#       {GB_model_35_20.score(X_test, y_test)}')"
   ]
  },
  {
   "cell_type": "markdown",
   "metadata": {},
   "source": [
    "# Next Steps"
   ]
  },
  {
   "cell_type": "markdown",
   "metadata": {},
   "source": [
    "### Data tuning approaches"
   ]
  },
  {
   "cell_type": "code",
   "execution_count": null,
   "metadata": {},
   "outputs": [],
   "source": [
    "# There are so many Department Descriptions, many of them could be merged.\n",
    "# Example- Mens-Wear and Menswear could be merged\n",
    "# Other similar categories could be merged\n",
    "# This could be the right approach as we are interested in properly classifying the TripType"
   ]
  },
  {
   "cell_type": "code",
   "execution_count": null,
   "metadata": {},
   "outputs": [],
   "source": [
    "# In this dataset, each item purchased is represented as a record. \n",
    "# It would help a lot if we could create a feature containing number of items purchases in each trip"
   ]
  },
  {
   "cell_type": "code",
   "execution_count": null,
   "metadata": {},
   "outputs": [],
   "source": [
    "# Class imbalanced treatment could help, possibly oversampling of minority classes"
   ]
  },
  {
   "cell_type": "code",
   "execution_count": null,
   "metadata": {},
   "outputs": [],
   "source": [
    "# Further feature Engineering approaches would definitely help improve the model performance"
   ]
  },
  {
   "cell_type": "markdown",
   "metadata": {},
   "source": [
    "### Model Tuning Approaches"
   ]
  },
  {
   "cell_type": "code",
   "execution_count": null,
   "metadata": {},
   "outputs": [],
   "source": [
    "# Looking at different error metrics should also give some more insight on what is it that we are not classifying correctly\n",
    "# Hyperparameter Tuning with GridSearch can help improve the model performance a little more\n",
    "# Instead of Random Forest, Gradient boosting or XGBoost would definitely perform a lot better\n",
    "# NeuralNets could also perform well in this dataset\n",
    "# Other Ensemble models and stacking approaches should also help increase the model performance"
   ]
  },
  {
   "cell_type": "code",
   "execution_count": null,
   "metadata": {},
   "outputs": [],
   "source": []
  }
 ],
 "metadata": {
  "kernelspec": {
   "display_name": "Python 3",
   "language": "python",
   "name": "python3"
  },
  "language_info": {
   "codemirror_mode": {
    "name": "ipython",
    "version": 3
   },
   "file_extension": ".py",
   "mimetype": "text/x-python",
   "name": "python",
   "nbconvert_exporter": "python",
   "pygments_lexer": "ipython3",
   "version": "3.7.3"
  }
 },
 "nbformat": 4,
 "nbformat_minor": 2
}
